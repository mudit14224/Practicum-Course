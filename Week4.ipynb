{
  "cells": [
    {
      "cell_type": "markdown",
      "metadata": {
        "id": "WO_Pi9tQ99jR"
      },
      "source": [
        "# Week 4 - Models and Experimentation\n",
        "\n",
        "## Step 1 Training a model\n",
        "\n",
        "For the purposes of this demo, we will be using this [adapted demo](https://www.datacamp.com/tutorial/xgboost-in-python) and training an XGBoost model, and then doing some experimentation and hyperparameter tuning.\n",
        "\n",
        "\n",
        "If running this notebook locally, use the following steps to create virtual environment:\n",
        "- Don't use past python 3.10\n",
        "- To create virtual environment use \"venv\"\n",
        "\n",
        "`python -m venv NAME`\n",
        "\n",
        "- Try to avoid anaconda, poetry or similar package management platforms\n",
        "- To install a package use pip\n",
        "\n",
        "`python -m pip install <package-name>`\n",
        "\n",
        "- once you are done working with this virtual environment, deactivate it with `deactivate`"
      ]
    },
    {
      "cell_type": "markdown",
      "metadata": {
        "id": "9fdJQSzCB9QN"
      },
      "source": [
        "### Install packages"
      ]
    },
    {
      "cell_type": "code",
      "execution_count": 1,
      "metadata": {
        "id": "OA27Hq8m9MUQ"
      },
      "outputs": [],
      "source": [
        "# !pip install wandb -qU"
      ]
    },
    {
      "cell_type": "code",
      "execution_count": 2,
      "metadata": {
        "id": "nWPjdRWdCa_c"
      },
      "outputs": [],
      "source": [
        "import xgboost as xgb\n",
        "import pandas as pd\n",
        "import numpy as np\n",
        "import seaborn as sns\n",
        "import matplotlib.pyplot as plt\n",
        "from sklearn.model_selection import train_test_split\n",
        "from sklearn.metrics import mean_squared_error\n"
      ]
    },
    {
      "cell_type": "markdown",
      "metadata": {
        "id": "pN3B41RPCjpk"
      },
      "source": [
        "### Import data\n",
        "\n",
        "We will be using Diamonds dataset imported from Seaborn. It is also available on [Kaggle](https://www.kaggle.com/datasets/shivam2503/diamonds).\n",
        "\n",
        "Read about the features by following the link. We will be predicting the price of diamonds."
      ]
    },
    {
      "cell_type": "code",
      "execution_count": 3,
      "metadata": {
        "colab": {
          "base_uri": "https://localhost:8080/",
          "height": 206
        },
        "id": "xqi0nueWC9u1",
        "outputId": "4dd2eb98-c95e-44a7-ae05-45d6c51caa68"
      },
      "outputs": [
        {
          "data": {
            "text/html": [
              "<div>\n",
              "<style scoped>\n",
              "    .dataframe tbody tr th:only-of-type {\n",
              "        vertical-align: middle;\n",
              "    }\n",
              "\n",
              "    .dataframe tbody tr th {\n",
              "        vertical-align: top;\n",
              "    }\n",
              "\n",
              "    .dataframe thead th {\n",
              "        text-align: right;\n",
              "    }\n",
              "</style>\n",
              "<table border=\"1\" class=\"dataframe\">\n",
              "  <thead>\n",
              "    <tr style=\"text-align: right;\">\n",
              "      <th></th>\n",
              "      <th>carat</th>\n",
              "      <th>cut</th>\n",
              "      <th>color</th>\n",
              "      <th>clarity</th>\n",
              "      <th>depth</th>\n",
              "      <th>table</th>\n",
              "      <th>price</th>\n",
              "      <th>x</th>\n",
              "      <th>y</th>\n",
              "      <th>z</th>\n",
              "    </tr>\n",
              "  </thead>\n",
              "  <tbody>\n",
              "    <tr>\n",
              "      <th>0</th>\n",
              "      <td>0.23</td>\n",
              "      <td>Ideal</td>\n",
              "      <td>E</td>\n",
              "      <td>SI2</td>\n",
              "      <td>61.5</td>\n",
              "      <td>55.0</td>\n",
              "      <td>326</td>\n",
              "      <td>3.95</td>\n",
              "      <td>3.98</td>\n",
              "      <td>2.43</td>\n",
              "    </tr>\n",
              "    <tr>\n",
              "      <th>1</th>\n",
              "      <td>0.21</td>\n",
              "      <td>Premium</td>\n",
              "      <td>E</td>\n",
              "      <td>SI1</td>\n",
              "      <td>59.8</td>\n",
              "      <td>61.0</td>\n",
              "      <td>326</td>\n",
              "      <td>3.89</td>\n",
              "      <td>3.84</td>\n",
              "      <td>2.31</td>\n",
              "    </tr>\n",
              "    <tr>\n",
              "      <th>2</th>\n",
              "      <td>0.23</td>\n",
              "      <td>Good</td>\n",
              "      <td>E</td>\n",
              "      <td>VS1</td>\n",
              "      <td>56.9</td>\n",
              "      <td>65.0</td>\n",
              "      <td>327</td>\n",
              "      <td>4.05</td>\n",
              "      <td>4.07</td>\n",
              "      <td>2.31</td>\n",
              "    </tr>\n",
              "    <tr>\n",
              "      <th>3</th>\n",
              "      <td>0.29</td>\n",
              "      <td>Premium</td>\n",
              "      <td>I</td>\n",
              "      <td>VS2</td>\n",
              "      <td>62.4</td>\n",
              "      <td>58.0</td>\n",
              "      <td>334</td>\n",
              "      <td>4.20</td>\n",
              "      <td>4.23</td>\n",
              "      <td>2.63</td>\n",
              "    </tr>\n",
              "    <tr>\n",
              "      <th>4</th>\n",
              "      <td>0.31</td>\n",
              "      <td>Good</td>\n",
              "      <td>J</td>\n",
              "      <td>SI2</td>\n",
              "      <td>63.3</td>\n",
              "      <td>58.0</td>\n",
              "      <td>335</td>\n",
              "      <td>4.34</td>\n",
              "      <td>4.35</td>\n",
              "      <td>2.75</td>\n",
              "    </tr>\n",
              "  </tbody>\n",
              "</table>\n",
              "</div>"
            ],
            "text/plain": [
              "   carat      cut color clarity  depth  table  price     x     y     z\n",
              "0   0.23    Ideal     E     SI2   61.5   55.0    326  3.95  3.98  2.43\n",
              "1   0.21  Premium     E     SI1   59.8   61.0    326  3.89  3.84  2.31\n",
              "2   0.23     Good     E     VS1   56.9   65.0    327  4.05  4.07  2.31\n",
              "3   0.29  Premium     I     VS2   62.4   58.0    334  4.20  4.23  2.63\n",
              "4   0.31     Good     J     SI2   63.3   58.0    335  4.34  4.35  2.75"
            ]
          },
          "execution_count": 3,
          "metadata": {},
          "output_type": "execute_result"
        }
      ],
      "source": [
        "diamonds = sns.load_dataset('diamonds')\n",
        "diamonds.head()"
      ]
    },
    {
      "cell_type": "code",
      "execution_count": 4,
      "metadata": {
        "colab": {
          "base_uri": "https://localhost:8080/"
        },
        "id": "9eXufssNFjwj",
        "outputId": "517b419b-5d3a-4d67-8fcb-c515d3e71df5"
      },
      "outputs": [
        {
          "name": "stdout",
          "output_type": "stream",
          "text": [
            "<class 'pandas.core.frame.DataFrame'>\n",
            "RangeIndex: 53940 entries, 0 to 53939\n",
            "Data columns (total 10 columns):\n",
            " #   Column   Non-Null Count  Dtype   \n",
            "---  ------   --------------  -----   \n",
            " 0   carat    53940 non-null  float64 \n",
            " 1   cut      53940 non-null  category\n",
            " 2   color    53940 non-null  category\n",
            " 3   clarity  53940 non-null  category\n",
            " 4   depth    53940 non-null  float64 \n",
            " 5   table    53940 non-null  float64 \n",
            " 6   price    53940 non-null  int64   \n",
            " 7   x        53940 non-null  float64 \n",
            " 8   y        53940 non-null  float64 \n",
            " 9   z        53940 non-null  float64 \n",
            "dtypes: category(3), float64(6), int64(1)\n",
            "memory usage: 3.0 MB\n"
          ]
        }
      ],
      "source": [
        "diamonds.info()"
      ]
    },
    {
      "cell_type": "code",
      "execution_count": 5,
      "metadata": {
        "colab": {
          "base_uri": "https://localhost:8080/"
        },
        "id": "Cgzl6cOMFl1i",
        "outputId": "5c9f52ed-5843-4554-e36a-96b7d4ef5e7c"
      },
      "outputs": [
        {
          "data": {
            "text/plain": [
              "(53940, 10)"
            ]
          },
          "execution_count": 5,
          "metadata": {},
          "output_type": "execute_result"
        }
      ],
      "source": [
        "diamonds.shape"
      ]
    },
    {
      "cell_type": "code",
      "execution_count": 6,
      "metadata": {
        "id": "58GvwvXAFnfE"
      },
      "outputs": [],
      "source": [
        "X,y = diamonds.drop('price', axis=1), diamonds[['price']]\n",
        "\n",
        "# For the cut, color and clarity use pandas category to enable XGBoost ability to deal with categorical data.\n",
        "\n",
        "X['cut'] = X['cut'].astype('category')\n",
        "X['color'] = X['color'].astype('category')\n",
        "X['clarity'] = X['clarity'].astype('category')"
      ]
    },
    {
      "cell_type": "markdown",
      "metadata": {
        "id": "jdvS36e5NC77"
      },
      "source": [
        "### Split the data and train a model"
      ]
    },
    {
      "cell_type": "code",
      "execution_count": 7,
      "metadata": {
        "id": "eviT-vNcG4Ed"
      },
      "outputs": [],
      "source": [
        "# Split the data\n",
        "X_train, X_test, y_train, y_test = train_test_split(X, y, test_size=0.2, random_state=42)\n",
        "\n",
        "# Create DMatrix\n",
        "dtrain = xgb.DMatrix(X_train, label=y_train, enable_categorical=True)\n",
        "dtest = xgb.DMatrix(X_test, label=y_test, enable_categorical=True)"
      ]
    },
    {
      "cell_type": "code",
      "execution_count": 8,
      "metadata": {
        "colab": {
          "base_uri": "https://localhost:8080/"
        },
        "id": "5nHCXUzNHxhQ",
        "outputId": "75b819aa-f110-4ea4-c371-09f508c15bed"
      },
      "outputs": [],
      "source": [
        "# Define hyperparameters\n",
        "# Changing tree method\n",
        "params = {\"objective\": \"reg:squarederror\", \"tree_method\": \"hist\"}\n",
        "\n",
        "n = 100\n",
        "model = xgb.train(\n",
        "   params=params,\n",
        "   dtrain=dtrain,\n",
        "   num_boost_round=n,\n",
        ")"
      ]
    },
    {
      "cell_type": "code",
      "execution_count": 9,
      "metadata": {
        "colab": {
          "base_uri": "https://localhost:8080/"
        },
        "id": "w26fYyTmHbxT",
        "outputId": "8dbab927-df17-41d0-bbda-b53825ec3e8e"
      },
      "outputs": [
        {
          "name": "stdout",
          "output_type": "stream",
          "text": [
            "RMSE: 545.191877397669\n"
          ]
        }
      ],
      "source": [
        "# Define evaluation metrics - Root Mean Squared Error\n",
        "\n",
        "predictions = model.predict(dtest)\n",
        "rmse = mean_squared_error(y_test, predictions, squared=False)\n",
        "print(f\"RMSE: {rmse}\")"
      ]
    },
    {
      "cell_type": "markdown",
      "metadata": {
        "id": "OfqyuB7qNIQZ"
      },
      "source": [
        "### Incorporate validation"
      ]
    },
    {
      "cell_type": "code",
      "execution_count": 10,
      "metadata": {
        "id": "1onp1yEfM9cg"
      },
      "outputs": [],
      "source": [
        "params = {\"objective\": \"reg:squarederror\", \"tree_method\": \"hist\"}\n",
        "n = 100\n",
        "\n",
        "# Create the validation set\n",
        "evals = [(dtrain, \"train\"), (dtest, \"validation\")]"
      ]
    },
    {
      "cell_type": "code",
      "execution_count": 11,
      "metadata": {
        "colab": {
          "base_uri": "https://localhost:8080/"
        },
        "id": "9btf-kzwNfZT",
        "outputId": "01bb02c8-4955-4c87-9b43-d930ccbfa90d"
      },
      "outputs": [
        {
          "name": "stdout",
          "output_type": "stream",
          "text": [
            "[0]\ttrain-rmse:2861.71326\tvalidation-rmse:2853.85688\n",
            "[10]\ttrain-rmse:554.29819\tvalidation-rmse:579.26422\n",
            "[20]\ttrain-rmse:493.68077\tvalidation-rmse:547.75493\n",
            "[30]\ttrain-rmse:467.32713\tvalidation-rmse:540.03567\n",
            "[40]\ttrain-rmse:447.40974\tvalidation-rmse:541.70531\n",
            "[50]\ttrain-rmse:432.62075\tvalidation-rmse:540.89769\n",
            "[60]\ttrain-rmse:422.28318\tvalidation-rmse:540.63039\n",
            "[70]\ttrain-rmse:410.72350\tvalidation-rmse:543.67077\n",
            "[80]\ttrain-rmse:398.24619\tvalidation-rmse:545.08296\n",
            "[90]\ttrain-rmse:386.92486\tvalidation-rmse:543.90036\n",
            "[99]\ttrain-rmse:379.58717\tvalidation-rmse:545.19188\n"
          ]
        }
      ],
      "source": [
        "evals = [(dtrain, \"train\"), (dtest, \"validation\")]\n",
        "\n",
        "model = xgb.train(\n",
        "   params=params,\n",
        "   dtrain=dtrain,\n",
        "   num_boost_round=n,\n",
        "   evals=evals,\n",
        "   verbose_eval=10,\n",
        ")"
      ]
    },
    {
      "cell_type": "code",
      "execution_count": 12,
      "metadata": {
        "colab": {
          "base_uri": "https://localhost:8080/"
        },
        "id": "a2fGIQRPN4Bg",
        "outputId": "364f769c-67c6-4016-cee1-d33d6a0fef5f"
      },
      "outputs": [
        {
          "name": "stdout",
          "output_type": "stream",
          "text": [
            "[0]\ttrain-rmse:2861.71326\tvalidation-rmse:2853.85688\n"
          ]
        },
        {
          "name": "stdout",
          "output_type": "stream",
          "text": [
            "[50]\ttrain-rmse:432.62075\tvalidation-rmse:540.89769\n",
            "[83]\ttrain-rmse:393.82435\tvalidation-rmse:544.68591\n"
          ]
        }
      ],
      "source": [
        "# Incorporate early stopping\n",
        "n = 10000\n",
        "\n",
        "\n",
        "model = xgb.train(\n",
        "   params=params,\n",
        "   dtrain=dtrain,\n",
        "   num_boost_round=n,\n",
        "   evals=evals,\n",
        "   verbose_eval=50,\n",
        "   # Activate early stopping\n",
        "   early_stopping_rounds=50\n",
        ")"
      ]
    },
    {
      "cell_type": "code",
      "execution_count": 13,
      "metadata": {
        "colab": {
          "base_uri": "https://localhost:8080/"
        },
        "id": "FmPP6YI7OMq7",
        "outputId": "febe4241-23d6-44fe-cc9d-f111e37dd153"
      },
      "outputs": [],
      "source": [
        "# Cross-validation\n",
        "\n",
        "params = {\"objective\": \"reg:squarederror\", \"tree_method\": \"hist\"}\n",
        "n = 1000\n",
        "\n",
        "results = xgb.cv(\n",
        "   params, dtrain,\n",
        "   num_boost_round=n,\n",
        "   nfold=5,\n",
        "   early_stopping_rounds=20\n",
        ")\n"
      ]
    },
    {
      "cell_type": "code",
      "execution_count": 14,
      "metadata": {
        "colab": {
          "base_uri": "https://localhost:8080/",
          "height": 206
        },
        "id": "dhppagDVOWZ0",
        "outputId": "1943edc5-3105-4328-fc7e-a5d2462127f1"
      },
      "outputs": [
        {
          "data": {
            "text/html": [
              "<div>\n",
              "<style scoped>\n",
              "    .dataframe tbody tr th:only-of-type {\n",
              "        vertical-align: middle;\n",
              "    }\n",
              "\n",
              "    .dataframe tbody tr th {\n",
              "        vertical-align: top;\n",
              "    }\n",
              "\n",
              "    .dataframe thead th {\n",
              "        text-align: right;\n",
              "    }\n",
              "</style>\n",
              "<table border=\"1\" class=\"dataframe\">\n",
              "  <thead>\n",
              "    <tr style=\"text-align: right;\">\n",
              "      <th></th>\n",
              "      <th>train-rmse-mean</th>\n",
              "      <th>train-rmse-std</th>\n",
              "      <th>test-rmse-mean</th>\n",
              "      <th>test-rmse-std</th>\n",
              "    </tr>\n",
              "  </thead>\n",
              "  <tbody>\n",
              "    <tr>\n",
              "      <th>0</th>\n",
              "      <td>2861.512810</td>\n",
              "      <td>8.494816</td>\n",
              "      <td>2861.704341</td>\n",
              "      <td>37.144992</td>\n",
              "    </tr>\n",
              "    <tr>\n",
              "      <th>1</th>\n",
              "      <td>2081.847733</td>\n",
              "      <td>5.811005</td>\n",
              "      <td>2084.838207</td>\n",
              "      <td>31.889208</td>\n",
              "    </tr>\n",
              "    <tr>\n",
              "      <th>2</th>\n",
              "      <td>1547.031906</td>\n",
              "      <td>5.092391</td>\n",
              "      <td>1554.657450</td>\n",
              "      <td>30.699908</td>\n",
              "    </tr>\n",
              "    <tr>\n",
              "      <th>3</th>\n",
              "      <td>1184.129738</td>\n",
              "      <td>3.982239</td>\n",
              "      <td>1194.251600</td>\n",
              "      <td>26.940062</td>\n",
              "    </tr>\n",
              "    <tr>\n",
              "      <th>4</th>\n",
              "      <td>942.998782</td>\n",
              "      <td>3.327174</td>\n",
              "      <td>960.239319</td>\n",
              "      <td>24.392689</td>\n",
              "    </tr>\n",
              "  </tbody>\n",
              "</table>\n",
              "</div>"
            ],
            "text/plain": [
              "   train-rmse-mean  train-rmse-std  test-rmse-mean  test-rmse-std\n",
              "0      2861.512810        8.494816     2861.704341      37.144992\n",
              "1      2081.847733        5.811005     2084.838207      31.889208\n",
              "2      1547.031906        5.092391     1554.657450      30.699908\n",
              "3      1184.129738        3.982239     1194.251600      26.940062\n",
              "4       942.998782        3.327174      960.239319      24.392689"
            ]
          },
          "execution_count": 14,
          "metadata": {},
          "output_type": "execute_result"
        }
      ],
      "source": [
        "results.head()"
      ]
    },
    {
      "cell_type": "code",
      "execution_count": 15,
      "metadata": {
        "colab": {
          "base_uri": "https://localhost:8080/"
        },
        "id": "COZyldTfOaWI",
        "outputId": "c3156b16-a6da-4ffc-caf4-a7334aadc6cd"
      },
      "outputs": [
        {
          "data": {
            "text/plain": [
              "553.4613038243663"
            ]
          },
          "execution_count": 15,
          "metadata": {},
          "output_type": "execute_result"
        }
      ],
      "source": [
        "best_rmse = results['test-rmse-mean'].min()\n",
        "\n",
        "best_rmse"
      ]
    },
    {
      "cell_type": "markdown",
      "metadata": {
        "id": "VQNEcz4kF2ng"
      },
      "source": [
        "## Start W&B\n",
        "\n",
        "\n",
        "- Login into your W&B profile using the code below\n",
        "- Alternatively you can set environment variables. There are several env variables which you can set to change the behavior of W&B logging. The most important are:\n",
        "    - WANDB_API_KEY - find this in your \"Settings\" section under your profile\n",
        "    - WANDB_BASE_URL - this is the url of the W&B server\n",
        "\n",
        "- Find your API Token in \"Profile\" -> \"Setttings\" in the W&B App\n",
        "\n"
      ]
    },
    {
      "cell_type": "code",
      "execution_count": 16,
      "metadata": {
        "id": "ftmEQ-keSZ87"
      },
      "outputs": [
        {
          "name": "stderr",
          "output_type": "stream",
          "text": [
            "Failed to detect the name of this notebook, you can set it manually with the WANDB_NOTEBOOK_NAME environment variable to enable code saving.\n",
            "\u001b[34m\u001b[1mwandb\u001b[0m: Currently logged in as: \u001b[33mmudit14224\u001b[0m (\u001b[33mmuditjindal2025\u001b[0m). Use \u001b[1m`wandb login --relogin`\u001b[0m to force relogin\n"
          ]
        },
        {
          "data": {
            "text/plain": [
              "True"
            ]
          },
          "execution_count": 16,
          "metadata": {},
          "output_type": "execute_result"
        }
      ],
      "source": [
        "# Log in to your W&B account\n",
        "import wandb\n",
        "\n",
        "wandb.login()"
      ]
    },
    {
      "cell_type": "code",
      "execution_count": 17,
      "metadata": {
        "id": "MZL8jjiWUnkS"
      },
      "outputs": [],
      "source": [
        "# TO DO\n",
        "# Start experiment tracking with W&B\n",
        "# Do at least 5 experiments with various hyperparameters\n",
        "# Choose any method for hyperparameter tuning: grid search, random search, bayesian search\n",
        "# Describe your findings and what you see"
      ]
    },
    {
      "cell_type": "code",
      "execution_count": 17,
      "metadata": {},
      "outputs": [],
      "source": [
        "from wandb.xgboost import WandbCallback"
      ]
    },
    {
      "cell_type": "code",
      "execution_count": 24,
      "metadata": {},
      "outputs": [
        {
          "data": {
            "text/html": [
              "Finishing last run (ID:nfa4m7cf) before initializing another..."
            ],
            "text/plain": [
              "<IPython.core.display.HTML object>"
            ]
          },
          "metadata": {},
          "output_type": "display_data"
        },
        {
          "data": {
            "application/vnd.jupyter.widget-view+json": {
              "model_id": "a56c51e6b02a42a48a25166c9ef19ce5",
              "version_major": 2,
              "version_minor": 0
            },
            "text/plain": [
              "VBox(children=(Label(value='0.390 MB of 0.390 MB uploaded\\r'), FloatProgress(value=1.0, max=1.0)))"
            ]
          },
          "metadata": {},
          "output_type": "display_data"
        },
        {
          "data": {
            "text/html": [
              "<style>\n",
              "    table.wandb td:nth-child(1) { padding: 0 10px; text-align: left ; width: auto;} td:nth-child(2) {text-align: left ; width: 100%}\n",
              "    .wandb-row { display: flex; flex-direction: row; flex-wrap: wrap; justify-content: flex-start; width: 100% }\n",
              "    .wandb-col { display: flex; flex-direction: column; flex-basis: 100%; flex: 1; padding: 10px; }\n",
              "    </style>\n",
              "<div class=\"wandb-row\"><div class=\"wandb-col\"><h3>Run history:</h3><br/><table class=\"wandb\"><tr><td>epoch</td><td>▁▁▁▁▂▂▂▂▂▃▃▃▃▃▃▄▄▄▄▄▅▅▅▅▅▅▆▆▆▆▆▆▇▇▇▇▇███</td></tr></table><br/></div><div class=\"wandb-col\"><h3>Run summary:</h3><br/><table class=\"wandb\"><tr><td>epoch</td><td>49</td></tr></table><br/></div></div>"
            ],
            "text/plain": [
              "<IPython.core.display.HTML object>"
            ]
          },
          "metadata": {},
          "output_type": "display_data"
        },
        {
          "data": {
            "text/html": [
              " View run <strong style=\"color:#cdcd00\">run_2</strong> at: <a href='https://wandb.ai/muditjindal2025/xgboost-runs/runs/nfa4m7cf' target=\"_blank\">https://wandb.ai/muditjindal2025/xgboost-runs/runs/nfa4m7cf</a><br/> View project at: <a href='https://wandb.ai/muditjindal2025/xgboost-runs' target=\"_blank\">https://wandb.ai/muditjindal2025/xgboost-runs</a><br/>Synced 5 W&B file(s), 1 media file(s), 2 artifact file(s) and 1 other file(s)"
            ],
            "text/plain": [
              "<IPython.core.display.HTML object>"
            ]
          },
          "metadata": {},
          "output_type": "display_data"
        },
        {
          "data": {
            "text/html": [
              "Find logs at: <code>./wandb/run-20240422_095424-nfa4m7cf/logs</code>"
            ],
            "text/plain": [
              "<IPython.core.display.HTML object>"
            ]
          },
          "metadata": {},
          "output_type": "display_data"
        },
        {
          "data": {
            "text/html": [
              "Successfully finished last run (ID:nfa4m7cf). Initializing new run:<br/>"
            ],
            "text/plain": [
              "<IPython.core.display.HTML object>"
            ]
          },
          "metadata": {},
          "output_type": "display_data"
        },
        {
          "data": {
            "application/vnd.jupyter.widget-view+json": {
              "model_id": "f625d7fa4e724fb0be6bfd18d6e19710",
              "version_major": 2,
              "version_minor": 0
            },
            "text/plain": [
              "VBox(children=(Label(value='Waiting for wandb.init()...\\r'), FloatProgress(value=0.011138179633336322, max=1.0…"
            ]
          },
          "metadata": {},
          "output_type": "display_data"
        },
        {
          "data": {
            "text/html": [
              "Tracking run with wandb version 0.16.6"
            ],
            "text/plain": [
              "<IPython.core.display.HTML object>"
            ]
          },
          "metadata": {},
          "output_type": "display_data"
        },
        {
          "data": {
            "text/html": [
              "Run data is saved locally in <code>/Users/muditjindal/Downloads/wandb/run-20240422_095652-cwahkgt2</code>"
            ],
            "text/plain": [
              "<IPython.core.display.HTML object>"
            ]
          },
          "metadata": {},
          "output_type": "display_data"
        },
        {
          "data": {
            "text/html": [
              "Syncing run <strong><a href='https://wandb.ai/muditjindal2025/xgboost-runs/runs/cwahkgt2' target=\"_blank\">run_1</a></strong> to <a href='https://wandb.ai/muditjindal2025/xgboost-runs' target=\"_blank\">Weights & Biases</a> (<a href='https://wandb.me/run' target=\"_blank\">docs</a>)<br/>"
            ],
            "text/plain": [
              "<IPython.core.display.HTML object>"
            ]
          },
          "metadata": {},
          "output_type": "display_data"
        },
        {
          "data": {
            "text/html": [
              " View project at <a href='https://wandb.ai/muditjindal2025/xgboost-runs' target=\"_blank\">https://wandb.ai/muditjindal2025/xgboost-runs</a>"
            ],
            "text/plain": [
              "<IPython.core.display.HTML object>"
            ]
          },
          "metadata": {},
          "output_type": "display_data"
        },
        {
          "data": {
            "text/html": [
              " View run at <a href='https://wandb.ai/muditjindal2025/xgboost-runs/runs/cwahkgt2' target=\"_blank\">https://wandb.ai/muditjindal2025/xgboost-runs/runs/cwahkgt2</a>"
            ],
            "text/plain": [
              "<IPython.core.display.HTML object>"
            ]
          },
          "metadata": {},
          "output_type": "display_data"
        },
        {
          "name": "stdout",
          "output_type": "stream",
          "text": [
            "RMSE: 545.191877397669\n"
          ]
        }
      ],
      "source": [
        "wandb.init(\n",
        "    project=\"xgboost-runs\",\n",
        "    name=\"run_1\",\n",
        "    config={\n",
        "        \"model\": \"xgboost\",\n",
        "        \"dataset\": \"diamonds\",\n",
        "    }\n",
        ")\n",
        "# Define hyperparameters\n",
        "params = {\"objective\": \"reg:squarederror\", \"tree_method\": \"hist\"}\n",
        "\n",
        "n = 100\n",
        "model = xgb.train(\n",
        "   params=params,\n",
        "   dtrain=dtrain,\n",
        "   num_boost_round=n,\n",
        "   callbacks=[WandbCallback(log_model=True)]\n",
        ")\n",
        "\n",
        "predictions = model.predict(dtest)\n",
        "rmse = mean_squared_error(y_test, predictions, squared=False)\n",
        "print(f\"RMSE: {rmse}\")\n",
        "wandb.log({\"RMSE\": rmse})"
      ]
    },
    {
      "cell_type": "code",
      "execution_count": 28,
      "metadata": {},
      "outputs": [
        {
          "data": {
            "text/html": [
              "Finishing last run (ID:sar5hfk9) before initializing another..."
            ],
            "text/plain": [
              "<IPython.core.display.HTML object>"
            ]
          },
          "metadata": {},
          "output_type": "display_data"
        },
        {
          "data": {
            "application/vnd.jupyter.widget-view+json": {
              "model_id": "c22cf275a83f4aa6a02e870c000f820e",
              "version_major": 2,
              "version_minor": 0
            },
            "text/plain": [
              "VBox(children=(Label(value='1.207 MB of 1.207 MB uploaded\\r'), FloatProgress(value=1.0, max=1.0)))"
            ]
          },
          "metadata": {},
          "output_type": "display_data"
        },
        {
          "data": {
            "text/html": [
              "<style>\n",
              "    table.wandb td:nth-child(1) { padding: 0 10px; text-align: left ; width: auto;} td:nth-child(2) {text-align: left ; width: 100%}\n",
              "    .wandb-row { display: flex; flex-direction: row; flex-wrap: wrap; justify-content: flex-start; width: 100% }\n",
              "    .wandb-col { display: flex; flex-direction: column; flex-basis: 100%; flex: 1; padding: 10px; }\n",
              "    </style>\n",
              "<div class=\"wandb-row\"><div class=\"wandb-col\"><h3>Run history:</h3><br/><table class=\"wandb\"><tr><td>RMSE Test</td><td>▁</td></tr><tr><td>epoch</td><td>▁▁▁▁▂▂▂▂▂▃▃▃▃▃▃▄▄▄▄▄▅▅▅▅▅▅▆▆▆▆▆▆▇▇▇▇▇███</td></tr><tr><td>train-rmse</td><td>████▇▇▇▇▆▆▆▅▅▅▅▅▅▅▅▄▄▄▄▄▃▃▃▃▂▂▂▂▂▂▂▂▁▁▁▁</td></tr><tr><td>validation-rmse</td><td>████▇▇▇▇▆▆▆▅▅▅▅▅▅▅▅▄▄▄▄▄▃▃▃▃▂▂▂▂▂▂▂▂▁▁▁▁</td></tr></table><br/></div><div class=\"wandb-col\"><h3>Run summary:</h3><br/><table class=\"wandb\"><tr><td>RMSE Test</td><td>3029.40748</td></tr><tr><td>epoch</td><td>49</td></tr></table><br/></div></div>"
            ],
            "text/plain": [
              "<IPython.core.display.HTML object>"
            ]
          },
          "metadata": {},
          "output_type": "display_data"
        },
        {
          "data": {
            "text/html": [
              " View run <strong style=\"color:#cdcd00\">run_3</strong> at: <a href='https://wandb.ai/muditjindal2025/xgboost-runs/runs/sar5hfk9' target=\"_blank\">https://wandb.ai/muditjindal2025/xgboost-runs/runs/sar5hfk9</a><br/> View project at: <a href='https://wandb.ai/muditjindal2025/xgboost-runs' target=\"_blank\">https://wandb.ai/muditjindal2025/xgboost-runs</a><br/>Synced 6 W&B file(s), 1 media file(s), 2 artifact file(s) and 1 other file(s)"
            ],
            "text/plain": [
              "<IPython.core.display.HTML object>"
            ]
          },
          "metadata": {},
          "output_type": "display_data"
        },
        {
          "data": {
            "text/html": [
              "Find logs at: <code>./wandb/run-20240422_100828-sar5hfk9/logs</code>"
            ],
            "text/plain": [
              "<IPython.core.display.HTML object>"
            ]
          },
          "metadata": {},
          "output_type": "display_data"
        },
        {
          "data": {
            "text/html": [
              "Successfully finished last run (ID:sar5hfk9). Initializing new run:<br/>"
            ],
            "text/plain": [
              "<IPython.core.display.HTML object>"
            ]
          },
          "metadata": {},
          "output_type": "display_data"
        },
        {
          "data": {
            "application/vnd.jupyter.widget-view+json": {
              "model_id": "5ce65d7e2f3e41daadf751ae5cfcc1bf",
              "version_major": 2,
              "version_minor": 0
            },
            "text/plain": [
              "VBox(children=(Label(value='Waiting for wandb.init()...\\r'), FloatProgress(value=0.01116733008888736, max=1.0)…"
            ]
          },
          "metadata": {},
          "output_type": "display_data"
        },
        {
          "data": {
            "text/html": [
              "Tracking run with wandb version 0.16.6"
            ],
            "text/plain": [
              "<IPython.core.display.HTML object>"
            ]
          },
          "metadata": {},
          "output_type": "display_data"
        },
        {
          "data": {
            "text/html": [
              "Run data is saved locally in <code>/Users/muditjindal/Downloads/wandb/run-20240422_101817-ios6ffqj</code>"
            ],
            "text/plain": [
              "<IPython.core.display.HTML object>"
            ]
          },
          "metadata": {},
          "output_type": "display_data"
        },
        {
          "data": {
            "text/html": [
              "Syncing run <strong><a href='https://wandb.ai/muditjindal2025/xgboost-runs/runs/ios6ffqj' target=\"_blank\">run_2</a></strong> to <a href='https://wandb.ai/muditjindal2025/xgboost-runs' target=\"_blank\">Weights & Biases</a> (<a href='https://wandb.me/run' target=\"_blank\">docs</a>)<br/>"
            ],
            "text/plain": [
              "<IPython.core.display.HTML object>"
            ]
          },
          "metadata": {},
          "output_type": "display_data"
        },
        {
          "data": {
            "text/html": [
              " View project at <a href='https://wandb.ai/muditjindal2025/xgboost-runs' target=\"_blank\">https://wandb.ai/muditjindal2025/xgboost-runs</a>"
            ],
            "text/plain": [
              "<IPython.core.display.HTML object>"
            ]
          },
          "metadata": {},
          "output_type": "display_data"
        },
        {
          "data": {
            "text/html": [
              " View run at <a href='https://wandb.ai/muditjindal2025/xgboost-runs/runs/ios6ffqj' target=\"_blank\">https://wandb.ai/muditjindal2025/xgboost-runs/runs/ios6ffqj</a>"
            ],
            "text/plain": [
              "<IPython.core.display.HTML object>"
            ]
          },
          "metadata": {},
          "output_type": "display_data"
        },
        {
          "name": "stdout",
          "output_type": "stream",
          "text": [
            "RMSE: 535.4199312398769\n"
          ]
        }
      ],
      "source": [
        "# Changing the hyperparameters\n",
        "wandb.init(\n",
        "    project=\"xgboost-runs\",\n",
        "    name=\"run_2\",\n",
        "    config={\n",
        "        \"model\": \"xgboost\",\n",
        "        \"dataset\": \"diamonds\",\n",
        "        \"max_depth\": 5,\n",
        "        \"alpha\": 10,\n",
        "        \"learning_rate\": 0.1\n",
        "    }\n",
        ")\n",
        "# Define hyperparameters\n",
        "params = {\"objective\": \"reg:squarederror\", \"tree_method\": \"hist\", \n",
        "          \"max_depth\":5, \"alpha\":10, \"learning_rate\": 0.1}\n",
        "\n",
        "n = 100\n",
        "model = xgb.train(\n",
        "   params=params,\n",
        "   dtrain=dtrain,\n",
        "   num_boost_round=n,\n",
        "   callbacks=[WandbCallback(log_model=True)]\n",
        ")\n",
        "\n",
        "predictions = model.predict(dtest)\n",
        "rmse = mean_squared_error(y_test, predictions, squared=False)\n",
        "print(f\"RMSE: {rmse}\")\n",
        "wandb.log({\"RMSE\": rmse})\n"
      ]
    },
    {
      "cell_type": "code",
      "execution_count": 29,
      "metadata": {},
      "outputs": [
        {
          "data": {
            "text/html": [
              "Finishing last run (ID:ios6ffqj) before initializing another..."
            ],
            "text/plain": [
              "<IPython.core.display.HTML object>"
            ]
          },
          "metadata": {},
          "output_type": "display_data"
        },
        {
          "data": {
            "application/vnd.jupyter.widget-view+json": {
              "model_id": "56a5f19028a7442285e5176a30007fa4",
              "version_major": 2,
              "version_minor": 0
            },
            "text/plain": [
              "VBox(children=(Label(value='0.335 MB of 0.335 MB uploaded\\r'), FloatProgress(value=1.0, max=1.0)))"
            ]
          },
          "metadata": {},
          "output_type": "display_data"
        },
        {
          "data": {
            "text/html": [
              "<style>\n",
              "    table.wandb td:nth-child(1) { padding: 0 10px; text-align: left ; width: auto;} td:nth-child(2) {text-align: left ; width: 100%}\n",
              "    .wandb-row { display: flex; flex-direction: row; flex-wrap: wrap; justify-content: flex-start; width: 100% }\n",
              "    .wandb-col { display: flex; flex-direction: column; flex-basis: 100%; flex: 1; padding: 10px; }\n",
              "    </style>\n",
              "<div class=\"wandb-row\"><div class=\"wandb-col\"><h3>Run history:</h3><br/><table class=\"wandb\"><tr><td>RMSE</td><td>▁</td></tr><tr><td>epoch</td><td>▁▁▁▁▂▂▂▂▂▃▃▃▃▃▃▄▄▄▄▄▅▅▅▅▅▅▆▆▆▆▆▇▇▇▇▇▇███</td></tr></table><br/></div><div class=\"wandb-col\"><h3>Run summary:</h3><br/><table class=\"wandb\"><tr><td>RMSE</td><td>535.41993</td></tr><tr><td>epoch</td><td>99</td></tr></table><br/></div></div>"
            ],
            "text/plain": [
              "<IPython.core.display.HTML object>"
            ]
          },
          "metadata": {},
          "output_type": "display_data"
        },
        {
          "data": {
            "text/html": [
              " View run <strong style=\"color:#cdcd00\">run_2</strong> at: <a href='https://wandb.ai/muditjindal2025/xgboost-runs/runs/ios6ffqj' target=\"_blank\">https://wandb.ai/muditjindal2025/xgboost-runs/runs/ios6ffqj</a><br/> View project at: <a href='https://wandb.ai/muditjindal2025/xgboost-runs' target=\"_blank\">https://wandb.ai/muditjindal2025/xgboost-runs</a><br/>Synced 6 W&B file(s), 1 media file(s), 2 artifact file(s) and 1 other file(s)"
            ],
            "text/plain": [
              "<IPython.core.display.HTML object>"
            ]
          },
          "metadata": {},
          "output_type": "display_data"
        },
        {
          "data": {
            "text/html": [
              "Find logs at: <code>./wandb/run-20240422_101817-ios6ffqj/logs</code>"
            ],
            "text/plain": [
              "<IPython.core.display.HTML object>"
            ]
          },
          "metadata": {},
          "output_type": "display_data"
        },
        {
          "data": {
            "text/html": [
              "Successfully finished last run (ID:ios6ffqj). Initializing new run:<br/>"
            ],
            "text/plain": [
              "<IPython.core.display.HTML object>"
            ]
          },
          "metadata": {},
          "output_type": "display_data"
        },
        {
          "data": {
            "application/vnd.jupyter.widget-view+json": {
              "model_id": "8d316d25c2e74184aac0a38c950777f2",
              "version_major": 2,
              "version_minor": 0
            },
            "text/plain": [
              "VBox(children=(Label(value='Waiting for wandb.init()...\\r'), FloatProgress(value=0.011289781477777676, max=1.0…"
            ]
          },
          "metadata": {},
          "output_type": "display_data"
        },
        {
          "data": {
            "text/html": [
              "Tracking run with wandb version 0.16.6"
            ],
            "text/plain": [
              "<IPython.core.display.HTML object>"
            ]
          },
          "metadata": {},
          "output_type": "display_data"
        },
        {
          "data": {
            "text/html": [
              "Run data is saved locally in <code>/Users/muditjindal/Downloads/wandb/run-20240422_102047-nbc25wmb</code>"
            ],
            "text/plain": [
              "<IPython.core.display.HTML object>"
            ]
          },
          "metadata": {},
          "output_type": "display_data"
        },
        {
          "data": {
            "text/html": [
              "Syncing run <strong><a href='https://wandb.ai/muditjindal2025/xgboost-runs/runs/nbc25wmb' target=\"_blank\">run_3</a></strong> to <a href='https://wandb.ai/muditjindal2025/xgboost-runs' target=\"_blank\">Weights & Biases</a> (<a href='https://wandb.me/run' target=\"_blank\">docs</a>)<br/>"
            ],
            "text/plain": [
              "<IPython.core.display.HTML object>"
            ]
          },
          "metadata": {},
          "output_type": "display_data"
        },
        {
          "data": {
            "text/html": [
              " View project at <a href='https://wandb.ai/muditjindal2025/xgboost-runs' target=\"_blank\">https://wandb.ai/muditjindal2025/xgboost-runs</a>"
            ],
            "text/plain": [
              "<IPython.core.display.HTML object>"
            ]
          },
          "metadata": {},
          "output_type": "display_data"
        },
        {
          "data": {
            "text/html": [
              " View run at <a href='https://wandb.ai/muditjindal2025/xgboost-runs/runs/nbc25wmb' target=\"_blank\">https://wandb.ai/muditjindal2025/xgboost-runs/runs/nbc25wmb</a>"
            ],
            "text/plain": [
              "<IPython.core.display.HTML object>"
            ]
          },
          "metadata": {},
          "output_type": "display_data"
        },
        {
          "name": "stdout",
          "output_type": "stream",
          "text": [
            "[0]\ttrain-rmse:3954.93873\tvalidation-rmse:3951.99883\n",
            "[10]\ttrain-rmse:3712.96115\tvalidation-rmse:3709.14646\n",
            "[20]\ttrain-rmse:3518.23981\tvalidation-rmse:3514.00305\n",
            "[30]\ttrain-rmse:3309.39194\tvalidation-rmse:3305.18958\n",
            "[40]\ttrain-rmse:3166.87327\tvalidation-rmse:3163.34468\n",
            "[50]\ttrain-rmse:3009.01259\tvalidation-rmse:3005.61437\n",
            "[60]\ttrain-rmse:2840.77077\tvalidation-rmse:2837.54104\n",
            "[70]\ttrain-rmse:2666.08798\tvalidation-rmse:2663.38948\n",
            "[80]\ttrain-rmse:2509.14655\tvalidation-rmse:2506.88058\n",
            "[90]\ttrain-rmse:2400.31383\tvalidation-rmse:2399.13194\n",
            "[99]\ttrain-rmse:2262.93799\tvalidation-rmse:2263.02354\n",
            "RMSE Test: 2263.023545825612\n"
          ]
        }
      ],
      "source": [
        "# With Validation\n",
        "# Changing the hyperparameters\n",
        "wandb.init(\n",
        "    project=\"xgboost-runs\",\n",
        "    name=\"run_3\",\n",
        "    config={\n",
        "        \"model\": \"xgboost\",\n",
        "        \"dataset\": \"diamonds\",\n",
        "        \"max_depth\": 10,\n",
        "        \"alpha\":2,\n",
        "        \"learning_rate\": 0.01,\n",
        "        \"colsample_bytree\": 0.3\n",
        "    }\n",
        ")\n",
        "# Define hyperparameters\n",
        "params = {\"objective\": \"reg:squarederror\", \"tree_method\": \"hist\", \n",
        "          \"max_depth\":10, \"alpha\":2, \"learning_rate\": 0.01, \"colsample_bytree\":0.3}\n",
        "\n",
        "\n",
        "model = xgb.train(\n",
        "   params=params,\n",
        "   dtrain=dtrain,\n",
        "   num_boost_round=n,\n",
        "   evals=evals,\n",
        "   verbose_eval=10,\n",
        "   callbacks=[WandbCallback(log_model=True)]\n",
        ")\n",
        "\n",
        "predictions = model.predict(dtest)\n",
        "rmse = mean_squared_error(y_test, predictions, squared=False)\n",
        "print(f\"RMSE Test: {rmse}\")\n",
        "wandb.log({\"RMSE Test\": rmse})"
      ]
    },
    {
      "cell_type": "code",
      "execution_count": 38,
      "metadata": {},
      "outputs": [
        {
          "data": {
            "text/html": [
              "Finishing last run (ID:wrrkmoh2) before initializing another..."
            ],
            "text/plain": [
              "<IPython.core.display.HTML object>"
            ]
          },
          "metadata": {},
          "output_type": "display_data"
        },
        {
          "data": {
            "application/vnd.jupyter.widget-view+json": {
              "model_id": "9b8b3e4907da4452a62e552ed935f238",
              "version_major": 2,
              "version_minor": 0
            },
            "text/plain": [
              "VBox(children=(Label(value='1.058 MB of 1.058 MB uploaded\\r'), FloatProgress(value=1.0, max=1.0)))"
            ]
          },
          "metadata": {},
          "output_type": "display_data"
        },
        {
          "data": {
            "text/html": [
              "<style>\n",
              "    table.wandb td:nth-child(1) { padding: 0 10px; text-align: left ; width: auto;} td:nth-child(2) {text-align: left ; width: 100%}\n",
              "    .wandb-row { display: flex; flex-direction: row; flex-wrap: wrap; justify-content: flex-start; width: 100% }\n",
              "    .wandb-col { display: flex; flex-direction: column; flex-basis: 100%; flex: 1; padding: 10px; }\n",
              "    </style>\n",
              "<div class=\"wandb-row\"><div class=\"wandb-col\"><h3>Run history:</h3><br/><table class=\"wandb\"><tr><td>best_iteration</td><td>▁</td></tr><tr><td>best_score</td><td>▁</td></tr><tr><td>epoch</td><td>▁▁▁▁▂▂▂▂▂▃▃▃▃▃▃▄▄▄▄▄▅▅▅▅▅▅▆▆▆▆▆▇▇▇▇▇▇███</td></tr><tr><td>train-rmse</td><td>█▄▂▂▁▁▁▁▁▁▁▁▁▁▁▁▁▁▁▁▁▁▁▁▁▁▁▁▁▁▁▁▁▁▁▁▁▁▁▁</td></tr><tr><td>validation-rmse</td><td>█▄▂▁▁▁▁▁▁▁▁▁▁▁▁▁▁▁▁▁▁▁▁▁▁▁▁▁▁▁▁▁▁▁▁▁▁▁▁▁</td></tr></table><br/></div><div class=\"wandb-col\"><h3>Run summary:</h3><br/><table class=\"wandb\"><tr><td>best_iteration</td><td>296</td></tr><tr><td>best_score</td><td>528.89675</td></tr><tr><td>epoch</td><td>346</td></tr></table><br/></div></div>"
            ],
            "text/plain": [
              "<IPython.core.display.HTML object>"
            ]
          },
          "metadata": {},
          "output_type": "display_data"
        },
        {
          "data": {
            "text/html": [
              " View run <strong style=\"color:#cdcd00\">run_4</strong> at: <a href='https://wandb.ai/muditjindal2025/xgboost-runs/runs/wrrkmoh2' target=\"_blank\">https://wandb.ai/muditjindal2025/xgboost-runs/runs/wrrkmoh2</a><br/> View project at: <a href='https://wandb.ai/muditjindal2025/xgboost-runs' target=\"_blank\">https://wandb.ai/muditjindal2025/xgboost-runs</a><br/>Synced 6 W&B file(s), 1 media file(s), 2 artifact file(s) and 1 other file(s)"
            ],
            "text/plain": [
              "<IPython.core.display.HTML object>"
            ]
          },
          "metadata": {},
          "output_type": "display_data"
        },
        {
          "data": {
            "text/html": [
              "Find logs at: <code>./wandb/run-20240422_103636-wrrkmoh2/logs</code>"
            ],
            "text/plain": [
              "<IPython.core.display.HTML object>"
            ]
          },
          "metadata": {},
          "output_type": "display_data"
        },
        {
          "data": {
            "text/html": [
              "Successfully finished last run (ID:wrrkmoh2). Initializing new run:<br/>"
            ],
            "text/plain": [
              "<IPython.core.display.HTML object>"
            ]
          },
          "metadata": {},
          "output_type": "display_data"
        },
        {
          "data": {
            "application/vnd.jupyter.widget-view+json": {
              "model_id": "652ee090e8b14d87aca8ebd81e0de38e",
              "version_major": 2,
              "version_minor": 0
            },
            "text/plain": [
              "VBox(children=(Label(value='Waiting for wandb.init()...\\r'), FloatProgress(value=0.011154034266665905, max=1.0…"
            ]
          },
          "metadata": {},
          "output_type": "display_data"
        },
        {
          "data": {
            "text/html": [
              "Tracking run with wandb version 0.16.6"
            ],
            "text/plain": [
              "<IPython.core.display.HTML object>"
            ]
          },
          "metadata": {},
          "output_type": "display_data"
        },
        {
          "data": {
            "text/html": [
              "Run data is saved locally in <code>/Users/muditjindal/Downloads/wandb/run-20240422_103713-0hh324pv</code>"
            ],
            "text/plain": [
              "<IPython.core.display.HTML object>"
            ]
          },
          "metadata": {},
          "output_type": "display_data"
        },
        {
          "data": {
            "text/html": [
              "Syncing run <strong><a href='https://wandb.ai/muditjindal2025/xgboost-runs/runs/0hh324pv' target=\"_blank\">run_4</a></strong> to <a href='https://wandb.ai/muditjindal2025/xgboost-runs' target=\"_blank\">Weights & Biases</a> (<a href='https://wandb.me/run' target=\"_blank\">docs</a>)<br/>"
            ],
            "text/plain": [
              "<IPython.core.display.HTML object>"
            ]
          },
          "metadata": {},
          "output_type": "display_data"
        },
        {
          "data": {
            "text/html": [
              " View project at <a href='https://wandb.ai/muditjindal2025/xgboost-runs' target=\"_blank\">https://wandb.ai/muditjindal2025/xgboost-runs</a>"
            ],
            "text/plain": [
              "<IPython.core.display.HTML object>"
            ]
          },
          "metadata": {},
          "output_type": "display_data"
        },
        {
          "data": {
            "text/html": [
              " View run at <a href='https://wandb.ai/muditjindal2025/xgboost-runs/runs/0hh324pv' target=\"_blank\">https://wandb.ai/muditjindal2025/xgboost-runs/runs/0hh324pv</a>"
            ],
            "text/plain": [
              "<IPython.core.display.HTML object>"
            ]
          },
          "metadata": {},
          "output_type": "display_data"
        },
        {
          "name": "stdout",
          "output_type": "stream",
          "text": [
            "[0]\ttrain-rmse:3617.36207\tvalidation-rmse:3614.31160\n",
            "[50]\ttrain-rmse:532.98165\tvalidation-rmse:558.32549\n",
            "[100]\ttrain-rmse:488.31206\tvalidation-rmse:535.54305\n",
            "[150]\ttrain-rmse:469.11783\tvalidation-rmse:531.56285\n",
            "[200]\ttrain-rmse:452.95420\tvalidation-rmse:531.31608\n",
            "[250]\ttrain-rmse:442.64181\tvalidation-rmse:529.85469\n",
            "[300]\ttrain-rmse:429.65673\tvalidation-rmse:529.68941\n",
            "[346]\ttrain-rmse:420.03540\tvalidation-rmse:530.73783\n",
            "   train-rmse-mean  train-rmse-std  test-rmse-mean  test-rmse-std\n",
            "0      3617.399812        9.942667     3617.500415      39.579597\n",
            "1      3283.117437        8.650593     3282.921723      37.844734\n",
            "2      2984.170973        8.103091     2984.550998      35.925090\n",
            "3      2715.492138        7.515823     2715.649351      34.273621\n",
            "4      2474.615568        6.196544     2475.692257      33.734063\n",
            "Best RMSE: 539.1346308606683\n",
            "RMSE: 530.7378283475853\n"
          ]
        }
      ],
      "source": [
        "# With Validation and Early stopping\n",
        "# Changing the hyperparameters \n",
        "wandb.init(\n",
        "    project=\"xgboost-runs\",\n",
        "    name=\"run_4\",\n",
        "    config={\n",
        "        \"model\": \"xgboost\",\n",
        "        \"dataset\": \"diamonds\",\n",
        "        \"max_depth\": 5,\n",
        "        \"alpha\": 10,\n",
        "        \"learning_rate\": 0.1\n",
        "    }\n",
        ")\n",
        "# Define hyperparameters\n",
        "params = {\"objective\": \"reg:squarederror\", \"tree_method\": \"hist\", \n",
        "          \"max_depth\":5, \"alpha\":10, \"learning_rate\": 0.1}\n",
        "\n",
        "n = 10000\n",
        "model = xgb.train(\n",
        "   params=params,\n",
        "   dtrain=dtrain,\n",
        "   num_boost_round=n,\n",
        "   evals=evals,\n",
        "   verbose_eval=50,\n",
        "   # Activate early stopping\n",
        "   early_stopping_rounds=50, \n",
        "   callbacks=[WandbCallback(log_model=True)]\n",
        ")\n",
        "\n",
        "n = 1000\n",
        "results = xgb.cv(\n",
        "   params, dtrain,\n",
        "   num_boost_round=n,\n",
        "   nfold=5,\n",
        "   early_stopping_rounds=20, \n",
        ")\n",
        "\n",
        "print(results.head())\n",
        "\n",
        "best_rmse = results['test-rmse-mean'].min()\n",
        "print(f\"Best RMSE: {best_rmse}\")\n",
        "wandb.log({\"Best RMSE\": best_rmse})\n",
        "\n",
        "predictions = model.predict(dtest)\n",
        "rmse = mean_squared_error(y_test, predictions, squared=False)\n",
        "print(f\"RMSE: {rmse}\")\n",
        "wandb.log({\"RMSE\": rmse})\n"
      ]
    },
    {
      "cell_type": "code",
      "execution_count": 40,
      "metadata": {},
      "outputs": [
        {
          "data": {
            "text/html": [
              "Finishing last run (ID:k4ky0ojo) before initializing another..."
            ],
            "text/plain": [
              "<IPython.core.display.HTML object>"
            ]
          },
          "metadata": {},
          "output_type": "display_data"
        },
        {
          "data": {
            "application/vnd.jupyter.widget-view+json": {
              "model_id": "ddcba9da29084f7bbbf65bf7a85b4bf3",
              "version_major": 2,
              "version_minor": 0
            },
            "text/plain": [
              "VBox(children=(Label(value='231.104 MB of 231.104 MB uploaded\\r'), FloatProgress(value=1.0, max=1.0)))"
            ]
          },
          "metadata": {},
          "output_type": "display_data"
        },
        {
          "data": {
            "text/html": [
              "<style>\n",
              "    table.wandb td:nth-child(1) { padding: 0 10px; text-align: left ; width: auto;} td:nth-child(2) {text-align: left ; width: 100%}\n",
              "    .wandb-row { display: flex; flex-direction: row; flex-wrap: wrap; justify-content: flex-start; width: 100% }\n",
              "    .wandb-col { display: flex; flex-direction: column; flex-basis: 100%; flex: 1; padding: 10px; }\n",
              "    </style>\n",
              "<div class=\"wandb-row\"><div class=\"wandb-col\"><h3>Run history:</h3><br/><table class=\"wandb\"><tr><td>best_iteration</td><td>▁</td></tr><tr><td>best_score</td><td>▁</td></tr><tr><td>epoch</td><td>▁▁▁▁▂▂▂▂▂▃▃▃▃▃▃▄▄▄▄▄▅▅▅▅▅▅▆▆▆▆▆▇▇▇▇▇▇███</td></tr><tr><td>train-rmse</td><td>█▇▇▆▅▄▄▄▃▃▃▂▂▂▂▂▂▂▂▁▁▁▁▁▁▁▁▁▁▁▁▁▁▁▁▁▁▁▁▁</td></tr><tr><td>validation-rmse</td><td>█▇▆▅▅▄▃▃▃▂▂▂▂▂▁▁▁▁▁▁▁▁▁▁▁▁▁▁▁▁▁▁▁▁▁▁▁▁▁▁</td></tr></table><br/></div><div class=\"wandb-col\"><h3>Run summary:</h3><br/><table class=\"wandb\"><tr><td>best_iteration</td><td>535</td></tr><tr><td>best_score</td><td>555.67805</td></tr><tr><td>epoch</td><td>584</td></tr></table><br/></div></div>"
            ],
            "text/plain": [
              "<IPython.core.display.HTML object>"
            ]
          },
          "metadata": {},
          "output_type": "display_data"
        },
        {
          "data": {
            "text/html": [
              " View run <strong style=\"color:#cdcd00\">run_5</strong> at: <a href='https://wandb.ai/muditjindal2025/xgboost-runs/runs/k4ky0ojo' target=\"_blank\">https://wandb.ai/muditjindal2025/xgboost-runs/runs/k4ky0ojo</a><br/> View project at: <a href='https://wandb.ai/muditjindal2025/xgboost-runs' target=\"_blank\">https://wandb.ai/muditjindal2025/xgboost-runs</a><br/>Synced 6 W&B file(s), 1 media file(s), 2 artifact file(s) and 1 other file(s)"
            ],
            "text/plain": [
              "<IPython.core.display.HTML object>"
            ]
          },
          "metadata": {},
          "output_type": "display_data"
        },
        {
          "data": {
            "text/html": [
              "Find logs at: <code>./wandb/run-20240422_112551-k4ky0ojo/logs</code>"
            ],
            "text/plain": [
              "<IPython.core.display.HTML object>"
            ]
          },
          "metadata": {},
          "output_type": "display_data"
        },
        {
          "data": {
            "text/html": [
              "Successfully finished last run (ID:k4ky0ojo). Initializing new run:<br/>"
            ],
            "text/plain": [
              "<IPython.core.display.HTML object>"
            ]
          },
          "metadata": {},
          "output_type": "display_data"
        },
        {
          "data": {
            "application/vnd.jupyter.widget-view+json": {
              "model_id": "071da17d51d14f1d80ae87190a2eb8b3",
              "version_major": 2,
              "version_minor": 0
            },
            "text/plain": [
              "VBox(children=(Label(value='Waiting for wandb.init()...\\r'), FloatProgress(value=0.011167060644442648, max=1.0…"
            ]
          },
          "metadata": {},
          "output_type": "display_data"
        },
        {
          "data": {
            "text/html": [
              "Tracking run with wandb version 0.16.6"
            ],
            "text/plain": [
              "<IPython.core.display.HTML object>"
            ]
          },
          "metadata": {},
          "output_type": "display_data"
        },
        {
          "data": {
            "text/html": [
              "Run data is saved locally in <code>/Users/muditjindal/Downloads/wandb/run-20240422_112702-xg43mz7k</code>"
            ],
            "text/plain": [
              "<IPython.core.display.HTML object>"
            ]
          },
          "metadata": {},
          "output_type": "display_data"
        },
        {
          "data": {
            "text/html": [
              "Syncing run <strong><a href='https://wandb.ai/muditjindal2025/xgboost-runs/runs/xg43mz7k' target=\"_blank\">run_5</a></strong> to <a href='https://wandb.ai/muditjindal2025/xgboost-runs' target=\"_blank\">Weights & Biases</a> (<a href='https://wandb.me/run' target=\"_blank\">docs</a>)<br/>"
            ],
            "text/plain": [
              "<IPython.core.display.HTML object>"
            ]
          },
          "metadata": {},
          "output_type": "display_data"
        },
        {
          "data": {
            "text/html": [
              " View project at <a href='https://wandb.ai/muditjindal2025/xgboost-runs' target=\"_blank\">https://wandb.ai/muditjindal2025/xgboost-runs</a>"
            ],
            "text/plain": [
              "<IPython.core.display.HTML object>"
            ]
          },
          "metadata": {},
          "output_type": "display_data"
        },
        {
          "data": {
            "text/html": [
              " View run at <a href='https://wandb.ai/muditjindal2025/xgboost-runs/runs/xg43mz7k' target=\"_blank\">https://wandb.ai/muditjindal2025/xgboost-runs/runs/xg43mz7k</a>"
            ],
            "text/plain": [
              "<IPython.core.display.HTML object>"
            ]
          },
          "metadata": {},
          "output_type": "display_data"
        },
        {
          "name": "stdout",
          "output_type": "stream",
          "text": [
            "[0]\ttrain-rmse:3951.25048\tvalidation-rmse:3948.54234\n",
            "[50]\ttrain-rmse:2442.17557\tvalidation-rmse:2445.41026\n",
            "[100]\ttrain-rmse:1536.80062\tvalidation-rmse:1558.23406\n",
            "[150]\ttrain-rmse:993.83397\tvalidation-rmse:1049.57038\n",
            "[200]\ttrain-rmse:666.55600\tvalidation-rmse:779.40709\n",
            "[250]\ttrain-rmse:466.72463\tvalidation-rmse:647.26745\n",
            "[300]\ttrain-rmse:340.13265\tvalidation-rmse:589.81566\n",
            "[350]\ttrain-rmse:261.19557\tvalidation-rmse:566.59121\n",
            "[400]\ttrain-rmse:209.79646\tvalidation-rmse:558.78468\n",
            "[450]\ttrain-rmse:175.52816\tvalidation-rmse:556.54407\n",
            "[500]\ttrain-rmse:150.34190\tvalidation-rmse:556.06570\n",
            "[550]\ttrain-rmse:131.38757\tvalidation-rmse:555.80062\n",
            "[584]\ttrain-rmse:121.68792\tvalidation-rmse:556.15525\n",
            "   train-rmse-mean  train-rmse-std  test-rmse-mean  test-rmse-std\n",
            "0      3951.281557       10.503417     3951.281702      42.367674\n",
            "1      3913.024225       10.397055     3913.149854      42.169966\n",
            "2      3875.153082       10.291542     3875.404246      41.978591\n",
            "3      3837.668613       10.188698     3838.038591      41.761720\n",
            "4      3800.561482       10.084067     3801.085154      41.551733\n",
            "Best RMSE: 570.9367345210683\n",
            "RMSE: 556.1773057619833\n"
          ]
        }
      ],
      "source": [
        "# With Validation and Early stopping\n",
        "# Changing the hyperparameters \n",
        "wandb.init(\n",
        "    project=\"xgboost-runs\",\n",
        "    name=\"run_5\",\n",
        "    config={\n",
        "        \"model\": \"xgboost\",\n",
        "        \"dataset\": \"diamonds\",\n",
        "        \"max_depth\": 15,\n",
        "        \"alpha\": 15,\n",
        "        \"learning_rate\": 0.01,\n",
        "    }\n",
        ")\n",
        "# Define hyperparameters\n",
        "params = {\"objective\": \"reg:squarederror\", \"tree_method\": \"hist\", \n",
        "          \"max_depth\":15, \"alpha\":15, \"learning_rate\": 0.01}\n",
        "\n",
        "n = 10000\n",
        "model = xgb.train(\n",
        "   params=params,\n",
        "   dtrain=dtrain,\n",
        "   num_boost_round=n,\n",
        "   evals=evals,\n",
        "   verbose_eval=50,\n",
        "   # Activate early stopping\n",
        "   early_stopping_rounds=50, \n",
        "   callbacks=[WandbCallback(log_model=True)]\n",
        ")\n",
        "\n",
        "n = 1000\n",
        "results = xgb.cv(\n",
        "   params, dtrain,\n",
        "   num_boost_round=n,\n",
        "   nfold=5,\n",
        "   early_stopping_rounds=20, \n",
        ")\n",
        "\n",
        "print(results.head())\n",
        "\n",
        "best_rmse = results['test-rmse-mean'].min()\n",
        "print(f\"Best RMSE: {best_rmse}\")\n",
        "wandb.log({\"Best RMSE\": best_rmse})\n",
        "\n",
        "predictions = model.predict(dtest)\n",
        "rmse = mean_squared_error(y_test, predictions, squared=False)\n",
        "print(f\"RMSE: {rmse}\")\n",
        "wandb.log({\"RMSE\": rmse})"
      ]
    },
    {
      "cell_type": "markdown",
      "metadata": {},
      "source": [
        "### Using Sweep for hyperparamter tuning"
      ]
    },
    {
      "cell_type": "code",
      "execution_count": 18,
      "metadata": {},
      "outputs": [],
      "source": [
        "sweep_config = {\n",
        "    \"method\": \"grid\", \n",
        "    \"metric\": {\n",
        "      \"name\": \"rmse\",\n",
        "      \"goal\": \"minimize\"   \n",
        "    },\n",
        "    \"parameters\": {\n",
        "        \"booster\": {\n",
        "            \"values\": [\"gbtree\"]\n",
        "        },\n",
        "        \"max_depth\": {\n",
        "            \"values\": [3, 6, 9, 12]\n",
        "        },\n",
        "        \"learning_rate\": {\n",
        "            \"values\": [0.01, 0.05, 0.1]\n",
        "        },\n",
        "        \"alpha\": {\n",
        "            \"values\": [5, 10, 15]\n",
        "        }\n",
        "    }\n",
        "}"
      ]
    },
    {
      "cell_type": "code",
      "execution_count": 19,
      "metadata": {},
      "outputs": [
        {
          "name": "stdout",
          "output_type": "stream",
          "text": [
            "Create sweep with ID: gl79h1vt\n",
            "Sweep URL: https://wandb.ai/muditjindal2025/xgboost-runs/sweeps/gl79h1vt\n"
          ]
        }
      ],
      "source": [
        "sweep_id = wandb.sweep(sweep_config, project=\"xgboost-runs\")"
      ]
    },
    {
      "cell_type": "code",
      "execution_count": 20,
      "metadata": {},
      "outputs": [],
      "source": [
        "def train():\n",
        "    wandb.init(\n",
        "    project=\"xgboost-runs\",\n",
        "    name=\"sweep_grid\",\n",
        "    config={\n",
        "        \"model\": \"xgboost\",\n",
        "        \"dataset\": \"diamonds\",\n",
        "        \"max_depth\": 15,\n",
        "        \"alpha\": 15,\n",
        "        \"learning_rate\": 0.01,\n",
        "        \"booster\": \"gbtree\"\n",
        "        },\n",
        "    )\n",
        "\n",
        "    config = wandb.config\n",
        "\n",
        "    # Define hyperparameters\n",
        "    params = {\"objective\": \"reg:squarederror\", \"tree_method\": \"hist\", \n",
        "            \"max_depth\":config.max_depth, \"alpha\":config.alpha, \"learning_rate\": config.learning_rate}\n",
        "    \n",
        "    n = 1000\n",
        "    model = xgb.train(\n",
        "    params=params,\n",
        "    dtrain=dtrain,\n",
        "    num_boost_round=n,\n",
        "    evals=evals,\n",
        "    verbose_eval=100,\n",
        "    callbacks=[WandbCallback(log_model=True)]\n",
        "    )\n",
        "\n",
        "    predictions = model.predict(dtest)\n",
        "    rmse = mean_squared_error(y_test, predictions, squared=False)\n",
        "    print(f\"RMSE Test: {rmse}\")\n",
        "    "
      ]
    },
    {
      "cell_type": "code",
      "execution_count": 21,
      "metadata": {},
      "outputs": [
        {
          "name": "stderr",
          "output_type": "stream",
          "text": [
            "\u001b[34m\u001b[1mwandb\u001b[0m: Agent Starting Run: nwqtrzqx with config:\n",
            "\u001b[34m\u001b[1mwandb\u001b[0m: \talpha: 5\n",
            "\u001b[34m\u001b[1mwandb\u001b[0m: \tbooster: gbtree\n",
            "\u001b[34m\u001b[1mwandb\u001b[0m: \tlearning_rate: 0.01\n",
            "\u001b[34m\u001b[1mwandb\u001b[0m: \tmax_depth: 3\n",
            "Failed to detect the name of this notebook, you can set it manually with the WANDB_NOTEBOOK_NAME environment variable to enable code saving.\n",
            "\u001b[34m\u001b[1mwandb\u001b[0m: \u001b[33mWARNING\u001b[0m Ignored wandb.init() arg project when running a sweep.\n"
          ]
        },
        {
          "data": {
            "text/html": [
              "Tracking run with wandb version 0.16.6"
            ],
            "text/plain": [
              "<IPython.core.display.HTML object>"
            ]
          },
          "metadata": {},
          "output_type": "display_data"
        },
        {
          "data": {
            "text/html": [
              "Run data is saved locally in <code>/Users/muditjindal/Downloads/wandb/run-20240422_121236-nwqtrzqx</code>"
            ],
            "text/plain": [
              "<IPython.core.display.HTML object>"
            ]
          },
          "metadata": {},
          "output_type": "display_data"
        },
        {
          "data": {
            "text/html": [
              "Syncing run <strong><a href='https://wandb.ai/muditjindal2025/xgboost-runs/runs/nwqtrzqx' target=\"_blank\">sweep_grid</a></strong> to <a href='https://wandb.ai/muditjindal2025/xgboost-runs' target=\"_blank\">Weights & Biases</a> (<a href='https://wandb.me/run' target=\"_blank\">docs</a>)<br/>Sweep page: <a href='https://wandb.ai/muditjindal2025/xgboost-runs/sweeps/gl79h1vt' target=\"_blank\">https://wandb.ai/muditjindal2025/xgboost-runs/sweeps/gl79h1vt</a>"
            ],
            "text/plain": [
              "<IPython.core.display.HTML object>"
            ]
          },
          "metadata": {},
          "output_type": "display_data"
        },
        {
          "data": {
            "text/html": [
              " View project at <a href='https://wandb.ai/muditjindal2025/xgboost-runs' target=\"_blank\">https://wandb.ai/muditjindal2025/xgboost-runs</a>"
            ],
            "text/plain": [
              "<IPython.core.display.HTML object>"
            ]
          },
          "metadata": {},
          "output_type": "display_data"
        },
        {
          "data": {
            "text/html": [
              " View sweep at <a href='https://wandb.ai/muditjindal2025/xgboost-runs/sweeps/gl79h1vt' target=\"_blank\">https://wandb.ai/muditjindal2025/xgboost-runs/sweeps/gl79h1vt</a>"
            ],
            "text/plain": [
              "<IPython.core.display.HTML object>"
            ]
          },
          "metadata": {},
          "output_type": "display_data"
        },
        {
          "data": {
            "text/html": [
              " View run at <a href='https://wandb.ai/muditjindal2025/xgboost-runs/runs/nwqtrzqx' target=\"_blank\">https://wandb.ai/muditjindal2025/xgboost-runs/runs/nwqtrzqx</a>"
            ],
            "text/plain": [
              "<IPython.core.display.HTML object>"
            ]
          },
          "metadata": {},
          "output_type": "display_data"
        },
        {
          "name": "stdout",
          "output_type": "stream",
          "text": [
            "[0]\ttrain-rmse:3954.54101\tvalidation-rmse:3951.56348\n",
            "[100]\ttrain-rmse:1832.69388\tvalidation-rmse:1819.84126\n",
            "[200]\ttrain-rmse:1136.34498\tvalidation-rmse:1122.50574\n",
            "[300]\ttrain-rmse:904.31723\tvalidation-rmse:890.55875\n",
            "[400]\ttrain-rmse:794.16010\tvalidation-rmse:781.74851\n",
            "[500]\ttrain-rmse:721.92676\tvalidation-rmse:713.63562\n",
            "[600]\ttrain-rmse:678.71685\tvalidation-rmse:673.17272\n",
            "[700]\ttrain-rmse:650.90001\tvalidation-rmse:647.86982\n",
            "[800]\ttrain-rmse:631.59914\tvalidation-rmse:631.25784\n",
            "[900]\ttrain-rmse:618.07655\tvalidation-rmse:620.58826\n",
            "[999]\ttrain-rmse:607.54228\tvalidation-rmse:612.07293\n",
            "RMSE Test: 612.0729261853002\n"
          ]
        },
        {
          "data": {
            "application/vnd.jupyter.widget-view+json": {
              "model_id": "18e9261ca85c4545829b0da7465f1931",
              "version_major": 2,
              "version_minor": 0
            },
            "text/plain": [
              "VBox(children=(Label(value='1.110 MB of 1.110 MB uploaded\\r'), FloatProgress(value=1.0, max=1.0)))"
            ]
          },
          "metadata": {},
          "output_type": "display_data"
        },
        {
          "data": {
            "text/html": [
              "<style>\n",
              "    table.wandb td:nth-child(1) { padding: 0 10px; text-align: left ; width: auto;} td:nth-child(2) {text-align: left ; width: 100%}\n",
              "    .wandb-row { display: flex; flex-direction: row; flex-wrap: wrap; justify-content: flex-start; width: 100% }\n",
              "    .wandb-col { display: flex; flex-direction: column; flex-basis: 100%; flex: 1; padding: 10px; }\n",
              "    </style>\n",
              "<div class=\"wandb-row\"><div class=\"wandb-col\"><h3>Run history:</h3><br/><table class=\"wandb\"><tr><td>epoch</td><td>▁▁▁▂▂▂▂▂▂▃▃▃▃▃▄▄▄▄▄▄▅▅▅▅▅▅▆▆▆▆▆▇▇▇▇▇▇███</td></tr><tr><td>train-rmse</td><td>█▆▅▄▄▃▃▂▂▂▂▂▂▂▂▁▁▁▁▁▁▁▁▁▁▁▁▁▁▁▁▁▁▁▁▁▁▁▁▁</td></tr><tr><td>validation-rmse</td><td>█▆▅▄▄▃▃▂▂▂▂▂▂▂▁▁▁▁▁▁▁▁▁▁▁▁▁▁▁▁▁▁▁▁▁▁▁▁▁▁</td></tr></table><br/></div><div class=\"wandb-col\"><h3>Run summary:</h3><br/><table class=\"wandb\"><tr><td>epoch</td><td>999</td></tr></table><br/></div></div>"
            ],
            "text/plain": [
              "<IPython.core.display.HTML object>"
            ]
          },
          "metadata": {},
          "output_type": "display_data"
        },
        {
          "data": {
            "text/html": [
              " View run <strong style=\"color:#cdcd00\">sweep_grid</strong> at: <a href='https://wandb.ai/muditjindal2025/xgboost-runs/runs/nwqtrzqx' target=\"_blank\">https://wandb.ai/muditjindal2025/xgboost-runs/runs/nwqtrzqx</a><br/> View project at: <a href='https://wandb.ai/muditjindal2025/xgboost-runs' target=\"_blank\">https://wandb.ai/muditjindal2025/xgboost-runs</a><br/>Synced 6 W&B file(s), 1 media file(s), 2 artifact file(s) and 1 other file(s)"
            ],
            "text/plain": [
              "<IPython.core.display.HTML object>"
            ]
          },
          "metadata": {},
          "output_type": "display_data"
        },
        {
          "data": {
            "text/html": [
              "Find logs at: <code>./wandb/run-20240422_121236-nwqtrzqx/logs</code>"
            ],
            "text/plain": [
              "<IPython.core.display.HTML object>"
            ]
          },
          "metadata": {},
          "output_type": "display_data"
        },
        {
          "name": "stderr",
          "output_type": "stream",
          "text": [
            "\u001b[34m\u001b[1mwandb\u001b[0m: Agent Starting Run: gabzg7jy with config:\n",
            "\u001b[34m\u001b[1mwandb\u001b[0m: \talpha: 5\n",
            "\u001b[34m\u001b[1mwandb\u001b[0m: \tbooster: gbtree\n",
            "\u001b[34m\u001b[1mwandb\u001b[0m: \tlearning_rate: 0.01\n",
            "\u001b[34m\u001b[1mwandb\u001b[0m: \tmax_depth: 6\n",
            "Failed to detect the name of this notebook, you can set it manually with the WANDB_NOTEBOOK_NAME environment variable to enable code saving.\n",
            "\u001b[34m\u001b[1mwandb\u001b[0m: \u001b[33mWARNING\u001b[0m Ignored wandb.init() arg project when running a sweep.\n"
          ]
        },
        {
          "data": {
            "text/html": [
              "Tracking run with wandb version 0.16.6"
            ],
            "text/plain": [
              "<IPython.core.display.HTML object>"
            ]
          },
          "metadata": {},
          "output_type": "display_data"
        },
        {
          "data": {
            "text/html": [
              "Run data is saved locally in <code>/Users/muditjindal/Downloads/wandb/run-20240422_121303-gabzg7jy</code>"
            ],
            "text/plain": [
              "<IPython.core.display.HTML object>"
            ]
          },
          "metadata": {},
          "output_type": "display_data"
        },
        {
          "data": {
            "text/html": [
              "Syncing run <strong><a href='https://wandb.ai/muditjindal2025/xgboost-runs/runs/gabzg7jy' target=\"_blank\">sweep_grid</a></strong> to <a href='https://wandb.ai/muditjindal2025/xgboost-runs' target=\"_blank\">Weights & Biases</a> (<a href='https://wandb.me/run' target=\"_blank\">docs</a>)<br/>Sweep page: <a href='https://wandb.ai/muditjindal2025/xgboost-runs/sweeps/gl79h1vt' target=\"_blank\">https://wandb.ai/muditjindal2025/xgboost-runs/sweeps/gl79h1vt</a>"
            ],
            "text/plain": [
              "<IPython.core.display.HTML object>"
            ]
          },
          "metadata": {},
          "output_type": "display_data"
        },
        {
          "data": {
            "text/html": [
              " View project at <a href='https://wandb.ai/muditjindal2025/xgboost-runs' target=\"_blank\">https://wandb.ai/muditjindal2025/xgboost-runs</a>"
            ],
            "text/plain": [
              "<IPython.core.display.HTML object>"
            ]
          },
          "metadata": {},
          "output_type": "display_data"
        },
        {
          "data": {
            "text/html": [
              " View sweep at <a href='https://wandb.ai/muditjindal2025/xgboost-runs/sweeps/gl79h1vt' target=\"_blank\">https://wandb.ai/muditjindal2025/xgboost-runs/sweeps/gl79h1vt</a>"
            ],
            "text/plain": [
              "<IPython.core.display.HTML object>"
            ]
          },
          "metadata": {},
          "output_type": "display_data"
        },
        {
          "data": {
            "text/html": [
              " View run at <a href='https://wandb.ai/muditjindal2025/xgboost-runs/runs/gabzg7jy' target=\"_blank\">https://wandb.ai/muditjindal2025/xgboost-runs/runs/gabzg7jy</a>"
            ],
            "text/plain": [
              "<IPython.core.display.HTML object>"
            ]
          },
          "metadata": {},
          "output_type": "display_data"
        },
        {
          "name": "stdout",
          "output_type": "stream",
          "text": [
            "[0]\ttrain-rmse:3951.98716\tvalidation-rmse:3949.09101\n",
            "[100]\ttrain-rmse:1604.09045\tvalidation-rmse:1599.23608\n",
            "[200]\ttrain-rmse:812.22789\tvalidation-rmse:814.55972\n",
            "[300]\ttrain-rmse:583.93393\tvalidation-rmse:602.22037\n",
            "[400]\ttrain-rmse:522.19358\tvalidation-rmse:552.36202\n",
            "[500]\ttrain-rmse:499.01695\tvalidation-rmse:537.55716\n",
            "[600]\ttrain-rmse:485.68104\tvalidation-rmse:532.11116\n",
            "[700]\ttrain-rmse:473.61262\tvalidation-rmse:528.89390\n",
            "[800]\ttrain-rmse:464.24335\tvalidation-rmse:527.04793\n",
            "[900]\ttrain-rmse:456.55593\tvalidation-rmse:525.59245\n",
            "[999]\ttrain-rmse:450.80299\tvalidation-rmse:524.80236\n",
            "RMSE Test: 524.8023629451269\n"
          ]
        },
        {
          "data": {
            "application/vnd.jupyter.widget-view+json": {
              "model_id": "4a9c1982ca314a13b7e20701982491e8",
              "version_major": 2,
              "version_minor": 0
            },
            "text/plain": [
              "VBox(children=(Label(value='6.106 MB of 6.106 MB uploaded\\r'), FloatProgress(value=1.0, max=1.0)))"
            ]
          },
          "metadata": {},
          "output_type": "display_data"
        },
        {
          "data": {
            "text/html": [
              "<style>\n",
              "    table.wandb td:nth-child(1) { padding: 0 10px; text-align: left ; width: auto;} td:nth-child(2) {text-align: left ; width: 100%}\n",
              "    .wandb-row { display: flex; flex-direction: row; flex-wrap: wrap; justify-content: flex-start; width: 100% }\n",
              "    .wandb-col { display: flex; flex-direction: column; flex-basis: 100%; flex: 1; padding: 10px; }\n",
              "    </style>\n",
              "<div class=\"wandb-row\"><div class=\"wandb-col\"><h3>Run history:</h3><br/><table class=\"wandb\"><tr><td>epoch</td><td>▁▁▁▂▂▂▂▂▂▃▃▃▃▃▄▄▄▄▄▄▅▅▅▅▅▅▆▆▆▆▆▇▇▇▇▇▇███</td></tr><tr><td>train-rmse</td><td>█▆▅▄▃▃▂▂▂▂▁▁▁▁▁▁▁▁▁▁▁▁▁▁▁▁▁▁▁▁▁▁▁▁▁▁▁▁▁▁</td></tr><tr><td>validation-rmse</td><td>█▆▅▄▃▃▂▂▂▁▁▁▁▁▁▁▁▁▁▁▁▁▁▁▁▁▁▁▁▁▁▁▁▁▁▁▁▁▁▁</td></tr></table><br/></div><div class=\"wandb-col\"><h3>Run summary:</h3><br/><table class=\"wandb\"><tr><td>epoch</td><td>999</td></tr></table><br/></div></div>"
            ],
            "text/plain": [
              "<IPython.core.display.HTML object>"
            ]
          },
          "metadata": {},
          "output_type": "display_data"
        },
        {
          "data": {
            "text/html": [
              " View run <strong style=\"color:#cdcd00\">sweep_grid</strong> at: <a href='https://wandb.ai/muditjindal2025/xgboost-runs/runs/gabzg7jy' target=\"_blank\">https://wandb.ai/muditjindal2025/xgboost-runs/runs/gabzg7jy</a><br/> View project at: <a href='https://wandb.ai/muditjindal2025/xgboost-runs' target=\"_blank\">https://wandb.ai/muditjindal2025/xgboost-runs</a><br/>Synced 6 W&B file(s), 1 media file(s), 2 artifact file(s) and 1 other file(s)"
            ],
            "text/plain": [
              "<IPython.core.display.HTML object>"
            ]
          },
          "metadata": {},
          "output_type": "display_data"
        },
        {
          "data": {
            "text/html": [
              "Find logs at: <code>./wandb/run-20240422_121303-gabzg7jy/logs</code>"
            ],
            "text/plain": [
              "<IPython.core.display.HTML object>"
            ]
          },
          "metadata": {},
          "output_type": "display_data"
        },
        {
          "name": "stderr",
          "output_type": "stream",
          "text": [
            "\u001b[34m\u001b[1mwandb\u001b[0m: Agent Starting Run: n6g3oz4q with config:\n",
            "\u001b[34m\u001b[1mwandb\u001b[0m: \talpha: 5\n",
            "\u001b[34m\u001b[1mwandb\u001b[0m: \tbooster: gbtree\n",
            "\u001b[34m\u001b[1mwandb\u001b[0m: \tlearning_rate: 0.01\n",
            "\u001b[34m\u001b[1mwandb\u001b[0m: \tmax_depth: 9\n",
            "Failed to detect the name of this notebook, you can set it manually with the WANDB_NOTEBOOK_NAME environment variable to enable code saving.\n",
            "\u001b[34m\u001b[1mwandb\u001b[0m: \u001b[33mWARNING\u001b[0m Ignored wandb.init() arg project when running a sweep.\n"
          ]
        },
        {
          "data": {
            "text/html": [
              "Tracking run with wandb version 0.16.6"
            ],
            "text/plain": [
              "<IPython.core.display.HTML object>"
            ]
          },
          "metadata": {},
          "output_type": "display_data"
        },
        {
          "data": {
            "text/html": [
              "Run data is saved locally in <code>/Users/muditjindal/Downloads/wandb/run-20240422_121339-n6g3oz4q</code>"
            ],
            "text/plain": [
              "<IPython.core.display.HTML object>"
            ]
          },
          "metadata": {},
          "output_type": "display_data"
        },
        {
          "data": {
            "text/html": [
              "Syncing run <strong><a href='https://wandb.ai/muditjindal2025/xgboost-runs/runs/n6g3oz4q' target=\"_blank\">sweep_grid</a></strong> to <a href='https://wandb.ai/muditjindal2025/xgboost-runs' target=\"_blank\">Weights & Biases</a> (<a href='https://wandb.me/run' target=\"_blank\">docs</a>)<br/>Sweep page: <a href='https://wandb.ai/muditjindal2025/xgboost-runs/sweeps/gl79h1vt' target=\"_blank\">https://wandb.ai/muditjindal2025/xgboost-runs/sweeps/gl79h1vt</a>"
            ],
            "text/plain": [
              "<IPython.core.display.HTML object>"
            ]
          },
          "metadata": {},
          "output_type": "display_data"
        },
        {
          "data": {
            "text/html": [
              " View project at <a href='https://wandb.ai/muditjindal2025/xgboost-runs' target=\"_blank\">https://wandb.ai/muditjindal2025/xgboost-runs</a>"
            ],
            "text/plain": [
              "<IPython.core.display.HTML object>"
            ]
          },
          "metadata": {},
          "output_type": "display_data"
        },
        {
          "data": {
            "text/html": [
              " View sweep at <a href='https://wandb.ai/muditjindal2025/xgboost-runs/sweeps/gl79h1vt' target=\"_blank\">https://wandb.ai/muditjindal2025/xgboost-runs/sweeps/gl79h1vt</a>"
            ],
            "text/plain": [
              "<IPython.core.display.HTML object>"
            ]
          },
          "metadata": {},
          "output_type": "display_data"
        },
        {
          "data": {
            "text/html": [
              " View run at <a href='https://wandb.ai/muditjindal2025/xgboost-runs/runs/n6g3oz4q' target=\"_blank\">https://wandb.ai/muditjindal2025/xgboost-runs/runs/n6g3oz4q</a>"
            ],
            "text/plain": [
              "<IPython.core.display.HTML object>"
            ]
          },
          "metadata": {},
          "output_type": "display_data"
        },
        {
          "name": "stdout",
          "output_type": "stream",
          "text": [
            "[0]\ttrain-rmse:3951.33651\tvalidation-rmse:3948.58256\n",
            "[100]\ttrain-rmse:1548.74525\tvalidation-rmse:1555.35356\n",
            "[200]\ttrain-rmse:726.16673\tvalidation-rmse:768.08668\n",
            "[300]\ttrain-rmse:484.76874\tvalidation-rmse:572.06885\n",
            "[400]\ttrain-rmse:416.21490\tvalidation-rmse:536.73941\n",
            "[500]\ttrain-rmse:386.90455\tvalidation-rmse:531.03392\n",
            "[600]\ttrain-rmse:368.97645\tvalidation-rmse:530.19954\n",
            "[700]\ttrain-rmse:352.82743\tvalidation-rmse:530.19011\n",
            "[800]\ttrain-rmse:338.41481\tvalidation-rmse:530.82108\n",
            "[900]\ttrain-rmse:327.92171\tvalidation-rmse:531.66085\n",
            "[999]\ttrain-rmse:319.03643\tvalidation-rmse:532.20828\n",
            "RMSE Test: 532.2082830115219\n"
          ]
        },
        {
          "data": {
            "application/vnd.jupyter.widget-view+json": {
              "model_id": "9bead6603fa243f0adca0ba45ddae3df",
              "version_major": 2,
              "version_minor": 0
            },
            "text/plain": [
              "VBox(children=(Label(value='34.288 MB of 34.288 MB uploaded\\r'), FloatProgress(value=0.9999932135030818, max=1…"
            ]
          },
          "metadata": {},
          "output_type": "display_data"
        },
        {
          "data": {
            "text/html": [
              "<style>\n",
              "    table.wandb td:nth-child(1) { padding: 0 10px; text-align: left ; width: auto;} td:nth-child(2) {text-align: left ; width: 100%}\n",
              "    .wandb-row { display: flex; flex-direction: row; flex-wrap: wrap; justify-content: flex-start; width: 100% }\n",
              "    .wandb-col { display: flex; flex-direction: column; flex-basis: 100%; flex: 1; padding: 10px; }\n",
              "    </style>\n",
              "<div class=\"wandb-row\"><div class=\"wandb-col\"><h3>Run history:</h3><br/><table class=\"wandb\"><tr><td>epoch</td><td>▁▁▁▂▂▂▂▂▂▃▃▃▃▃▄▄▄▄▄▄▅▅▅▅▅▅▆▆▆▆▆▇▇▇▇▇▇███</td></tr><tr><td>train-rmse</td><td>█▆▅▄▃▃▂▂▂▂▁▁▁▁▁▁▁▁▁▁▁▁▁▁▁▁▁▁▁▁▁▁▁▁▁▁▁▁▁▁</td></tr><tr><td>validation-rmse</td><td>█▆▅▄▃▃▂▂▁▁▁▁▁▁▁▁▁▁▁▁▁▁▁▁▁▁▁▁▁▁▁▁▁▁▁▁▁▁▁▁</td></tr></table><br/></div><div class=\"wandb-col\"><h3>Run summary:</h3><br/><table class=\"wandb\"><tr><td>epoch</td><td>999</td></tr></table><br/></div></div>"
            ],
            "text/plain": [
              "<IPython.core.display.HTML object>"
            ]
          },
          "metadata": {},
          "output_type": "display_data"
        },
        {
          "data": {
            "text/html": [
              " View run <strong style=\"color:#cdcd00\">sweep_grid</strong> at: <a href='https://wandb.ai/muditjindal2025/xgboost-runs/runs/n6g3oz4q' target=\"_blank\">https://wandb.ai/muditjindal2025/xgboost-runs/runs/n6g3oz4q</a><br/> View project at: <a href='https://wandb.ai/muditjindal2025/xgboost-runs' target=\"_blank\">https://wandb.ai/muditjindal2025/xgboost-runs</a><br/>Synced 6 W&B file(s), 1 media file(s), 2 artifact file(s) and 1 other file(s)"
            ],
            "text/plain": [
              "<IPython.core.display.HTML object>"
            ]
          },
          "metadata": {},
          "output_type": "display_data"
        },
        {
          "data": {
            "text/html": [
              "Find logs at: <code>./wandb/run-20240422_121339-n6g3oz4q/logs</code>"
            ],
            "text/plain": [
              "<IPython.core.display.HTML object>"
            ]
          },
          "metadata": {},
          "output_type": "display_data"
        },
        {
          "name": "stderr",
          "output_type": "stream",
          "text": [
            "\u001b[34m\u001b[1mwandb\u001b[0m: Agent Starting Run: esxuth9i with config:\n",
            "\u001b[34m\u001b[1mwandb\u001b[0m: \talpha: 5\n",
            "\u001b[34m\u001b[1mwandb\u001b[0m: \tbooster: gbtree\n",
            "\u001b[34m\u001b[1mwandb\u001b[0m: \tlearning_rate: 0.01\n",
            "\u001b[34m\u001b[1mwandb\u001b[0m: \tmax_depth: 12\n",
            "Failed to detect the name of this notebook, you can set it manually with the WANDB_NOTEBOOK_NAME environment variable to enable code saving.\n",
            "\u001b[34m\u001b[1mwandb\u001b[0m: \u001b[33mWARNING\u001b[0m Ignored wandb.init() arg project when running a sweep.\n"
          ]
        },
        {
          "data": {
            "text/html": [
              "Tracking run with wandb version 0.16.6"
            ],
            "text/plain": [
              "<IPython.core.display.HTML object>"
            ]
          },
          "metadata": {},
          "output_type": "display_data"
        },
        {
          "data": {
            "text/html": [
              "Run data is saved locally in <code>/Users/muditjindal/Downloads/wandb/run-20240422_121442-esxuth9i</code>"
            ],
            "text/plain": [
              "<IPython.core.display.HTML object>"
            ]
          },
          "metadata": {},
          "output_type": "display_data"
        },
        {
          "data": {
            "text/html": [
              "Syncing run <strong><a href='https://wandb.ai/muditjindal2025/xgboost-runs/runs/esxuth9i' target=\"_blank\">sweep_grid</a></strong> to <a href='https://wandb.ai/muditjindal2025/xgboost-runs' target=\"_blank\">Weights & Biases</a> (<a href='https://wandb.me/run' target=\"_blank\">docs</a>)<br/>Sweep page: <a href='https://wandb.ai/muditjindal2025/xgboost-runs/sweeps/gl79h1vt' target=\"_blank\">https://wandb.ai/muditjindal2025/xgboost-runs/sweeps/gl79h1vt</a>"
            ],
            "text/plain": [
              "<IPython.core.display.HTML object>"
            ]
          },
          "metadata": {},
          "output_type": "display_data"
        },
        {
          "data": {
            "text/html": [
              " View project at <a href='https://wandb.ai/muditjindal2025/xgboost-runs' target=\"_blank\">https://wandb.ai/muditjindal2025/xgboost-runs</a>"
            ],
            "text/plain": [
              "<IPython.core.display.HTML object>"
            ]
          },
          "metadata": {},
          "output_type": "display_data"
        },
        {
          "data": {
            "text/html": [
              " View sweep at <a href='https://wandb.ai/muditjindal2025/xgboost-runs/sweeps/gl79h1vt' target=\"_blank\">https://wandb.ai/muditjindal2025/xgboost-runs/sweeps/gl79h1vt</a>"
            ],
            "text/plain": [
              "<IPython.core.display.HTML object>"
            ]
          },
          "metadata": {},
          "output_type": "display_data"
        },
        {
          "data": {
            "text/html": [
              " View run at <a href='https://wandb.ai/muditjindal2025/xgboost-runs/runs/esxuth9i' target=\"_blank\">https://wandb.ai/muditjindal2025/xgboost-runs/runs/esxuth9i</a>"
            ],
            "text/plain": [
              "<IPython.core.display.HTML object>"
            ]
          },
          "metadata": {},
          "output_type": "display_data"
        },
        {
          "name": "stdout",
          "output_type": "stream",
          "text": [
            "[0]\ttrain-rmse:3951.26294\tvalidation-rmse:3948.54287\n",
            "[100]\ttrain-rmse:1539.31182\tvalidation-rmse:1556.35361\n",
            "[200]\ttrain-rmse:684.58574\tvalidation-rmse:772.07611\n",
            "[300]\ttrain-rmse:392.52437\tvalidation-rmse:582.54793\n",
            "[400]\ttrain-rmse:290.99287\tvalidation-rmse:548.78686\n",
            "[500]\ttrain-rmse:244.67520\tvalidation-rmse:544.72943\n",
            "[600]\ttrain-rmse:218.67511\tvalidation-rmse:544.72016\n",
            "[700]\ttrain-rmse:199.20523\tvalidation-rmse:545.98429\n",
            "[800]\ttrain-rmse:184.87776\tvalidation-rmse:546.75910\n",
            "[900]\ttrain-rmse:174.24130\tvalidation-rmse:547.55755\n",
            "[999]\ttrain-rmse:164.85415\tvalidation-rmse:548.66821\n",
            "RMSE Test: 548.6682136007717\n"
          ]
        },
        {
          "data": {
            "application/vnd.jupyter.widget-view+json": {
              "model_id": "36089c387a3446be8d327885ecaadd34",
              "version_major": 2,
              "version_minor": 0
            },
            "text/plain": [
              "VBox(children=(Label(value='135.278 MB of 135.278 MB uploaded\\r'), FloatProgress(value=1.0, max=1.0)))"
            ]
          },
          "metadata": {},
          "output_type": "display_data"
        },
        {
          "data": {
            "text/html": [
              "<style>\n",
              "    table.wandb td:nth-child(1) { padding: 0 10px; text-align: left ; width: auto;} td:nth-child(2) {text-align: left ; width: 100%}\n",
              "    .wandb-row { display: flex; flex-direction: row; flex-wrap: wrap; justify-content: flex-start; width: 100% }\n",
              "    .wandb-col { display: flex; flex-direction: column; flex-basis: 100%; flex: 1; padding: 10px; }\n",
              "    </style>\n",
              "<div class=\"wandb-row\"><div class=\"wandb-col\"><h3>Run history:</h3><br/><table class=\"wandb\"><tr><td>epoch</td><td>▁▁▁▂▂▂▂▂▂▃▃▃▃▃▄▄▄▄▄▄▅▅▅▅▅▅▆▆▆▆▆▇▇▇▇▇▇███</td></tr><tr><td>train-rmse</td><td>█▆▅▄▄▃▃▂▂▂▂▂▁▁▁▁▁▁▁▁▁▁▁▁▁▁▁▁▁▁▁▁▁▁▁▁▁▁▁▁</td></tr><tr><td>validation-rmse</td><td>█▆▅▄▃▃▂▂▁▁▁▁▁▁▁▁▁▁▁▁▁▁▁▁▁▁▁▁▁▁▁▁▁▁▁▁▁▁▁▁</td></tr></table><br/></div><div class=\"wandb-col\"><h3>Run summary:</h3><br/><table class=\"wandb\"><tr><td>epoch</td><td>999</td></tr></table><br/></div></div>"
            ],
            "text/plain": [
              "<IPython.core.display.HTML object>"
            ]
          },
          "metadata": {},
          "output_type": "display_data"
        },
        {
          "data": {
            "text/html": [
              " View run <strong style=\"color:#cdcd00\">sweep_grid</strong> at: <a href='https://wandb.ai/muditjindal2025/xgboost-runs/runs/esxuth9i' target=\"_blank\">https://wandb.ai/muditjindal2025/xgboost-runs/runs/esxuth9i</a><br/> View project at: <a href='https://wandb.ai/muditjindal2025/xgboost-runs' target=\"_blank\">https://wandb.ai/muditjindal2025/xgboost-runs</a><br/>Synced 6 W&B file(s), 1 media file(s), 2 artifact file(s) and 1 other file(s)"
            ],
            "text/plain": [
              "<IPython.core.display.HTML object>"
            ]
          },
          "metadata": {},
          "output_type": "display_data"
        },
        {
          "data": {
            "text/html": [
              "Find logs at: <code>./wandb/run-20240422_121442-esxuth9i/logs</code>"
            ],
            "text/plain": [
              "<IPython.core.display.HTML object>"
            ]
          },
          "metadata": {},
          "output_type": "display_data"
        },
        {
          "name": "stderr",
          "output_type": "stream",
          "text": [
            "\u001b[34m\u001b[1mwandb\u001b[0m: Agent Starting Run: 0il1cepx with config:\n",
            "\u001b[34m\u001b[1mwandb\u001b[0m: \talpha: 5\n",
            "\u001b[34m\u001b[1mwandb\u001b[0m: \tbooster: gbtree\n",
            "\u001b[34m\u001b[1mwandb\u001b[0m: \tlearning_rate: 0.05\n",
            "\u001b[34m\u001b[1mwandb\u001b[0m: \tmax_depth: 3\n",
            "Failed to detect the name of this notebook, you can set it manually with the WANDB_NOTEBOOK_NAME environment variable to enable code saving.\n",
            "\u001b[34m\u001b[1mwandb\u001b[0m: \u001b[33mWARNING\u001b[0m Ignored wandb.init() arg project when running a sweep.\n"
          ]
        },
        {
          "data": {
            "text/html": [
              "Tracking run with wandb version 0.16.6"
            ],
            "text/plain": [
              "<IPython.core.display.HTML object>"
            ]
          },
          "metadata": {},
          "output_type": "display_data"
        },
        {
          "data": {
            "text/html": [
              "Run data is saved locally in <code>/Users/muditjindal/Downloads/wandb/run-20240422_121712-0il1cepx</code>"
            ],
            "text/plain": [
              "<IPython.core.display.HTML object>"
            ]
          },
          "metadata": {},
          "output_type": "display_data"
        },
        {
          "data": {
            "text/html": [
              "Syncing run <strong><a href='https://wandb.ai/muditjindal2025/xgboost-runs/runs/0il1cepx' target=\"_blank\">sweep_grid</a></strong> to <a href='https://wandb.ai/muditjindal2025/xgboost-runs' target=\"_blank\">Weights & Biases</a> (<a href='https://wandb.me/run' target=\"_blank\">docs</a>)<br/>Sweep page: <a href='https://wandb.ai/muditjindal2025/xgboost-runs/sweeps/gl79h1vt' target=\"_blank\">https://wandb.ai/muditjindal2025/xgboost-runs/sweeps/gl79h1vt</a>"
            ],
            "text/plain": [
              "<IPython.core.display.HTML object>"
            ]
          },
          "metadata": {},
          "output_type": "display_data"
        },
        {
          "data": {
            "text/html": [
              " View project at <a href='https://wandb.ai/muditjindal2025/xgboost-runs' target=\"_blank\">https://wandb.ai/muditjindal2025/xgboost-runs</a>"
            ],
            "text/plain": [
              "<IPython.core.display.HTML object>"
            ]
          },
          "metadata": {},
          "output_type": "display_data"
        },
        {
          "data": {
            "text/html": [
              " View sweep at <a href='https://wandb.ai/muditjindal2025/xgboost-runs/sweeps/gl79h1vt' target=\"_blank\">https://wandb.ai/muditjindal2025/xgboost-runs/sweeps/gl79h1vt</a>"
            ],
            "text/plain": [
              "<IPython.core.display.HTML object>"
            ]
          },
          "metadata": {},
          "output_type": "display_data"
        },
        {
          "data": {
            "text/html": [
              " View run at <a href='https://wandb.ai/muditjindal2025/xgboost-runs/runs/0il1cepx' target=\"_blank\">https://wandb.ai/muditjindal2025/xgboost-runs/runs/0il1cepx</a>"
            ],
            "text/plain": [
              "<IPython.core.display.HTML object>"
            ]
          },
          "metadata": {},
          "output_type": "display_data"
        },
        {
          "name": "stdout",
          "output_type": "stream",
          "text": [
            "[0]\ttrain-rmse:3813.30352\tvalidation-rmse:3809.35067\n",
            "[100]\ttrain-rmse:717.81189\tvalidation-rmse:710.91385\n",
            "[200]\ttrain-rmse:606.14862\tvalidation-rmse:611.08626\n",
            "[300]\ttrain-rmse:576.57158\tvalidation-rmse:589.79126\n",
            "[400]\ttrain-rmse:560.95058\tvalidation-rmse:579.84045\n",
            "[500]\ttrain-rmse:547.60492\tvalidation-rmse:572.11487\n",
            "[600]\ttrain-rmse:536.95933\tvalidation-rmse:565.07482\n",
            "[700]\ttrain-rmse:528.98308\tvalidation-rmse:559.50111\n",
            "[800]\ttrain-rmse:521.83036\tvalidation-rmse:554.89018\n",
            "[900]\ttrain-rmse:516.30571\tvalidation-rmse:551.81307\n",
            "[999]\ttrain-rmse:510.63380\tvalidation-rmse:548.68352\n",
            "RMSE Test: 548.6835220215156\n"
          ]
        },
        {
          "data": {
            "application/vnd.jupyter.widget-view+json": {
              "model_id": "200079baf39b45138cd43c037a298120",
              "version_major": 2,
              "version_minor": 0
            },
            "text/plain": [
              "VBox(children=(Label(value='1.065 MB of 1.065 MB uploaded\\r'), FloatProgress(value=1.0, max=1.0)))"
            ]
          },
          "metadata": {},
          "output_type": "display_data"
        },
        {
          "data": {
            "text/html": [
              "<style>\n",
              "    table.wandb td:nth-child(1) { padding: 0 10px; text-align: left ; width: auto;} td:nth-child(2) {text-align: left ; width: 100%}\n",
              "    .wandb-row { display: flex; flex-direction: row; flex-wrap: wrap; justify-content: flex-start; width: 100% }\n",
              "    .wandb-col { display: flex; flex-direction: column; flex-basis: 100%; flex: 1; padding: 10px; }\n",
              "    </style>\n",
              "<div class=\"wandb-row\"><div class=\"wandb-col\"><h3>Run history:</h3><br/><table class=\"wandb\"><tr><td>epoch</td><td>▁▁▁▂▂▂▂▂▂▃▃▃▃▃▄▄▄▄▄▄▅▅▅▅▅▅▆▆▆▆▆▇▇▇▇▇▇███</td></tr><tr><td>train-rmse</td><td>█▃▂▂▂▁▁▁▁▁▁▁▁▁▁▁▁▁▁▁▁▁▁▁▁▁▁▁▁▁▁▁▁▁▁▁▁▁▁▁</td></tr><tr><td>validation-rmse</td><td>█▃▂▂▁▁▁▁▁▁▁▁▁▁▁▁▁▁▁▁▁▁▁▁▁▁▁▁▁▁▁▁▁▁▁▁▁▁▁▁</td></tr></table><br/></div><div class=\"wandb-col\"><h3>Run summary:</h3><br/><table class=\"wandb\"><tr><td>epoch</td><td>999</td></tr></table><br/></div></div>"
            ],
            "text/plain": [
              "<IPython.core.display.HTML object>"
            ]
          },
          "metadata": {},
          "output_type": "display_data"
        },
        {
          "data": {
            "text/html": [
              " View run <strong style=\"color:#cdcd00\">sweep_grid</strong> at: <a href='https://wandb.ai/muditjindal2025/xgboost-runs/runs/0il1cepx' target=\"_blank\">https://wandb.ai/muditjindal2025/xgboost-runs/runs/0il1cepx</a><br/> View project at: <a href='https://wandb.ai/muditjindal2025/xgboost-runs' target=\"_blank\">https://wandb.ai/muditjindal2025/xgboost-runs</a><br/>Synced 6 W&B file(s), 1 media file(s), 2 artifact file(s) and 1 other file(s)"
            ],
            "text/plain": [
              "<IPython.core.display.HTML object>"
            ]
          },
          "metadata": {},
          "output_type": "display_data"
        },
        {
          "data": {
            "text/html": [
              "Find logs at: <code>./wandb/run-20240422_121712-0il1cepx/logs</code>"
            ],
            "text/plain": [
              "<IPython.core.display.HTML object>"
            ]
          },
          "metadata": {},
          "output_type": "display_data"
        },
        {
          "name": "stderr",
          "output_type": "stream",
          "text": [
            "\u001b[34m\u001b[1mwandb\u001b[0m: Agent Starting Run: 2c3i5bz6 with config:\n",
            "\u001b[34m\u001b[1mwandb\u001b[0m: \talpha: 5\n",
            "\u001b[34m\u001b[1mwandb\u001b[0m: \tbooster: gbtree\n",
            "\u001b[34m\u001b[1mwandb\u001b[0m: \tlearning_rate: 0.05\n",
            "\u001b[34m\u001b[1mwandb\u001b[0m: \tmax_depth: 6\n",
            "Failed to detect the name of this notebook, you can set it manually with the WANDB_NOTEBOOK_NAME environment variable to enable code saving.\n",
            "\u001b[34m\u001b[1mwandb\u001b[0m: \u001b[33mWARNING\u001b[0m Ignored wandb.init() arg project when running a sweep.\n"
          ]
        },
        {
          "data": {
            "text/html": [
              "Tracking run with wandb version 0.16.6"
            ],
            "text/plain": [
              "<IPython.core.display.HTML object>"
            ]
          },
          "metadata": {},
          "output_type": "display_data"
        },
        {
          "data": {
            "text/html": [
              "Run data is saved locally in <code>/Users/muditjindal/Downloads/wandb/run-20240422_121741-2c3i5bz6</code>"
            ],
            "text/plain": [
              "<IPython.core.display.HTML object>"
            ]
          },
          "metadata": {},
          "output_type": "display_data"
        },
        {
          "data": {
            "text/html": [
              "Syncing run <strong><a href='https://wandb.ai/muditjindal2025/xgboost-runs/runs/2c3i5bz6' target=\"_blank\">sweep_grid</a></strong> to <a href='https://wandb.ai/muditjindal2025/xgboost-runs' target=\"_blank\">Weights & Biases</a> (<a href='https://wandb.me/run' target=\"_blank\">docs</a>)<br/>Sweep page: <a href='https://wandb.ai/muditjindal2025/xgboost-runs/sweeps/gl79h1vt' target=\"_blank\">https://wandb.ai/muditjindal2025/xgboost-runs/sweeps/gl79h1vt</a>"
            ],
            "text/plain": [
              "<IPython.core.display.HTML object>"
            ]
          },
          "metadata": {},
          "output_type": "display_data"
        },
        {
          "data": {
            "text/html": [
              " View project at <a href='https://wandb.ai/muditjindal2025/xgboost-runs' target=\"_blank\">https://wandb.ai/muditjindal2025/xgboost-runs</a>"
            ],
            "text/plain": [
              "<IPython.core.display.HTML object>"
            ]
          },
          "metadata": {},
          "output_type": "display_data"
        },
        {
          "data": {
            "text/html": [
              " View sweep at <a href='https://wandb.ai/muditjindal2025/xgboost-runs/sweeps/gl79h1vt' target=\"_blank\">https://wandb.ai/muditjindal2025/xgboost-runs/sweeps/gl79h1vt</a>"
            ],
            "text/plain": [
              "<IPython.core.display.HTML object>"
            ]
          },
          "metadata": {},
          "output_type": "display_data"
        },
        {
          "data": {
            "text/html": [
              " View run at <a href='https://wandb.ai/muditjindal2025/xgboost-runs/runs/2c3i5bz6' target=\"_blank\">https://wandb.ai/muditjindal2025/xgboost-runs/runs/2c3i5bz6</a>"
            ],
            "text/plain": [
              "<IPython.core.display.HTML object>"
            ]
          },
          "metadata": {},
          "output_type": "display_data"
        },
        {
          "name": "stdout",
          "output_type": "stream",
          "text": [
            "[0]\ttrain-rmse:3800.30327\tvalidation-rmse:3796.74868\n",
            "[100]\ttrain-rmse:497.75139\tvalidation-rmse:536.43038\n",
            "[200]\ttrain-rmse:449.75219\tvalidation-rmse:525.57498\n",
            "[300]\ttrain-rmse:427.45153\tvalidation-rmse:525.17710\n",
            "[400]\ttrain-rmse:411.07460\tvalidation-rmse:526.18055\n",
            "[500]\ttrain-rmse:395.58375\tvalidation-rmse:527.08556\n",
            "[600]\ttrain-rmse:382.98455\tvalidation-rmse:528.85835\n",
            "[700]\ttrain-rmse:369.47705\tvalidation-rmse:529.32703\n",
            "[800]\ttrain-rmse:356.84914\tvalidation-rmse:531.14874\n",
            "[900]\ttrain-rmse:345.36983\tvalidation-rmse:532.53616\n",
            "[999]\ttrain-rmse:335.81398\tvalidation-rmse:534.00693\n",
            "RMSE Test: 534.006925570798\n"
          ]
        },
        {
          "data": {
            "application/vnd.jupyter.widget-view+json": {
              "model_id": "8e65a7118df447e6a29394a3b2a67e95",
              "version_major": 2,
              "version_minor": 0
            },
            "text/plain": [
              "VBox(children=(Label(value='5.621 MB of 5.621 MB uploaded\\r'), FloatProgress(value=0.9999589423272032, max=1.0…"
            ]
          },
          "metadata": {},
          "output_type": "display_data"
        },
        {
          "data": {
            "text/html": [
              "<style>\n",
              "    table.wandb td:nth-child(1) { padding: 0 10px; text-align: left ; width: auto;} td:nth-child(2) {text-align: left ; width: 100%}\n",
              "    .wandb-row { display: flex; flex-direction: row; flex-wrap: wrap; justify-content: flex-start; width: 100% }\n",
              "    .wandb-col { display: flex; flex-direction: column; flex-basis: 100%; flex: 1; padding: 10px; }\n",
              "    </style>\n",
              "<div class=\"wandb-row\"><div class=\"wandb-col\"><h3>Run history:</h3><br/><table class=\"wandb\"><tr><td>epoch</td><td>▁▁▁▂▂▂▂▂▂▃▃▃▃▃▄▄▄▄▄▄▅▅▅▅▅▅▆▆▆▆▆▇▇▇▇▇▇███</td></tr><tr><td>train-rmse</td><td>█▃▂▂▁▁▁▁▁▁▁▁▁▁▁▁▁▁▁▁▁▁▁▁▁▁▁▁▁▁▁▁▁▁▁▁▁▁▁▁</td></tr><tr><td>validation-rmse</td><td>█▃▁▁▁▁▁▁▁▁▁▁▁▁▁▁▁▁▁▁▁▁▁▁▁▁▁▁▁▁▁▁▁▁▁▁▁▁▁▁</td></tr></table><br/></div><div class=\"wandb-col\"><h3>Run summary:</h3><br/><table class=\"wandb\"><tr><td>epoch</td><td>999</td></tr></table><br/></div></div>"
            ],
            "text/plain": [
              "<IPython.core.display.HTML object>"
            ]
          },
          "metadata": {},
          "output_type": "display_data"
        },
        {
          "data": {
            "text/html": [
              " View run <strong style=\"color:#cdcd00\">sweep_grid</strong> at: <a href='https://wandb.ai/muditjindal2025/xgboost-runs/runs/2c3i5bz6' target=\"_blank\">https://wandb.ai/muditjindal2025/xgboost-runs/runs/2c3i5bz6</a><br/> View project at: <a href='https://wandb.ai/muditjindal2025/xgboost-runs' target=\"_blank\">https://wandb.ai/muditjindal2025/xgboost-runs</a><br/>Synced 6 W&B file(s), 1 media file(s), 2 artifact file(s) and 1 other file(s)"
            ],
            "text/plain": [
              "<IPython.core.display.HTML object>"
            ]
          },
          "metadata": {},
          "output_type": "display_data"
        },
        {
          "data": {
            "text/html": [
              "Find logs at: <code>./wandb/run-20240422_121741-2c3i5bz6/logs</code>"
            ],
            "text/plain": [
              "<IPython.core.display.HTML object>"
            ]
          },
          "metadata": {},
          "output_type": "display_data"
        },
        {
          "name": "stderr",
          "output_type": "stream",
          "text": [
            "\u001b[34m\u001b[1mwandb\u001b[0m: Agent Starting Run: ywbjwxkb with config:\n",
            "\u001b[34m\u001b[1mwandb\u001b[0m: \talpha: 5\n",
            "\u001b[34m\u001b[1mwandb\u001b[0m: \tbooster: gbtree\n",
            "\u001b[34m\u001b[1mwandb\u001b[0m: \tlearning_rate: 0.05\n",
            "\u001b[34m\u001b[1mwandb\u001b[0m: \tmax_depth: 9\n",
            "Failed to detect the name of this notebook, you can set it manually with the WANDB_NOTEBOOK_NAME environment variable to enable code saving.\n",
            "\u001b[34m\u001b[1mwandb\u001b[0m: \u001b[33mWARNING\u001b[0m Ignored wandb.init() arg project when running a sweep.\n"
          ]
        },
        {
          "data": {
            "text/html": [
              "Tracking run with wandb version 0.16.6"
            ],
            "text/plain": [
              "<IPython.core.display.HTML object>"
            ]
          },
          "metadata": {},
          "output_type": "display_data"
        },
        {
          "data": {
            "text/html": [
              "Run data is saved locally in <code>/Users/muditjindal/Downloads/wandb/run-20240422_121813-ywbjwxkb</code>"
            ],
            "text/plain": [
              "<IPython.core.display.HTML object>"
            ]
          },
          "metadata": {},
          "output_type": "display_data"
        },
        {
          "data": {
            "text/html": [
              "Syncing run <strong><a href='https://wandb.ai/muditjindal2025/xgboost-runs/runs/ywbjwxkb' target=\"_blank\">sweep_grid</a></strong> to <a href='https://wandb.ai/muditjindal2025/xgboost-runs' target=\"_blank\">Weights & Biases</a> (<a href='https://wandb.me/run' target=\"_blank\">docs</a>)<br/>Sweep page: <a href='https://wandb.ai/muditjindal2025/xgboost-runs/sweeps/gl79h1vt' target=\"_blank\">https://wandb.ai/muditjindal2025/xgboost-runs/sweeps/gl79h1vt</a>"
            ],
            "text/plain": [
              "<IPython.core.display.HTML object>"
            ]
          },
          "metadata": {},
          "output_type": "display_data"
        },
        {
          "data": {
            "text/html": [
              " View project at <a href='https://wandb.ai/muditjindal2025/xgboost-runs' target=\"_blank\">https://wandb.ai/muditjindal2025/xgboost-runs</a>"
            ],
            "text/plain": [
              "<IPython.core.display.HTML object>"
            ]
          },
          "metadata": {},
          "output_type": "display_data"
        },
        {
          "data": {
            "text/html": [
              " View sweep at <a href='https://wandb.ai/muditjindal2025/xgboost-runs/sweeps/gl79h1vt' target=\"_blank\">https://wandb.ai/muditjindal2025/xgboost-runs/sweeps/gl79h1vt</a>"
            ],
            "text/plain": [
              "<IPython.core.display.HTML object>"
            ]
          },
          "metadata": {},
          "output_type": "display_data"
        },
        {
          "data": {
            "text/html": [
              " View run at <a href='https://wandb.ai/muditjindal2025/xgboost-runs/runs/ywbjwxkb' target=\"_blank\">https://wandb.ai/muditjindal2025/xgboost-runs/runs/ywbjwxkb</a>"
            ],
            "text/plain": [
              "<IPython.core.display.HTML object>"
            ]
          },
          "metadata": {},
          "output_type": "display_data"
        },
        {
          "name": "stdout",
          "output_type": "stream",
          "text": [
            "[0]\ttrain-rmse:3796.96668\tvalidation-rmse:3794.14514\n",
            "[100]\ttrain-rmse:385.97968\tvalidation-rmse:531.62307\n",
            "[200]\ttrain-rmse:319.77920\tvalidation-rmse:536.03941\n",
            "[300]\ttrain-rmse:281.13850\tvalidation-rmse:538.06138\n",
            "[400]\ttrain-rmse:246.63644\tvalidation-rmse:541.47739\n",
            "[500]\ttrain-rmse:228.82464\tvalidation-rmse:543.05273\n",
            "[600]\ttrain-rmse:208.23337\tvalidation-rmse:544.65794\n",
            "[700]\ttrain-rmse:187.68282\tvalidation-rmse:546.20418\n",
            "[800]\ttrain-rmse:172.55371\tvalidation-rmse:547.08361\n",
            "[900]\ttrain-rmse:160.21245\tvalidation-rmse:548.23295\n",
            "[999]\ttrain-rmse:149.65111\tvalidation-rmse:548.82786\n",
            "RMSE Test: 548.8278642596285\n"
          ]
        },
        {
          "data": {
            "application/vnd.jupyter.widget-view+json": {
              "model_id": "3b8c2735b9a14bfeb5eb6f32e034597a",
              "version_major": 2,
              "version_minor": 0
            },
            "text/plain": [
              "VBox(children=(Label(value='28.294 MB of 28.294 MB uploaded\\r'), FloatProgress(value=1.0, max=1.0)))"
            ]
          },
          "metadata": {},
          "output_type": "display_data"
        },
        {
          "data": {
            "text/html": [
              "<style>\n",
              "    table.wandb td:nth-child(1) { padding: 0 10px; text-align: left ; width: auto;} td:nth-child(2) {text-align: left ; width: 100%}\n",
              "    .wandb-row { display: flex; flex-direction: row; flex-wrap: wrap; justify-content: flex-start; width: 100% }\n",
              "    .wandb-col { display: flex; flex-direction: column; flex-basis: 100%; flex: 1; padding: 10px; }\n",
              "    </style>\n",
              "<div class=\"wandb-row\"><div class=\"wandb-col\"><h3>Run history:</h3><br/><table class=\"wandb\"><tr><td>epoch</td><td>▁▁▁▂▂▂▂▂▂▃▃▃▃▃▄▄▄▄▄▄▅▅▅▅▅▅▆▆▆▆▆▇▇▇▇▇▇███</td></tr><tr><td>train-rmse</td><td>█▃▂▂▂▂▂▁▁▁▁▁▁▁▁▁▁▁▁▁▁▁▁▁▁▁▁▁▁▁▁▁▁▁▁▁▁▁▁▁</td></tr><tr><td>validation-rmse</td><td>█▂▁▁▁▁▁▁▁▁▁▁▁▁▁▁▁▁▁▁▁▁▁▁▁▁▁▁▁▁▁▁▁▁▁▁▁▁▁▁</td></tr></table><br/></div><div class=\"wandb-col\"><h3>Run summary:</h3><br/><table class=\"wandb\"><tr><td>epoch</td><td>999</td></tr></table><br/></div></div>"
            ],
            "text/plain": [
              "<IPython.core.display.HTML object>"
            ]
          },
          "metadata": {},
          "output_type": "display_data"
        },
        {
          "data": {
            "text/html": [
              " View run <strong style=\"color:#cdcd00\">sweep_grid</strong> at: <a href='https://wandb.ai/muditjindal2025/xgboost-runs/runs/ywbjwxkb' target=\"_blank\">https://wandb.ai/muditjindal2025/xgboost-runs/runs/ywbjwxkb</a><br/> View project at: <a href='https://wandb.ai/muditjindal2025/xgboost-runs' target=\"_blank\">https://wandb.ai/muditjindal2025/xgboost-runs</a><br/>Synced 6 W&B file(s), 1 media file(s), 2 artifact file(s) and 1 other file(s)"
            ],
            "text/plain": [
              "<IPython.core.display.HTML object>"
            ]
          },
          "metadata": {},
          "output_type": "display_data"
        },
        {
          "data": {
            "text/html": [
              "Find logs at: <code>./wandb/run-20240422_121813-ywbjwxkb/logs</code>"
            ],
            "text/plain": [
              "<IPython.core.display.HTML object>"
            ]
          },
          "metadata": {},
          "output_type": "display_data"
        },
        {
          "name": "stderr",
          "output_type": "stream",
          "text": [
            "\u001b[34m\u001b[1mwandb\u001b[0m: Agent Starting Run: ltja3rgz with config:\n",
            "\u001b[34m\u001b[1mwandb\u001b[0m: \talpha: 5\n",
            "\u001b[34m\u001b[1mwandb\u001b[0m: \tbooster: gbtree\n",
            "\u001b[34m\u001b[1mwandb\u001b[0m: \tlearning_rate: 0.05\n",
            "\u001b[34m\u001b[1mwandb\u001b[0m: \tmax_depth: 12\n",
            "Failed to detect the name of this notebook, you can set it manually with the WANDB_NOTEBOOK_NAME environment variable to enable code saving.\n",
            "\u001b[34m\u001b[1mwandb\u001b[0m: \u001b[33mWARNING\u001b[0m Ignored wandb.init() arg project when running a sweep.\n"
          ]
        },
        {
          "data": {
            "text/html": [
              "Tracking run with wandb version 0.16.6"
            ],
            "text/plain": [
              "<IPython.core.display.HTML object>"
            ]
          },
          "metadata": {},
          "output_type": "display_data"
        },
        {
          "data": {
            "text/html": [
              "Run data is saved locally in <code>/Users/muditjindal/Downloads/wandb/run-20240422_121910-ltja3rgz</code>"
            ],
            "text/plain": [
              "<IPython.core.display.HTML object>"
            ]
          },
          "metadata": {},
          "output_type": "display_data"
        },
        {
          "data": {
            "text/html": [
              "Syncing run <strong><a href='https://wandb.ai/muditjindal2025/xgboost-runs/runs/ltja3rgz' target=\"_blank\">sweep_grid</a></strong> to <a href='https://wandb.ai/muditjindal2025/xgboost-runs' target=\"_blank\">Weights & Biases</a> (<a href='https://wandb.me/run' target=\"_blank\">docs</a>)<br/>Sweep page: <a href='https://wandb.ai/muditjindal2025/xgboost-runs/sweeps/gl79h1vt' target=\"_blank\">https://wandb.ai/muditjindal2025/xgboost-runs/sweeps/gl79h1vt</a>"
            ],
            "text/plain": [
              "<IPython.core.display.HTML object>"
            ]
          },
          "metadata": {},
          "output_type": "display_data"
        },
        {
          "data": {
            "text/html": [
              " View project at <a href='https://wandb.ai/muditjindal2025/xgboost-runs' target=\"_blank\">https://wandb.ai/muditjindal2025/xgboost-runs</a>"
            ],
            "text/plain": [
              "<IPython.core.display.HTML object>"
            ]
          },
          "metadata": {},
          "output_type": "display_data"
        },
        {
          "data": {
            "text/html": [
              " View sweep at <a href='https://wandb.ai/muditjindal2025/xgboost-runs/sweeps/gl79h1vt' target=\"_blank\">https://wandb.ai/muditjindal2025/xgboost-runs/sweeps/gl79h1vt</a>"
            ],
            "text/plain": [
              "<IPython.core.display.HTML object>"
            ]
          },
          "metadata": {},
          "output_type": "display_data"
        },
        {
          "data": {
            "text/html": [
              " View run at <a href='https://wandb.ai/muditjindal2025/xgboost-runs/runs/ltja3rgz' target=\"_blank\">https://wandb.ai/muditjindal2025/xgboost-runs/runs/ltja3rgz</a>"
            ],
            "text/plain": [
              "<IPython.core.display.HTML object>"
            ]
          },
          "metadata": {},
          "output_type": "display_data"
        },
        {
          "name": "stdout",
          "output_type": "stream",
          "text": [
            "[0]\ttrain-rmse:3796.58679\tvalidation-rmse:3793.94039\n",
            "[100]\ttrain-rmse:239.98835\tvalidation-rmse:544.32430\n",
            "[200]\ttrain-rmse:162.44646\tvalidation-rmse:551.00402\n",
            "[300]\ttrain-rmse:132.45241\tvalidation-rmse:554.10444\n",
            "[400]\ttrain-rmse:109.30453\tvalidation-rmse:555.81709\n",
            "[500]\ttrain-rmse:91.89379\tvalidation-rmse:556.81052\n",
            "[600]\ttrain-rmse:75.25825\tvalidation-rmse:557.68076\n",
            "[700]\ttrain-rmse:63.20777\tvalidation-rmse:558.28997\n",
            "[800]\ttrain-rmse:52.60686\tvalidation-rmse:558.76735\n",
            "[900]\ttrain-rmse:45.33231\tvalidation-rmse:559.05335\n",
            "[999]\ttrain-rmse:39.00441\tvalidation-rmse:559.38283\n",
            "RMSE Test: 559.3828338683932\n"
          ]
        },
        {
          "data": {
            "application/vnd.jupyter.widget-view+json": {
              "model_id": "e698c4603ccb4c87922a70ebcaea75e5",
              "version_major": 2,
              "version_minor": 0
            },
            "text/plain": [
              "VBox(children=(Label(value='99.140 MB of 99.140 MB uploaded\\r'), FloatProgress(value=1.0, max=1.0)))"
            ]
          },
          "metadata": {},
          "output_type": "display_data"
        },
        {
          "data": {
            "text/html": [
              "<style>\n",
              "    table.wandb td:nth-child(1) { padding: 0 10px; text-align: left ; width: auto;} td:nth-child(2) {text-align: left ; width: 100%}\n",
              "    .wandb-row { display: flex; flex-direction: row; flex-wrap: wrap; justify-content: flex-start; width: 100% }\n",
              "    .wandb-col { display: flex; flex-direction: column; flex-basis: 100%; flex: 1; padding: 10px; }\n",
              "    </style>\n",
              "<div class=\"wandb-row\"><div class=\"wandb-col\"><h3>Run history:</h3><br/><table class=\"wandb\"><tr><td>epoch</td><td>▁▁▁▂▂▂▂▂▂▃▃▃▃▃▄▄▄▄▄▄▅▅▅▅▅▅▆▆▆▆▆▇▇▇▇▇▇███</td></tr><tr><td>train-rmse</td><td>█▃▂▂▂▁▁▁▁▁▁▁▁▁▁▁▁▁▁▁▁▁▁▁▁▁▁▁▁▁▁▁▁▁▁▁▁▁▁▁</td></tr><tr><td>validation-rmse</td><td>█▂▁▁▁▁▁▁▁▁▁▁▁▁▁▁▁▁▁▁▁▁▁▁▁▁▁▁▁▁▁▁▁▁▁▁▁▁▁▁</td></tr></table><br/></div><div class=\"wandb-col\"><h3>Run summary:</h3><br/><table class=\"wandb\"><tr><td>epoch</td><td>999</td></tr></table><br/></div></div>"
            ],
            "text/plain": [
              "<IPython.core.display.HTML object>"
            ]
          },
          "metadata": {},
          "output_type": "display_data"
        },
        {
          "data": {
            "text/html": [
              " View run <strong style=\"color:#cdcd00\">sweep_grid</strong> at: <a href='https://wandb.ai/muditjindal2025/xgboost-runs/runs/ltja3rgz' target=\"_blank\">https://wandb.ai/muditjindal2025/xgboost-runs/runs/ltja3rgz</a><br/> View project at: <a href='https://wandb.ai/muditjindal2025/xgboost-runs' target=\"_blank\">https://wandb.ai/muditjindal2025/xgboost-runs</a><br/>Synced 6 W&B file(s), 1 media file(s), 2 artifact file(s) and 1 other file(s)"
            ],
            "text/plain": [
              "<IPython.core.display.HTML object>"
            ]
          },
          "metadata": {},
          "output_type": "display_data"
        },
        {
          "data": {
            "text/html": [
              "Find logs at: <code>./wandb/run-20240422_121910-ltja3rgz/logs</code>"
            ],
            "text/plain": [
              "<IPython.core.display.HTML object>"
            ]
          },
          "metadata": {},
          "output_type": "display_data"
        },
        {
          "name": "stderr",
          "output_type": "stream",
          "text": [
            "\u001b[34m\u001b[1mwandb\u001b[0m: Agent Starting Run: gzky27q7 with config:\n",
            "\u001b[34m\u001b[1mwandb\u001b[0m: \talpha: 5\n",
            "\u001b[34m\u001b[1mwandb\u001b[0m: \tbooster: gbtree\n",
            "\u001b[34m\u001b[1mwandb\u001b[0m: \tlearning_rate: 0.1\n",
            "\u001b[34m\u001b[1mwandb\u001b[0m: \tmax_depth: 3\n",
            "Failed to detect the name of this notebook, you can set it manually with the WANDB_NOTEBOOK_NAME environment variable to enable code saving.\n",
            "\u001b[34m\u001b[1mwandb\u001b[0m: \u001b[33mWARNING\u001b[0m Ignored wandb.init() arg project when running a sweep.\n"
          ]
        },
        {
          "data": {
            "text/html": [
              "Tracking run with wandb version 0.16.6"
            ],
            "text/plain": [
              "<IPython.core.display.HTML object>"
            ]
          },
          "metadata": {},
          "output_type": "display_data"
        },
        {
          "data": {
            "text/html": [
              "Run data is saved locally in <code>/Users/muditjindal/Downloads/wandb/run-20240422_122112-gzky27q7</code>"
            ],
            "text/plain": [
              "<IPython.core.display.HTML object>"
            ]
          },
          "metadata": {},
          "output_type": "display_data"
        },
        {
          "data": {
            "text/html": [
              "Syncing run <strong><a href='https://wandb.ai/muditjindal2025/xgboost-runs/runs/gzky27q7' target=\"_blank\">sweep_grid</a></strong> to <a href='https://wandb.ai/muditjindal2025/xgboost-runs' target=\"_blank\">Weights & Biases</a> (<a href='https://wandb.me/run' target=\"_blank\">docs</a>)<br/>Sweep page: <a href='https://wandb.ai/muditjindal2025/xgboost-runs/sweeps/gl79h1vt' target=\"_blank\">https://wandb.ai/muditjindal2025/xgboost-runs/sweeps/gl79h1vt</a>"
            ],
            "text/plain": [
              "<IPython.core.display.HTML object>"
            ]
          },
          "metadata": {},
          "output_type": "display_data"
        },
        {
          "data": {
            "text/html": [
              " View project at <a href='https://wandb.ai/muditjindal2025/xgboost-runs' target=\"_blank\">https://wandb.ai/muditjindal2025/xgboost-runs</a>"
            ],
            "text/plain": [
              "<IPython.core.display.HTML object>"
            ]
          },
          "metadata": {},
          "output_type": "display_data"
        },
        {
          "data": {
            "text/html": [
              " View sweep at <a href='https://wandb.ai/muditjindal2025/xgboost-runs/sweeps/gl79h1vt' target=\"_blank\">https://wandb.ai/muditjindal2025/xgboost-runs/sweeps/gl79h1vt</a>"
            ],
            "text/plain": [
              "<IPython.core.display.HTML object>"
            ]
          },
          "metadata": {},
          "output_type": "display_data"
        },
        {
          "data": {
            "text/html": [
              " View run at <a href='https://wandb.ai/muditjindal2025/xgboost-runs/runs/gzky27q7' target=\"_blank\">https://wandb.ai/muditjindal2025/xgboost-runs/runs/gzky27q7</a>"
            ],
            "text/plain": [
              "<IPython.core.display.HTML object>"
            ]
          },
          "metadata": {},
          "output_type": "display_data"
        },
        {
          "name": "stdout",
          "output_type": "stream",
          "text": [
            "[0]\ttrain-rmse:3637.78707\tvalidation-rmse:3632.62720\n",
            "[100]\ttrain-rmse:609.17621\tvalidation-rmse:611.37479\n",
            "[200]\ttrain-rmse:562.46402\tvalidation-rmse:580.52664\n",
            "[300]\ttrain-rmse:540.32158\tvalidation-rmse:566.62981\n",
            "[400]\ttrain-rmse:523.10108\tvalidation-rmse:556.48728\n",
            "[500]\ttrain-rmse:510.85361\tvalidation-rmse:550.61282\n",
            "[600]\ttrain-rmse:502.37059\tvalidation-rmse:546.59607\n",
            "[700]\ttrain-rmse:494.76384\tvalidation-rmse:544.32709\n",
            "[800]\ttrain-rmse:487.68354\tvalidation-rmse:542.61181\n",
            "[900]\ttrain-rmse:482.82508\tvalidation-rmse:541.07865\n",
            "[999]\ttrain-rmse:478.07193\tvalidation-rmse:540.95112\n",
            "RMSE Test: 540.9511176898354\n"
          ]
        },
        {
          "data": {
            "application/vnd.jupyter.widget-view+json": {
              "model_id": "c503f4758eba4825961dab70fc9936a9",
              "version_major": 2,
              "version_minor": 0
            },
            "text/plain": [
              "VBox(children=(Label(value='1.065 MB of 1.065 MB uploaded\\r'), FloatProgress(value=1.0, max=1.0)))"
            ]
          },
          "metadata": {},
          "output_type": "display_data"
        },
        {
          "data": {
            "text/html": [
              "<style>\n",
              "    table.wandb td:nth-child(1) { padding: 0 10px; text-align: left ; width: auto;} td:nth-child(2) {text-align: left ; width: 100%}\n",
              "    .wandb-row { display: flex; flex-direction: row; flex-wrap: wrap; justify-content: flex-start; width: 100% }\n",
              "    .wandb-col { display: flex; flex-direction: column; flex-basis: 100%; flex: 1; padding: 10px; }\n",
              "    </style>\n",
              "<div class=\"wandb-row\"><div class=\"wandb-col\"><h3>Run history:</h3><br/><table class=\"wandb\"><tr><td>epoch</td><td>▁▁▁▂▂▂▂▂▂▃▃▃▃▃▄▄▄▄▄▄▅▅▅▅▅▅▆▆▆▆▆▇▇▇▇▇▇███</td></tr><tr><td>train-rmse</td><td>█▃▂▂▂▁▁▁▁▁▁▁▁▁▁▁▁▁▁▁▁▁▁▁▁▁▁▁▁▁▁▁▁▁▁▁▁▁▁▁</td></tr><tr><td>validation-rmse</td><td>█▂▂▁▁▁▁▁▁▁▁▁▁▁▁▁▁▁▁▁▁▁▁▁▁▁▁▁▁▁▁▁▁▁▁▁▁▁▁▁</td></tr></table><br/></div><div class=\"wandb-col\"><h3>Run summary:</h3><br/><table class=\"wandb\"><tr><td>epoch</td><td>999</td></tr></table><br/></div></div>"
            ],
            "text/plain": [
              "<IPython.core.display.HTML object>"
            ]
          },
          "metadata": {},
          "output_type": "display_data"
        },
        {
          "data": {
            "text/html": [
              " View run <strong style=\"color:#cdcd00\">sweep_grid</strong> at: <a href='https://wandb.ai/muditjindal2025/xgboost-runs/runs/gzky27q7' target=\"_blank\">https://wandb.ai/muditjindal2025/xgboost-runs/runs/gzky27q7</a><br/> View project at: <a href='https://wandb.ai/muditjindal2025/xgboost-runs' target=\"_blank\">https://wandb.ai/muditjindal2025/xgboost-runs</a><br/>Synced 6 W&B file(s), 1 media file(s), 2 artifact file(s) and 1 other file(s)"
            ],
            "text/plain": [
              "<IPython.core.display.HTML object>"
            ]
          },
          "metadata": {},
          "output_type": "display_data"
        },
        {
          "data": {
            "text/html": [
              "Find logs at: <code>./wandb/run-20240422_122112-gzky27q7/logs</code>"
            ],
            "text/plain": [
              "<IPython.core.display.HTML object>"
            ]
          },
          "metadata": {},
          "output_type": "display_data"
        },
        {
          "name": "stderr",
          "output_type": "stream",
          "text": [
            "\u001b[34m\u001b[1mwandb\u001b[0m: Agent Starting Run: 0yr5q6wf with config:\n",
            "\u001b[34m\u001b[1mwandb\u001b[0m: \talpha: 5\n",
            "\u001b[34m\u001b[1mwandb\u001b[0m: \tbooster: gbtree\n",
            "\u001b[34m\u001b[1mwandb\u001b[0m: \tlearning_rate: 0.1\n",
            "\u001b[34m\u001b[1mwandb\u001b[0m: \tmax_depth: 6\n",
            "Failed to detect the name of this notebook, you can set it manually with the WANDB_NOTEBOOK_NAME environment variable to enable code saving.\n",
            "\u001b[34m\u001b[1mwandb\u001b[0m: \u001b[33mWARNING\u001b[0m Ignored wandb.init() arg project when running a sweep.\n"
          ]
        },
        {
          "data": {
            "text/html": [
              "Tracking run with wandb version 0.16.6"
            ],
            "text/plain": [
              "<IPython.core.display.HTML object>"
            ]
          },
          "metadata": {},
          "output_type": "display_data"
        },
        {
          "data": {
            "text/html": [
              "Run data is saved locally in <code>/Users/muditjindal/Downloads/wandb/run-20240422_122137-0yr5q6wf</code>"
            ],
            "text/plain": [
              "<IPython.core.display.HTML object>"
            ]
          },
          "metadata": {},
          "output_type": "display_data"
        },
        {
          "data": {
            "text/html": [
              "Syncing run <strong><a href='https://wandb.ai/muditjindal2025/xgboost-runs/runs/0yr5q6wf' target=\"_blank\">sweep_grid</a></strong> to <a href='https://wandb.ai/muditjindal2025/xgboost-runs' target=\"_blank\">Weights & Biases</a> (<a href='https://wandb.me/run' target=\"_blank\">docs</a>)<br/>Sweep page: <a href='https://wandb.ai/muditjindal2025/xgboost-runs/sweeps/gl79h1vt' target=\"_blank\">https://wandb.ai/muditjindal2025/xgboost-runs/sweeps/gl79h1vt</a>"
            ],
            "text/plain": [
              "<IPython.core.display.HTML object>"
            ]
          },
          "metadata": {},
          "output_type": "display_data"
        },
        {
          "data": {
            "text/html": [
              " View project at <a href='https://wandb.ai/muditjindal2025/xgboost-runs' target=\"_blank\">https://wandb.ai/muditjindal2025/xgboost-runs</a>"
            ],
            "text/plain": [
              "<IPython.core.display.HTML object>"
            ]
          },
          "metadata": {},
          "output_type": "display_data"
        },
        {
          "data": {
            "text/html": [
              " View sweep at <a href='https://wandb.ai/muditjindal2025/xgboost-runs/sweeps/gl79h1vt' target=\"_blank\">https://wandb.ai/muditjindal2025/xgboost-runs/sweeps/gl79h1vt</a>"
            ],
            "text/plain": [
              "<IPython.core.display.HTML object>"
            ]
          },
          "metadata": {},
          "output_type": "display_data"
        },
        {
          "data": {
            "text/html": [
              " View run at <a href='https://wandb.ai/muditjindal2025/xgboost-runs/runs/0yr5q6wf' target=\"_blank\">https://wandb.ai/muditjindal2025/xgboost-runs/runs/0yr5q6wf</a>"
            ],
            "text/plain": [
              "<IPython.core.display.HTML object>"
            ]
          },
          "metadata": {},
          "output_type": "display_data"
        },
        {
          "name": "stdout",
          "output_type": "stream",
          "text": [
            "[0]\ttrain-rmse:3611.16179\tvalidation-rmse:3606.77432\n",
            "[100]\ttrain-rmse:451.11153\tvalidation-rmse:525.40748\n",
            "[200]\ttrain-rmse:407.65609\tvalidation-rmse:527.16561\n",
            "[300]\ttrain-rmse:377.44893\tvalidation-rmse:532.33133\n",
            "[400]\ttrain-rmse:353.03821\tvalidation-rmse:533.95690\n",
            "[500]\ttrain-rmse:330.15314\tvalidation-rmse:535.74810\n",
            "[600]\ttrain-rmse:311.39322\tvalidation-rmse:538.51316\n",
            "[700]\ttrain-rmse:298.44777\tvalidation-rmse:539.81762\n",
            "[800]\ttrain-rmse:284.77878\tvalidation-rmse:542.03716\n",
            "[900]\ttrain-rmse:271.24358\tvalidation-rmse:543.53544\n",
            "[999]\ttrain-rmse:260.59327\tvalidation-rmse:544.48679\n",
            "RMSE Test: 544.486790493611\n"
          ]
        },
        {
          "data": {
            "application/vnd.jupyter.widget-view+json": {
              "model_id": "cbfc7fd74bd545239fec64e6969f6ba7",
              "version_major": 2,
              "version_minor": 0
            },
            "text/plain": [
              "VBox(children=(Label(value='5.641 MB of 5.641 MB uploaded\\r'), FloatProgress(value=1.0, max=1.0)))"
            ]
          },
          "metadata": {},
          "output_type": "display_data"
        },
        {
          "data": {
            "text/html": [
              "<style>\n",
              "    table.wandb td:nth-child(1) { padding: 0 10px; text-align: left ; width: auto;} td:nth-child(2) {text-align: left ; width: 100%}\n",
              "    .wandb-row { display: flex; flex-direction: row; flex-wrap: wrap; justify-content: flex-start; width: 100% }\n",
              "    .wandb-col { display: flex; flex-direction: column; flex-basis: 100%; flex: 1; padding: 10px; }\n",
              "    </style>\n",
              "<div class=\"wandb-row\"><div class=\"wandb-col\"><h3>Run history:</h3><br/><table class=\"wandb\"><tr><td>epoch</td><td>▁▁▁▂▂▂▂▂▂▃▃▃▃▃▄▄▄▄▄▄▅▅▅▅▅▅▆▆▆▆▆▇▇▇▇▇▇███</td></tr><tr><td>train-rmse</td><td>█▂▂▂▂▂▂▂▂▂▂▂▁▁▁▁▁▁▁▁▁▁▁▁▁▁▁▁▁▁▁▁▁▁▁▁▁▁▁▁</td></tr><tr><td>validation-rmse</td><td>█▁▁▁▁▁▁▁▁▁▁▁▁▁▁▁▁▁▁▁▁▁▁▁▁▁▁▁▁▁▁▁▁▁▁▁▁▁▁▁</td></tr></table><br/></div><div class=\"wandb-col\"><h3>Run summary:</h3><br/><table class=\"wandb\"><tr><td>epoch</td><td>999</td></tr></table><br/></div></div>"
            ],
            "text/plain": [
              "<IPython.core.display.HTML object>"
            ]
          },
          "metadata": {},
          "output_type": "display_data"
        },
        {
          "data": {
            "text/html": [
              " View run <strong style=\"color:#cdcd00\">sweep_grid</strong> at: <a href='https://wandb.ai/muditjindal2025/xgboost-runs/runs/0yr5q6wf' target=\"_blank\">https://wandb.ai/muditjindal2025/xgboost-runs/runs/0yr5q6wf</a><br/> View project at: <a href='https://wandb.ai/muditjindal2025/xgboost-runs' target=\"_blank\">https://wandb.ai/muditjindal2025/xgboost-runs</a><br/>Synced 6 W&B file(s), 1 media file(s), 2 artifact file(s) and 1 other file(s)"
            ],
            "text/plain": [
              "<IPython.core.display.HTML object>"
            ]
          },
          "metadata": {},
          "output_type": "display_data"
        },
        {
          "data": {
            "text/html": [
              "Find logs at: <code>./wandb/run-20240422_122137-0yr5q6wf/logs</code>"
            ],
            "text/plain": [
              "<IPython.core.display.HTML object>"
            ]
          },
          "metadata": {},
          "output_type": "display_data"
        },
        {
          "name": "stderr",
          "output_type": "stream",
          "text": [
            "\u001b[34m\u001b[1mwandb\u001b[0m: Sweep Agent: Waiting for job.\n",
            "\u001b[34m\u001b[1mwandb\u001b[0m: Job received.\n",
            "\u001b[34m\u001b[1mwandb\u001b[0m: Agent Starting Run: c90sp8d2 with config:\n",
            "\u001b[34m\u001b[1mwandb\u001b[0m: \talpha: 5\n",
            "\u001b[34m\u001b[1mwandb\u001b[0m: \tbooster: gbtree\n",
            "\u001b[34m\u001b[1mwandb\u001b[0m: \tlearning_rate: 0.1\n",
            "\u001b[34m\u001b[1mwandb\u001b[0m: \tmax_depth: 9\n",
            "Failed to detect the name of this notebook, you can set it manually with the WANDB_NOTEBOOK_NAME environment variable to enable code saving.\n",
            "\u001b[34m\u001b[1mwandb\u001b[0m: \u001b[33mWARNING\u001b[0m Ignored wandb.init() arg project when running a sweep.\n"
          ]
        },
        {
          "data": {
            "text/html": [
              "Tracking run with wandb version 0.16.6"
            ],
            "text/plain": [
              "<IPython.core.display.HTML object>"
            ]
          },
          "metadata": {},
          "output_type": "display_data"
        },
        {
          "data": {
            "text/html": [
              "Run data is saved locally in <code>/Users/muditjindal/Downloads/wandb/run-20240422_122217-c90sp8d2</code>"
            ],
            "text/plain": [
              "<IPython.core.display.HTML object>"
            ]
          },
          "metadata": {},
          "output_type": "display_data"
        },
        {
          "data": {
            "text/html": [
              "Syncing run <strong><a href='https://wandb.ai/muditjindal2025/xgboost-runs/runs/c90sp8d2' target=\"_blank\">sweep_grid</a></strong> to <a href='https://wandb.ai/muditjindal2025/xgboost-runs' target=\"_blank\">Weights & Biases</a> (<a href='https://wandb.me/run' target=\"_blank\">docs</a>)<br/>Sweep page: <a href='https://wandb.ai/muditjindal2025/xgboost-runs/sweeps/gl79h1vt' target=\"_blank\">https://wandb.ai/muditjindal2025/xgboost-runs/sweeps/gl79h1vt</a>"
            ],
            "text/plain": [
              "<IPython.core.display.HTML object>"
            ]
          },
          "metadata": {},
          "output_type": "display_data"
        },
        {
          "data": {
            "text/html": [
              " View project at <a href='https://wandb.ai/muditjindal2025/xgboost-runs' target=\"_blank\">https://wandb.ai/muditjindal2025/xgboost-runs</a>"
            ],
            "text/plain": [
              "<IPython.core.display.HTML object>"
            ]
          },
          "metadata": {},
          "output_type": "display_data"
        },
        {
          "data": {
            "text/html": [
              " View sweep at <a href='https://wandb.ai/muditjindal2025/xgboost-runs/sweeps/gl79h1vt' target=\"_blank\">https://wandb.ai/muditjindal2025/xgboost-runs/sweeps/gl79h1vt</a>"
            ],
            "text/plain": [
              "<IPython.core.display.HTML object>"
            ]
          },
          "metadata": {},
          "output_type": "display_data"
        },
        {
          "data": {
            "text/html": [
              " View run at <a href='https://wandb.ai/muditjindal2025/xgboost-runs/runs/c90sp8d2' target=\"_blank\">https://wandb.ai/muditjindal2025/xgboost-runs/runs/c90sp8d2</a>"
            ],
            "text/plain": [
              "<IPython.core.display.HTML object>"
            ]
          },
          "metadata": {},
          "output_type": "display_data"
        },
        {
          "name": "stdout",
          "output_type": "stream",
          "text": [
            "[0]\ttrain-rmse:3604.26113\tvalidation-rmse:3601.39989\n",
            "[100]\ttrain-rmse:317.85304\tvalidation-rmse:539.08548\n",
            "[200]\ttrain-rmse:250.53551\tvalidation-rmse:543.48778\n",
            "[300]\ttrain-rmse:202.67321\tvalidation-rmse:546.39809\n",
            "[400]\ttrain-rmse:168.31369\tvalidation-rmse:549.84358\n",
            "[500]\ttrain-rmse:144.16309\tvalidation-rmse:551.38490\n",
            "[600]\ttrain-rmse:124.37635\tvalidation-rmse:552.65455\n",
            "[700]\ttrain-rmse:108.49353\tvalidation-rmse:553.69582\n",
            "[800]\ttrain-rmse:94.44166\tvalidation-rmse:554.54039\n",
            "[900]\ttrain-rmse:84.33308\tvalidation-rmse:555.12208\n",
            "[999]\ttrain-rmse:73.97827\tvalidation-rmse:555.90833\n",
            "RMSE Test: 555.9083290529128\n"
          ]
        },
        {
          "data": {
            "application/vnd.jupyter.widget-view+json": {
              "model_id": "e916522bc861489eac45e3cdfe3a168d",
              "version_major": 2,
              "version_minor": 0
            },
            "text/plain": [
              "VBox(children=(Label(value='28.377 MB of 28.377 MB uploaded\\r'), FloatProgress(value=1.0, max=1.0)))"
            ]
          },
          "metadata": {},
          "output_type": "display_data"
        },
        {
          "data": {
            "text/html": [
              "<style>\n",
              "    table.wandb td:nth-child(1) { padding: 0 10px; text-align: left ; width: auto;} td:nth-child(2) {text-align: left ; width: 100%}\n",
              "    .wandb-row { display: flex; flex-direction: row; flex-wrap: wrap; justify-content: flex-start; width: 100% }\n",
              "    .wandb-col { display: flex; flex-direction: column; flex-basis: 100%; flex: 1; padding: 10px; }\n",
              "    </style>\n",
              "<div class=\"wandb-row\"><div class=\"wandb-col\"><h3>Run history:</h3><br/><table class=\"wandb\"><tr><td>epoch</td><td>▁▁▁▂▂▂▂▂▂▃▃▃▃▃▄▄▄▄▄▄▅▅▅▅▅▅▆▆▆▆▆▇▇▇▇▇▇███</td></tr><tr><td>train-rmse</td><td>█▃▂▂▂▂▂▂▂▂▂▂▂▁▁▁▁▁▁▁▁▁▁▁▁▁▁▁▁▁▁▁▁▁▁▁▁▁▁▁</td></tr><tr><td>validation-rmse</td><td>█▁▁▁▁▁▁▁▁▁▁▁▁▁▁▁▁▁▁▁▁▁▁▁▁▁▁▁▁▁▁▁▁▁▁▁▁▁▁▁</td></tr></table><br/></div><div class=\"wandb-col\"><h3>Run summary:</h3><br/><table class=\"wandb\"><tr><td>epoch</td><td>999</td></tr></table><br/></div></div>"
            ],
            "text/plain": [
              "<IPython.core.display.HTML object>"
            ]
          },
          "metadata": {},
          "output_type": "display_data"
        },
        {
          "data": {
            "text/html": [
              " View run <strong style=\"color:#cdcd00\">sweep_grid</strong> at: <a href='https://wandb.ai/muditjindal2025/xgboost-runs/runs/c90sp8d2' target=\"_blank\">https://wandb.ai/muditjindal2025/xgboost-runs/runs/c90sp8d2</a><br/> View project at: <a href='https://wandb.ai/muditjindal2025/xgboost-runs' target=\"_blank\">https://wandb.ai/muditjindal2025/xgboost-runs</a><br/>Synced 6 W&B file(s), 1 media file(s), 2 artifact file(s) and 1 other file(s)"
            ],
            "text/plain": [
              "<IPython.core.display.HTML object>"
            ]
          },
          "metadata": {},
          "output_type": "display_data"
        },
        {
          "data": {
            "text/html": [
              "Find logs at: <code>./wandb/run-20240422_122217-c90sp8d2/logs</code>"
            ],
            "text/plain": [
              "<IPython.core.display.HTML object>"
            ]
          },
          "metadata": {},
          "output_type": "display_data"
        },
        {
          "name": "stderr",
          "output_type": "stream",
          "text": [
            "\u001b[34m\u001b[1mwandb\u001b[0m: Agent Starting Run: gisr5ogf with config:\n",
            "\u001b[34m\u001b[1mwandb\u001b[0m: \talpha: 5\n",
            "\u001b[34m\u001b[1mwandb\u001b[0m: \tbooster: gbtree\n",
            "\u001b[34m\u001b[1mwandb\u001b[0m: \tlearning_rate: 0.1\n",
            "\u001b[34m\u001b[1mwandb\u001b[0m: \tmax_depth: 12\n",
            "Failed to detect the name of this notebook, you can set it manually with the WANDB_NOTEBOOK_NAME environment variable to enable code saving.\n",
            "\u001b[34m\u001b[1mwandb\u001b[0m: \u001b[33mWARNING\u001b[0m Ignored wandb.init() arg project when running a sweep.\n"
          ]
        },
        {
          "data": {
            "text/html": [
              "Tracking run with wandb version 0.16.6"
            ],
            "text/plain": [
              "<IPython.core.display.HTML object>"
            ]
          },
          "metadata": {},
          "output_type": "display_data"
        },
        {
          "data": {
            "text/html": [
              "Run data is saved locally in <code>/Users/muditjindal/Downloads/wandb/run-20240422_122308-gisr5ogf</code>"
            ],
            "text/plain": [
              "<IPython.core.display.HTML object>"
            ]
          },
          "metadata": {},
          "output_type": "display_data"
        },
        {
          "data": {
            "text/html": [
              "Syncing run <strong><a href='https://wandb.ai/muditjindal2025/xgboost-runs/runs/gisr5ogf' target=\"_blank\">sweep_grid</a></strong> to <a href='https://wandb.ai/muditjindal2025/xgboost-runs' target=\"_blank\">Weights & Biases</a> (<a href='https://wandb.me/run' target=\"_blank\">docs</a>)<br/>Sweep page: <a href='https://wandb.ai/muditjindal2025/xgboost-runs/sweeps/gl79h1vt' target=\"_blank\">https://wandb.ai/muditjindal2025/xgboost-runs/sweeps/gl79h1vt</a>"
            ],
            "text/plain": [
              "<IPython.core.display.HTML object>"
            ]
          },
          "metadata": {},
          "output_type": "display_data"
        },
        {
          "data": {
            "text/html": [
              " View project at <a href='https://wandb.ai/muditjindal2025/xgboost-runs' target=\"_blank\">https://wandb.ai/muditjindal2025/xgboost-runs</a>"
            ],
            "text/plain": [
              "<IPython.core.display.HTML object>"
            ]
          },
          "metadata": {},
          "output_type": "display_data"
        },
        {
          "data": {
            "text/html": [
              " View sweep at <a href='https://wandb.ai/muditjindal2025/xgboost-runs/sweeps/gl79h1vt' target=\"_blank\">https://wandb.ai/muditjindal2025/xgboost-runs/sweeps/gl79h1vt</a>"
            ],
            "text/plain": [
              "<IPython.core.display.HTML object>"
            ]
          },
          "metadata": {},
          "output_type": "display_data"
        },
        {
          "data": {
            "text/html": [
              " View run at <a href='https://wandb.ai/muditjindal2025/xgboost-runs/runs/gisr5ogf' target=\"_blank\">https://wandb.ai/muditjindal2025/xgboost-runs/runs/gisr5ogf</a>"
            ],
            "text/plain": [
              "<IPython.core.display.HTML object>"
            ]
          },
          "metadata": {},
          "output_type": "display_data"
        },
        {
          "name": "stdout",
          "output_type": "stream",
          "text": [
            "[0]\ttrain-rmse:3603.46838\tvalidation-rmse:3600.97308\n",
            "[100]\ttrain-rmse:163.84015\tvalidation-rmse:549.77263\n",
            "[200]\ttrain-rmse:106.32424\tvalidation-rmse:554.02516\n",
            "[300]\ttrain-rmse:71.07200\tvalidation-rmse:556.45242\n",
            "[400]\ttrain-rmse:49.27642\tvalidation-rmse:557.41711\n",
            "[500]\ttrain-rmse:36.34180\tvalidation-rmse:558.02708\n",
            "[600]\ttrain-rmse:26.97127\tvalidation-rmse:558.41618\n",
            "[700]\ttrain-rmse:21.61446\tvalidation-rmse:558.63223\n",
            "[800]\ttrain-rmse:17.44035\tvalidation-rmse:558.78922\n",
            "[900]\ttrain-rmse:15.00726\tvalidation-rmse:558.88745\n",
            "[999]\ttrain-rmse:13.63550\tvalidation-rmse:558.95439\n",
            "RMSE Test: 558.9543885556158\n"
          ]
        },
        {
          "data": {
            "application/vnd.jupyter.widget-view+json": {
              "model_id": "d571a1f605464e58be1c785f7c6af94c",
              "version_major": 2,
              "version_minor": 0
            },
            "text/plain": [
              "VBox(children=(Label(value='97.604 MB of 97.604 MB uploaded\\r'), FloatProgress(value=1.0, max=1.0)))"
            ]
          },
          "metadata": {},
          "output_type": "display_data"
        },
        {
          "data": {
            "text/html": [
              "<style>\n",
              "    table.wandb td:nth-child(1) { padding: 0 10px; text-align: left ; width: auto;} td:nth-child(2) {text-align: left ; width: 100%}\n",
              "    .wandb-row { display: flex; flex-direction: row; flex-wrap: wrap; justify-content: flex-start; width: 100% }\n",
              "    .wandb-col { display: flex; flex-direction: column; flex-basis: 100%; flex: 1; padding: 10px; }\n",
              "    </style>\n",
              "<div class=\"wandb-row\"><div class=\"wandb-col\"><h3>Run history:</h3><br/><table class=\"wandb\"><tr><td>epoch</td><td>▁▁▁▂▂▂▂▂▂▃▃▃▃▃▄▄▄▄▄▄▅▅▅▅▅▅▆▆▆▆▆▇▇▇▇▇▇███</td></tr><tr><td>train-rmse</td><td>█▂▂▂▂▂▁▁▁▁▁▁▁▁▁▁▁▁▁▁▁▁▁▁▁▁▁▁▁▁▁▁▁▁▁▁▁▁▁▁</td></tr><tr><td>validation-rmse</td><td>█▁▁▁▁▁▁▁▁▁▁▁▁▁▁▁▁▁▁▁▁▁▁▁▁▁▁▁▁▁▁▁▁▁▁▁▁▁▁▁</td></tr></table><br/></div><div class=\"wandb-col\"><h3>Run summary:</h3><br/><table class=\"wandb\"><tr><td>epoch</td><td>999</td></tr></table><br/></div></div>"
            ],
            "text/plain": [
              "<IPython.core.display.HTML object>"
            ]
          },
          "metadata": {},
          "output_type": "display_data"
        },
        {
          "data": {
            "text/html": [
              " View run <strong style=\"color:#cdcd00\">sweep_grid</strong> at: <a href='https://wandb.ai/muditjindal2025/xgboost-runs/runs/gisr5ogf' target=\"_blank\">https://wandb.ai/muditjindal2025/xgboost-runs/runs/gisr5ogf</a><br/> View project at: <a href='https://wandb.ai/muditjindal2025/xgboost-runs' target=\"_blank\">https://wandb.ai/muditjindal2025/xgboost-runs</a><br/>Synced 6 W&B file(s), 1 media file(s), 2 artifact file(s) and 1 other file(s)"
            ],
            "text/plain": [
              "<IPython.core.display.HTML object>"
            ]
          },
          "metadata": {},
          "output_type": "display_data"
        },
        {
          "data": {
            "text/html": [
              "Find logs at: <code>./wandb/run-20240422_122308-gisr5ogf/logs</code>"
            ],
            "text/plain": [
              "<IPython.core.display.HTML object>"
            ]
          },
          "metadata": {},
          "output_type": "display_data"
        },
        {
          "name": "stderr",
          "output_type": "stream",
          "text": [
            "\u001b[34m\u001b[1mwandb\u001b[0m: Agent Starting Run: v3hzpwm0 with config:\n",
            "\u001b[34m\u001b[1mwandb\u001b[0m: \talpha: 10\n",
            "\u001b[34m\u001b[1mwandb\u001b[0m: \tbooster: gbtree\n",
            "\u001b[34m\u001b[1mwandb\u001b[0m: \tlearning_rate: 0.01\n",
            "\u001b[34m\u001b[1mwandb\u001b[0m: \tmax_depth: 3\n",
            "Failed to detect the name of this notebook, you can set it manually with the WANDB_NOTEBOOK_NAME environment variable to enable code saving.\n",
            "\u001b[34m\u001b[1mwandb\u001b[0m: \u001b[33mWARNING\u001b[0m Ignored wandb.init() arg project when running a sweep.\n"
          ]
        },
        {
          "data": {
            "text/html": [
              "Tracking run with wandb version 0.16.6"
            ],
            "text/plain": [
              "<IPython.core.display.HTML object>"
            ]
          },
          "metadata": {},
          "output_type": "display_data"
        },
        {
          "data": {
            "text/html": [
              "Run data is saved locally in <code>/Users/muditjindal/Downloads/wandb/run-20240422_122506-v3hzpwm0</code>"
            ],
            "text/plain": [
              "<IPython.core.display.HTML object>"
            ]
          },
          "metadata": {},
          "output_type": "display_data"
        },
        {
          "data": {
            "text/html": [
              "Syncing run <strong><a href='https://wandb.ai/muditjindal2025/xgboost-runs/runs/v3hzpwm0' target=\"_blank\">sweep_grid</a></strong> to <a href='https://wandb.ai/muditjindal2025/xgboost-runs' target=\"_blank\">Weights & Biases</a> (<a href='https://wandb.me/run' target=\"_blank\">docs</a>)<br/>Sweep page: <a href='https://wandb.ai/muditjindal2025/xgboost-runs/sweeps/gl79h1vt' target=\"_blank\">https://wandb.ai/muditjindal2025/xgboost-runs/sweeps/gl79h1vt</a>"
            ],
            "text/plain": [
              "<IPython.core.display.HTML object>"
            ]
          },
          "metadata": {},
          "output_type": "display_data"
        },
        {
          "data": {
            "text/html": [
              " View project at <a href='https://wandb.ai/muditjindal2025/xgboost-runs' target=\"_blank\">https://wandb.ai/muditjindal2025/xgboost-runs</a>"
            ],
            "text/plain": [
              "<IPython.core.display.HTML object>"
            ]
          },
          "metadata": {},
          "output_type": "display_data"
        },
        {
          "data": {
            "text/html": [
              " View sweep at <a href='https://wandb.ai/muditjindal2025/xgboost-runs/sweeps/gl79h1vt' target=\"_blank\">https://wandb.ai/muditjindal2025/xgboost-runs/sweeps/gl79h1vt</a>"
            ],
            "text/plain": [
              "<IPython.core.display.HTML object>"
            ]
          },
          "metadata": {},
          "output_type": "display_data"
        },
        {
          "data": {
            "text/html": [
              " View run at <a href='https://wandb.ai/muditjindal2025/xgboost-runs/runs/v3hzpwm0' target=\"_blank\">https://wandb.ai/muditjindal2025/xgboost-runs/runs/v3hzpwm0</a>"
            ],
            "text/plain": [
              "<IPython.core.display.HTML object>"
            ]
          },
          "metadata": {},
          "output_type": "display_data"
        },
        {
          "name": "stdout",
          "output_type": "stream",
          "text": [
            "[0]\ttrain-rmse:3954.54101\tvalidation-rmse:3951.56348\n",
            "[100]\ttrain-rmse:1832.69952\tvalidation-rmse:1819.86862\n",
            "[200]\ttrain-rmse:1136.86511\tvalidation-rmse:1122.88570\n",
            "[300]\ttrain-rmse:904.80866\tvalidation-rmse:891.45805\n",
            "[400]\ttrain-rmse:793.88200\tvalidation-rmse:782.34314\n",
            "[500]\ttrain-rmse:722.53207\tvalidation-rmse:714.78660\n",
            "[600]\ttrain-rmse:679.54233\tvalidation-rmse:674.77547\n",
            "[700]\ttrain-rmse:651.11362\tvalidation-rmse:648.79150\n",
            "[800]\ttrain-rmse:631.36450\tvalidation-rmse:631.67900\n",
            "[900]\ttrain-rmse:617.68839\tvalidation-rmse:620.61357\n",
            "[999]\ttrain-rmse:607.09832\tvalidation-rmse:611.91816\n",
            "RMSE Test: 611.9181622615226\n"
          ]
        },
        {
          "data": {
            "application/vnd.jupyter.widget-view+json": {
              "model_id": "16db974a2de84c42974907e987d59ad4",
              "version_major": 2,
              "version_minor": 0
            },
            "text/plain": [
              "VBox(children=(Label(value='1.110 MB of 1.110 MB uploaded\\r'), FloatProgress(value=1.0, max=1.0)))"
            ]
          },
          "metadata": {},
          "output_type": "display_data"
        },
        {
          "data": {
            "text/html": [
              "<style>\n",
              "    table.wandb td:nth-child(1) { padding: 0 10px; text-align: left ; width: auto;} td:nth-child(2) {text-align: left ; width: 100%}\n",
              "    .wandb-row { display: flex; flex-direction: row; flex-wrap: wrap; justify-content: flex-start; width: 100% }\n",
              "    .wandb-col { display: flex; flex-direction: column; flex-basis: 100%; flex: 1; padding: 10px; }\n",
              "    </style>\n",
              "<div class=\"wandb-row\"><div class=\"wandb-col\"><h3>Run history:</h3><br/><table class=\"wandb\"><tr><td>epoch</td><td>▁▁▁▂▂▂▂▂▂▃▃▃▃▃▄▄▄▄▄▄▅▅▅▅▅▅▆▆▆▆▆▇▇▇▇▇▇███</td></tr><tr><td>train-rmse</td><td>█▆▅▄▄▃▃▂▂▂▂▂▂▂▂▁▁▁▁▁▁▁▁▁▁▁▁▁▁▁▁▁▁▁▁▁▁▁▁▁</td></tr><tr><td>validation-rmse</td><td>█▆▅▄▄▃▃▂▂▂▂▂▂▂▁▁▁▁▁▁▁▁▁▁▁▁▁▁▁▁▁▁▁▁▁▁▁▁▁▁</td></tr></table><br/></div><div class=\"wandb-col\"><h3>Run summary:</h3><br/><table class=\"wandb\"><tr><td>epoch</td><td>999</td></tr></table><br/></div></div>"
            ],
            "text/plain": [
              "<IPython.core.display.HTML object>"
            ]
          },
          "metadata": {},
          "output_type": "display_data"
        },
        {
          "data": {
            "text/html": [
              " View run <strong style=\"color:#cdcd00\">sweep_grid</strong> at: <a href='https://wandb.ai/muditjindal2025/xgboost-runs/runs/v3hzpwm0' target=\"_blank\">https://wandb.ai/muditjindal2025/xgboost-runs/runs/v3hzpwm0</a><br/> View project at: <a href='https://wandb.ai/muditjindal2025/xgboost-runs' target=\"_blank\">https://wandb.ai/muditjindal2025/xgboost-runs</a><br/>Synced 6 W&B file(s), 1 media file(s), 2 artifact file(s) and 1 other file(s)"
            ],
            "text/plain": [
              "<IPython.core.display.HTML object>"
            ]
          },
          "metadata": {},
          "output_type": "display_data"
        },
        {
          "data": {
            "text/html": [
              "Find logs at: <code>./wandb/run-20240422_122506-v3hzpwm0/logs</code>"
            ],
            "text/plain": [
              "<IPython.core.display.HTML object>"
            ]
          },
          "metadata": {},
          "output_type": "display_data"
        },
        {
          "name": "stderr",
          "output_type": "stream",
          "text": [
            "\u001b[34m\u001b[1mwandb\u001b[0m: Agent Starting Run: gwwk2icv with config:\n",
            "\u001b[34m\u001b[1mwandb\u001b[0m: \talpha: 10\n",
            "\u001b[34m\u001b[1mwandb\u001b[0m: \tbooster: gbtree\n",
            "\u001b[34m\u001b[1mwandb\u001b[0m: \tlearning_rate: 0.01\n",
            "\u001b[34m\u001b[1mwandb\u001b[0m: \tmax_depth: 6\n",
            "Failed to detect the name of this notebook, you can set it manually with the WANDB_NOTEBOOK_NAME environment variable to enable code saving.\n",
            "\u001b[34m\u001b[1mwandb\u001b[0m: \u001b[33mWARNING\u001b[0m Ignored wandb.init() arg project when running a sweep.\n"
          ]
        },
        {
          "data": {
            "text/html": [
              "Tracking run with wandb version 0.16.6"
            ],
            "text/plain": [
              "<IPython.core.display.HTML object>"
            ]
          },
          "metadata": {},
          "output_type": "display_data"
        },
        {
          "data": {
            "text/html": [
              "Run data is saved locally in <code>/Users/muditjindal/Downloads/wandb/run-20240422_122530-gwwk2icv</code>"
            ],
            "text/plain": [
              "<IPython.core.display.HTML object>"
            ]
          },
          "metadata": {},
          "output_type": "display_data"
        },
        {
          "data": {
            "text/html": [
              "Syncing run <strong><a href='https://wandb.ai/muditjindal2025/xgboost-runs/runs/gwwk2icv' target=\"_blank\">sweep_grid</a></strong> to <a href='https://wandb.ai/muditjindal2025/xgboost-runs' target=\"_blank\">Weights & Biases</a> (<a href='https://wandb.me/run' target=\"_blank\">docs</a>)<br/>Sweep page: <a href='https://wandb.ai/muditjindal2025/xgboost-runs/sweeps/gl79h1vt' target=\"_blank\">https://wandb.ai/muditjindal2025/xgboost-runs/sweeps/gl79h1vt</a>"
            ],
            "text/plain": [
              "<IPython.core.display.HTML object>"
            ]
          },
          "metadata": {},
          "output_type": "display_data"
        },
        {
          "data": {
            "text/html": [
              " View project at <a href='https://wandb.ai/muditjindal2025/xgboost-runs' target=\"_blank\">https://wandb.ai/muditjindal2025/xgboost-runs</a>"
            ],
            "text/plain": [
              "<IPython.core.display.HTML object>"
            ]
          },
          "metadata": {},
          "output_type": "display_data"
        },
        {
          "data": {
            "text/html": [
              " View sweep at <a href='https://wandb.ai/muditjindal2025/xgboost-runs/sweeps/gl79h1vt' target=\"_blank\">https://wandb.ai/muditjindal2025/xgboost-runs/sweeps/gl79h1vt</a>"
            ],
            "text/plain": [
              "<IPython.core.display.HTML object>"
            ]
          },
          "metadata": {},
          "output_type": "display_data"
        },
        {
          "data": {
            "text/html": [
              " View run at <a href='https://wandb.ai/muditjindal2025/xgboost-runs/runs/gwwk2icv' target=\"_blank\">https://wandb.ai/muditjindal2025/xgboost-runs/runs/gwwk2icv</a>"
            ],
            "text/plain": [
              "<IPython.core.display.HTML object>"
            ]
          },
          "metadata": {},
          "output_type": "display_data"
        },
        {
          "name": "stdout",
          "output_type": "stream",
          "text": [
            "[0]\ttrain-rmse:3951.98721\tvalidation-rmse:3949.09106\n",
            "[100]\ttrain-rmse:1604.09382\tvalidation-rmse:1599.23735\n",
            "[200]\ttrain-rmse:812.25631\tvalidation-rmse:814.75529\n",
            "[300]\ttrain-rmse:584.03852\tvalidation-rmse:602.22525\n",
            "[400]\ttrain-rmse:521.93973\tvalidation-rmse:551.98724\n",
            "[500]\ttrain-rmse:498.88087\tvalidation-rmse:537.30628\n",
            "[600]\ttrain-rmse:485.47254\tvalidation-rmse:532.08943\n",
            "[700]\ttrain-rmse:473.10380\tvalidation-rmse:528.96017\n",
            "[800]\ttrain-rmse:464.49985\tvalidation-rmse:527.16432\n",
            "[900]\ttrain-rmse:456.61156\tvalidation-rmse:525.79111\n",
            "[999]\ttrain-rmse:450.18547\tvalidation-rmse:524.60603\n",
            "RMSE Test: 524.6060270021146\n"
          ]
        },
        {
          "data": {
            "application/vnd.jupyter.widget-view+json": {
              "model_id": "dc3b9b3061ba437eb1c3c9b1c73d14db",
              "version_major": 2,
              "version_minor": 0
            },
            "text/plain": [
              "VBox(children=(Label(value='6.126 MB of 6.126 MB uploaded\\r'), FloatProgress(value=1.0, max=1.0)))"
            ]
          },
          "metadata": {},
          "output_type": "display_data"
        },
        {
          "data": {
            "text/html": [
              "<style>\n",
              "    table.wandb td:nth-child(1) { padding: 0 10px; text-align: left ; width: auto;} td:nth-child(2) {text-align: left ; width: 100%}\n",
              "    .wandb-row { display: flex; flex-direction: row; flex-wrap: wrap; justify-content: flex-start; width: 100% }\n",
              "    .wandb-col { display: flex; flex-direction: column; flex-basis: 100%; flex: 1; padding: 10px; }\n",
              "    </style>\n",
              "<div class=\"wandb-row\"><div class=\"wandb-col\"><h3>Run history:</h3><br/><table class=\"wandb\"><tr><td>epoch</td><td>▁▁▁▂▂▂▂▂▂▃▃▃▃▃▄▄▄▄▄▄▅▅▅▅▅▅▆▆▆▆▆▇▇▇▇▇▇███</td></tr><tr><td>train-rmse</td><td>█▆▅▄▃▃▂▂▂▂▁▁▁▁▁▁▁▁▁▁▁▁▁▁▁▁▁▁▁▁▁▁▁▁▁▁▁▁▁▁</td></tr><tr><td>validation-rmse</td><td>█▆▅▄▃▃▂▂▂▁▁▁▁▁▁▁▁▁▁▁▁▁▁▁▁▁▁▁▁▁▁▁▁▁▁▁▁▁▁▁</td></tr></table><br/></div><div class=\"wandb-col\"><h3>Run summary:</h3><br/><table class=\"wandb\"><tr><td>epoch</td><td>999</td></tr></table><br/></div></div>"
            ],
            "text/plain": [
              "<IPython.core.display.HTML object>"
            ]
          },
          "metadata": {},
          "output_type": "display_data"
        },
        {
          "data": {
            "text/html": [
              " View run <strong style=\"color:#cdcd00\">sweep_grid</strong> at: <a href='https://wandb.ai/muditjindal2025/xgboost-runs/runs/gwwk2icv' target=\"_blank\">https://wandb.ai/muditjindal2025/xgboost-runs/runs/gwwk2icv</a><br/> View project at: <a href='https://wandb.ai/muditjindal2025/xgboost-runs' target=\"_blank\">https://wandb.ai/muditjindal2025/xgboost-runs</a><br/>Synced 6 W&B file(s), 1 media file(s), 2 artifact file(s) and 1 other file(s)"
            ],
            "text/plain": [
              "<IPython.core.display.HTML object>"
            ]
          },
          "metadata": {},
          "output_type": "display_data"
        },
        {
          "data": {
            "text/html": [
              "Find logs at: <code>./wandb/run-20240422_122530-gwwk2icv/logs</code>"
            ],
            "text/plain": [
              "<IPython.core.display.HTML object>"
            ]
          },
          "metadata": {},
          "output_type": "display_data"
        },
        {
          "name": "stderr",
          "output_type": "stream",
          "text": [
            "\u001b[34m\u001b[1mwandb\u001b[0m: Agent Starting Run: gfxj66qm with config:\n",
            "\u001b[34m\u001b[1mwandb\u001b[0m: \talpha: 10\n",
            "\u001b[34m\u001b[1mwandb\u001b[0m: \tbooster: gbtree\n",
            "\u001b[34m\u001b[1mwandb\u001b[0m: \tlearning_rate: 0.01\n",
            "\u001b[34m\u001b[1mwandb\u001b[0m: \tmax_depth: 9\n",
            "Failed to detect the name of this notebook, you can set it manually with the WANDB_NOTEBOOK_NAME environment variable to enable code saving.\n",
            "\u001b[34m\u001b[1mwandb\u001b[0m: \u001b[33mWARNING\u001b[0m Ignored wandb.init() arg project when running a sweep.\n"
          ]
        },
        {
          "data": {
            "text/html": [
              "Tracking run with wandb version 0.16.6"
            ],
            "text/plain": [
              "<IPython.core.display.HTML object>"
            ]
          },
          "metadata": {},
          "output_type": "display_data"
        },
        {
          "data": {
            "text/html": [
              "Run data is saved locally in <code>/Users/muditjindal/Downloads/wandb/run-20240422_122607-gfxj66qm</code>"
            ],
            "text/plain": [
              "<IPython.core.display.HTML object>"
            ]
          },
          "metadata": {},
          "output_type": "display_data"
        },
        {
          "data": {
            "text/html": [
              "Syncing run <strong><a href='https://wandb.ai/muditjindal2025/xgboost-runs/runs/gfxj66qm' target=\"_blank\">sweep_grid</a></strong> to <a href='https://wandb.ai/muditjindal2025/xgboost-runs' target=\"_blank\">Weights & Biases</a> (<a href='https://wandb.me/run' target=\"_blank\">docs</a>)<br/>Sweep page: <a href='https://wandb.ai/muditjindal2025/xgboost-runs/sweeps/gl79h1vt' target=\"_blank\">https://wandb.ai/muditjindal2025/xgboost-runs/sweeps/gl79h1vt</a>"
            ],
            "text/plain": [
              "<IPython.core.display.HTML object>"
            ]
          },
          "metadata": {},
          "output_type": "display_data"
        },
        {
          "data": {
            "text/html": [
              " View project at <a href='https://wandb.ai/muditjindal2025/xgboost-runs' target=\"_blank\">https://wandb.ai/muditjindal2025/xgboost-runs</a>"
            ],
            "text/plain": [
              "<IPython.core.display.HTML object>"
            ]
          },
          "metadata": {},
          "output_type": "display_data"
        },
        {
          "data": {
            "text/html": [
              " View sweep at <a href='https://wandb.ai/muditjindal2025/xgboost-runs/sweeps/gl79h1vt' target=\"_blank\">https://wandb.ai/muditjindal2025/xgboost-runs/sweeps/gl79h1vt</a>"
            ],
            "text/plain": [
              "<IPython.core.display.HTML object>"
            ]
          },
          "metadata": {},
          "output_type": "display_data"
        },
        {
          "data": {
            "text/html": [
              " View run at <a href='https://wandb.ai/muditjindal2025/xgboost-runs/runs/gfxj66qm' target=\"_blank\">https://wandb.ai/muditjindal2025/xgboost-runs/runs/gfxj66qm</a>"
            ],
            "text/plain": [
              "<IPython.core.display.HTML object>"
            ]
          },
          "metadata": {},
          "output_type": "display_data"
        },
        {
          "name": "stdout",
          "output_type": "stream",
          "text": [
            "[0]\ttrain-rmse:3951.33674\tvalidation-rmse:3948.58283\n",
            "[100]\ttrain-rmse:1548.72922\tvalidation-rmse:1555.54135\n",
            "[200]\ttrain-rmse:726.41265\tvalidation-rmse:768.56713\n",
            "[300]\ttrain-rmse:484.87961\tvalidation-rmse:572.27963\n",
            "[400]\ttrain-rmse:416.87184\tvalidation-rmse:536.98568\n",
            "[500]\ttrain-rmse:387.20139\tvalidation-rmse:531.50766\n",
            "[600]\ttrain-rmse:369.47639\tvalidation-rmse:530.94506\n",
            "[700]\ttrain-rmse:355.32732\tvalidation-rmse:530.34575\n",
            "[800]\ttrain-rmse:339.35834\tvalidation-rmse:531.39314\n",
            "[900]\ttrain-rmse:328.15646\tvalidation-rmse:532.62072\n",
            "[999]\ttrain-rmse:318.68866\tvalidation-rmse:533.44763\n",
            "RMSE Test: 533.4476256950818\n"
          ]
        },
        {
          "data": {
            "application/vnd.jupyter.widget-view+json": {
              "model_id": "b472d3a2712141a1a6c9981f56a23ac0",
              "version_major": 2,
              "version_minor": 0
            },
            "text/plain": [
              "VBox(children=(Label(value='33.663 MB of 33.663 MB uploaded\\r'), FloatProgress(value=1.0, max=1.0)))"
            ]
          },
          "metadata": {},
          "output_type": "display_data"
        },
        {
          "data": {
            "text/html": [
              "<style>\n",
              "    table.wandb td:nth-child(1) { padding: 0 10px; text-align: left ; width: auto;} td:nth-child(2) {text-align: left ; width: 100%}\n",
              "    .wandb-row { display: flex; flex-direction: row; flex-wrap: wrap; justify-content: flex-start; width: 100% }\n",
              "    .wandb-col { display: flex; flex-direction: column; flex-basis: 100%; flex: 1; padding: 10px; }\n",
              "    </style>\n",
              "<div class=\"wandb-row\"><div class=\"wandb-col\"><h3>Run history:</h3><br/><table class=\"wandb\"><tr><td>epoch</td><td>▁▁▁▂▂▂▂▂▂▃▃▃▃▃▄▄▄▄▄▄▅▅▅▅▅▅▆▆▆▆▆▇▇▇▇▇▇███</td></tr><tr><td>train-rmse</td><td>█▆▅▄▃▃▂▂▂▂▁▁▁▁▁▁▁▁▁▁▁▁▁▁▁▁▁▁▁▁▁▁▁▁▁▁▁▁▁▁</td></tr><tr><td>validation-rmse</td><td>█▆▅▄▃▃▂▂▁▁▁▁▁▁▁▁▁▁▁▁▁▁▁▁▁▁▁▁▁▁▁▁▁▁▁▁▁▁▁▁</td></tr></table><br/></div><div class=\"wandb-col\"><h3>Run summary:</h3><br/><table class=\"wandb\"><tr><td>epoch</td><td>999</td></tr></table><br/></div></div>"
            ],
            "text/plain": [
              "<IPython.core.display.HTML object>"
            ]
          },
          "metadata": {},
          "output_type": "display_data"
        },
        {
          "data": {
            "text/html": [
              " View run <strong style=\"color:#cdcd00\">sweep_grid</strong> at: <a href='https://wandb.ai/muditjindal2025/xgboost-runs/runs/gfxj66qm' target=\"_blank\">https://wandb.ai/muditjindal2025/xgboost-runs/runs/gfxj66qm</a><br/> View project at: <a href='https://wandb.ai/muditjindal2025/xgboost-runs' target=\"_blank\">https://wandb.ai/muditjindal2025/xgboost-runs</a><br/>Synced 6 W&B file(s), 1 media file(s), 2 artifact file(s) and 1 other file(s)"
            ],
            "text/plain": [
              "<IPython.core.display.HTML object>"
            ]
          },
          "metadata": {},
          "output_type": "display_data"
        },
        {
          "data": {
            "text/html": [
              "Find logs at: <code>./wandb/run-20240422_122607-gfxj66qm/logs</code>"
            ],
            "text/plain": [
              "<IPython.core.display.HTML object>"
            ]
          },
          "metadata": {},
          "output_type": "display_data"
        },
        {
          "name": "stderr",
          "output_type": "stream",
          "text": [
            "\u001b[34m\u001b[1mwandb\u001b[0m: Agent Starting Run: 2ji97ffn with config:\n",
            "\u001b[34m\u001b[1mwandb\u001b[0m: \talpha: 10\n",
            "\u001b[34m\u001b[1mwandb\u001b[0m: \tbooster: gbtree\n",
            "\u001b[34m\u001b[1mwandb\u001b[0m: \tlearning_rate: 0.01\n",
            "\u001b[34m\u001b[1mwandb\u001b[0m: \tmax_depth: 12\n",
            "Failed to detect the name of this notebook, you can set it manually with the WANDB_NOTEBOOK_NAME environment variable to enable code saving.\n",
            "\u001b[34m\u001b[1mwandb\u001b[0m: \u001b[33mWARNING\u001b[0m Ignored wandb.init() arg project when running a sweep.\n"
          ]
        },
        {
          "data": {
            "text/html": [
              "Tracking run with wandb version 0.16.6"
            ],
            "text/plain": [
              "<IPython.core.display.HTML object>"
            ]
          },
          "metadata": {},
          "output_type": "display_data"
        },
        {
          "data": {
            "text/html": [
              "Run data is saved locally in <code>/Users/muditjindal/Downloads/wandb/run-20240422_122704-2ji97ffn</code>"
            ],
            "text/plain": [
              "<IPython.core.display.HTML object>"
            ]
          },
          "metadata": {},
          "output_type": "display_data"
        },
        {
          "data": {
            "text/html": [
              "Syncing run <strong><a href='https://wandb.ai/muditjindal2025/xgboost-runs/runs/2ji97ffn' target=\"_blank\">sweep_grid</a></strong> to <a href='https://wandb.ai/muditjindal2025/xgboost-runs' target=\"_blank\">Weights & Biases</a> (<a href='https://wandb.me/run' target=\"_blank\">docs</a>)<br/>Sweep page: <a href='https://wandb.ai/muditjindal2025/xgboost-runs/sweeps/gl79h1vt' target=\"_blank\">https://wandb.ai/muditjindal2025/xgboost-runs/sweeps/gl79h1vt</a>"
            ],
            "text/plain": [
              "<IPython.core.display.HTML object>"
            ]
          },
          "metadata": {},
          "output_type": "display_data"
        },
        {
          "data": {
            "text/html": [
              " View project at <a href='https://wandb.ai/muditjindal2025/xgboost-runs' target=\"_blank\">https://wandb.ai/muditjindal2025/xgboost-runs</a>"
            ],
            "text/plain": [
              "<IPython.core.display.HTML object>"
            ]
          },
          "metadata": {},
          "output_type": "display_data"
        },
        {
          "data": {
            "text/html": [
              " View sweep at <a href='https://wandb.ai/muditjindal2025/xgboost-runs/sweeps/gl79h1vt' target=\"_blank\">https://wandb.ai/muditjindal2025/xgboost-runs/sweeps/gl79h1vt</a>"
            ],
            "text/plain": [
              "<IPython.core.display.HTML object>"
            ]
          },
          "metadata": {},
          "output_type": "display_data"
        },
        {
          "data": {
            "text/html": [
              " View run at <a href='https://wandb.ai/muditjindal2025/xgboost-runs/runs/2ji97ffn' target=\"_blank\">https://wandb.ai/muditjindal2025/xgboost-runs/runs/2ji97ffn</a>"
            ],
            "text/plain": [
              "<IPython.core.display.HTML object>"
            ]
          },
          "metadata": {},
          "output_type": "display_data"
        },
        {
          "name": "stdout",
          "output_type": "stream",
          "text": [
            "[0]\ttrain-rmse:3951.26325\tvalidation-rmse:3948.54356\n",
            "[100]\ttrain-rmse:1539.38055\tvalidation-rmse:1556.55233\n",
            "[200]\ttrain-rmse:684.57447\tvalidation-rmse:771.40674\n",
            "[300]\ttrain-rmse:392.82885\tvalidation-rmse:582.38811\n",
            "[400]\ttrain-rmse:291.10639\tvalidation-rmse:549.22195\n",
            "[500]\ttrain-rmse:243.97254\tvalidation-rmse:545.00754\n",
            "[600]\ttrain-rmse:217.91689\tvalidation-rmse:544.16456\n",
            "[700]\ttrain-rmse:199.95037\tvalidation-rmse:544.90430\n",
            "[800]\ttrain-rmse:183.96073\tvalidation-rmse:545.56136\n",
            "[900]\ttrain-rmse:172.80758\tvalidation-rmse:546.67440\n",
            "[999]\ttrain-rmse:163.51353\tvalidation-rmse:547.24331\n",
            "RMSE Test: 547.2433119136614\n"
          ]
        },
        {
          "data": {
            "application/vnd.jupyter.widget-view+json": {
              "model_id": "a835b64abb75436fbc94641d7118a0bf",
              "version_major": 2,
              "version_minor": 0
            },
            "text/plain": [
              "VBox(children=(Label(value='135.189 MB of 135.189 MB uploaded\\r'), FloatProgress(value=0.9999982575709179, max…"
            ]
          },
          "metadata": {},
          "output_type": "display_data"
        },
        {
          "data": {
            "text/html": [
              "<style>\n",
              "    table.wandb td:nth-child(1) { padding: 0 10px; text-align: left ; width: auto;} td:nth-child(2) {text-align: left ; width: 100%}\n",
              "    .wandb-row { display: flex; flex-direction: row; flex-wrap: wrap; justify-content: flex-start; width: 100% }\n",
              "    .wandb-col { display: flex; flex-direction: column; flex-basis: 100%; flex: 1; padding: 10px; }\n",
              "    </style>\n",
              "<div class=\"wandb-row\"><div class=\"wandb-col\"><h3>Run history:</h3><br/><table class=\"wandb\"><tr><td>epoch</td><td>▁▁▁▂▂▂▂▂▂▃▃▃▃▃▄▄▄▄▄▄▅▅▅▅▅▅▆▆▆▆▆▇▇▇▇▇▇███</td></tr><tr><td>train-rmse</td><td>█▆▅▄▄▃▃▂▂▂▂▂▁▁▁▁▁▁▁▁▁▁▁▁▁▁▁▁▁▁▁▁▁▁▁▁▁▁▁▁</td></tr><tr><td>validation-rmse</td><td>█▆▅▄▃▃▂▂▁▁▁▁▁▁▁▁▁▁▁▁▁▁▁▁▁▁▁▁▁▁▁▁▁▁▁▁▁▁▁▁</td></tr></table><br/></div><div class=\"wandb-col\"><h3>Run summary:</h3><br/><table class=\"wandb\"><tr><td>epoch</td><td>999</td></tr></table><br/></div></div>"
            ],
            "text/plain": [
              "<IPython.core.display.HTML object>"
            ]
          },
          "metadata": {},
          "output_type": "display_data"
        },
        {
          "data": {
            "text/html": [
              " View run <strong style=\"color:#cdcd00\">sweep_grid</strong> at: <a href='https://wandb.ai/muditjindal2025/xgboost-runs/runs/2ji97ffn' target=\"_blank\">https://wandb.ai/muditjindal2025/xgboost-runs/runs/2ji97ffn</a><br/> View project at: <a href='https://wandb.ai/muditjindal2025/xgboost-runs' target=\"_blank\">https://wandb.ai/muditjindal2025/xgboost-runs</a><br/>Synced 6 W&B file(s), 1 media file(s), 2 artifact file(s) and 1 other file(s)"
            ],
            "text/plain": [
              "<IPython.core.display.HTML object>"
            ]
          },
          "metadata": {},
          "output_type": "display_data"
        },
        {
          "data": {
            "text/html": [
              "Find logs at: <code>./wandb/run-20240422_122704-2ji97ffn/logs</code>"
            ],
            "text/plain": [
              "<IPython.core.display.HTML object>"
            ]
          },
          "metadata": {},
          "output_type": "display_data"
        },
        {
          "name": "stderr",
          "output_type": "stream",
          "text": [
            "\u001b[34m\u001b[1mwandb\u001b[0m: Agent Starting Run: gfnw9xma with config:\n",
            "\u001b[34m\u001b[1mwandb\u001b[0m: \talpha: 10\n",
            "\u001b[34m\u001b[1mwandb\u001b[0m: \tbooster: gbtree\n",
            "\u001b[34m\u001b[1mwandb\u001b[0m: \tlearning_rate: 0.05\n",
            "\u001b[34m\u001b[1mwandb\u001b[0m: \tmax_depth: 3\n",
            "Failed to detect the name of this notebook, you can set it manually with the WANDB_NOTEBOOK_NAME environment variable to enable code saving.\n",
            "\u001b[34m\u001b[1mwandb\u001b[0m: \u001b[33mWARNING\u001b[0m Ignored wandb.init() arg project when running a sweep.\n"
          ]
        },
        {
          "data": {
            "text/html": [
              "Tracking run with wandb version 0.16.6"
            ],
            "text/plain": [
              "<IPython.core.display.HTML object>"
            ]
          },
          "metadata": {},
          "output_type": "display_data"
        },
        {
          "data": {
            "text/html": [
              "Run data is saved locally in <code>/Users/muditjindal/Downloads/wandb/run-20240422_122942-gfnw9xma</code>"
            ],
            "text/plain": [
              "<IPython.core.display.HTML object>"
            ]
          },
          "metadata": {},
          "output_type": "display_data"
        },
        {
          "data": {
            "text/html": [
              "Syncing run <strong><a href='https://wandb.ai/muditjindal2025/xgboost-runs/runs/gfnw9xma' target=\"_blank\">sweep_grid</a></strong> to <a href='https://wandb.ai/muditjindal2025/xgboost-runs' target=\"_blank\">Weights & Biases</a> (<a href='https://wandb.me/run' target=\"_blank\">docs</a>)<br/>Sweep page: <a href='https://wandb.ai/muditjindal2025/xgboost-runs/sweeps/gl79h1vt' target=\"_blank\">https://wandb.ai/muditjindal2025/xgboost-runs/sweeps/gl79h1vt</a>"
            ],
            "text/plain": [
              "<IPython.core.display.HTML object>"
            ]
          },
          "metadata": {},
          "output_type": "display_data"
        },
        {
          "data": {
            "text/html": [
              " View project at <a href='https://wandb.ai/muditjindal2025/xgboost-runs' target=\"_blank\">https://wandb.ai/muditjindal2025/xgboost-runs</a>"
            ],
            "text/plain": [
              "<IPython.core.display.HTML object>"
            ]
          },
          "metadata": {},
          "output_type": "display_data"
        },
        {
          "data": {
            "text/html": [
              " View sweep at <a href='https://wandb.ai/muditjindal2025/xgboost-runs/sweeps/gl79h1vt' target=\"_blank\">https://wandb.ai/muditjindal2025/xgboost-runs/sweeps/gl79h1vt</a>"
            ],
            "text/plain": [
              "<IPython.core.display.HTML object>"
            ]
          },
          "metadata": {},
          "output_type": "display_data"
        },
        {
          "data": {
            "text/html": [
              " View run at <a href='https://wandb.ai/muditjindal2025/xgboost-runs/runs/gfnw9xma' target=\"_blank\">https://wandb.ai/muditjindal2025/xgboost-runs/runs/gfnw9xma</a>"
            ],
            "text/plain": [
              "<IPython.core.display.HTML object>"
            ]
          },
          "metadata": {},
          "output_type": "display_data"
        },
        {
          "name": "stdout",
          "output_type": "stream",
          "text": [
            "[0]\ttrain-rmse:3813.30358\tvalidation-rmse:3809.35073\n",
            "[100]\ttrain-rmse:717.04718\tvalidation-rmse:709.62978\n",
            "[200]\ttrain-rmse:606.02826\tvalidation-rmse:611.26692\n",
            "[300]\ttrain-rmse:576.31388\tvalidation-rmse:590.78057\n",
            "[400]\ttrain-rmse:561.56528\tvalidation-rmse:580.32434\n",
            "[500]\ttrain-rmse:549.20832\tvalidation-rmse:572.15634\n",
            "[600]\ttrain-rmse:538.39556\tvalidation-rmse:564.66778\n",
            "[700]\ttrain-rmse:530.73306\tvalidation-rmse:559.36964\n",
            "[800]\ttrain-rmse:523.37567\tvalidation-rmse:554.83997\n",
            "[900]\ttrain-rmse:517.02394\tvalidation-rmse:551.93072\n",
            "[999]\ttrain-rmse:511.24951\tvalidation-rmse:548.64275\n",
            "RMSE Test: 548.6427474451295\n"
          ]
        },
        {
          "data": {
            "application/vnd.jupyter.widget-view+json": {
              "model_id": "85d0daa78ebf48c6a8f76e7b40174c46",
              "version_major": 2,
              "version_minor": 0
            },
            "text/plain": [
              "VBox(children=(Label(value='1.059 MB of 1.059 MB uploaded\\r'), FloatProgress(value=1.0, max=1.0)))"
            ]
          },
          "metadata": {},
          "output_type": "display_data"
        },
        {
          "data": {
            "text/html": [
              "<style>\n",
              "    table.wandb td:nth-child(1) { padding: 0 10px; text-align: left ; width: auto;} td:nth-child(2) {text-align: left ; width: 100%}\n",
              "    .wandb-row { display: flex; flex-direction: row; flex-wrap: wrap; justify-content: flex-start; width: 100% }\n",
              "    .wandb-col { display: flex; flex-direction: column; flex-basis: 100%; flex: 1; padding: 10px; }\n",
              "    </style>\n",
              "<div class=\"wandb-row\"><div class=\"wandb-col\"><h3>Run history:</h3><br/><table class=\"wandb\"><tr><td>epoch</td><td>▁▁▁▂▂▂▂▂▂▃▃▃▃▃▄▄▄▄▄▄▅▅▅▅▅▅▆▆▆▆▆▇▇▇▇▇▇███</td></tr><tr><td>train-rmse</td><td>█▃▂▂▂▁▁▁▁▁▁▁▁▁▁▁▁▁▁▁▁▁▁▁▁▁▁▁▁▁▁▁▁▁▁▁▁▁▁▁</td></tr><tr><td>validation-rmse</td><td>█▃▂▂▁▁▁▁▁▁▁▁▁▁▁▁▁▁▁▁▁▁▁▁▁▁▁▁▁▁▁▁▁▁▁▁▁▁▁▁</td></tr></table><br/></div><div class=\"wandb-col\"><h3>Run summary:</h3><br/><table class=\"wandb\"><tr><td>epoch</td><td>999</td></tr></table><br/></div></div>"
            ],
            "text/plain": [
              "<IPython.core.display.HTML object>"
            ]
          },
          "metadata": {},
          "output_type": "display_data"
        },
        {
          "data": {
            "text/html": [
              " View run <strong style=\"color:#cdcd00\">sweep_grid</strong> at: <a href='https://wandb.ai/muditjindal2025/xgboost-runs/runs/gfnw9xma' target=\"_blank\">https://wandb.ai/muditjindal2025/xgboost-runs/runs/gfnw9xma</a><br/> View project at: <a href='https://wandb.ai/muditjindal2025/xgboost-runs' target=\"_blank\">https://wandb.ai/muditjindal2025/xgboost-runs</a><br/>Synced 6 W&B file(s), 1 media file(s), 2 artifact file(s) and 1 other file(s)"
            ],
            "text/plain": [
              "<IPython.core.display.HTML object>"
            ]
          },
          "metadata": {},
          "output_type": "display_data"
        },
        {
          "data": {
            "text/html": [
              "Find logs at: <code>./wandb/run-20240422_122942-gfnw9xma/logs</code>"
            ],
            "text/plain": [
              "<IPython.core.display.HTML object>"
            ]
          },
          "metadata": {},
          "output_type": "display_data"
        },
        {
          "name": "stderr",
          "output_type": "stream",
          "text": [
            "\u001b[34m\u001b[1mwandb\u001b[0m: Agent Starting Run: mgturqmy with config:\n",
            "\u001b[34m\u001b[1mwandb\u001b[0m: \talpha: 10\n",
            "\u001b[34m\u001b[1mwandb\u001b[0m: \tbooster: gbtree\n",
            "\u001b[34m\u001b[1mwandb\u001b[0m: \tlearning_rate: 0.05\n",
            "\u001b[34m\u001b[1mwandb\u001b[0m: \tmax_depth: 6\n",
            "Failed to detect the name of this notebook, you can set it manually with the WANDB_NOTEBOOK_NAME environment variable to enable code saving.\n",
            "\u001b[34m\u001b[1mwandb\u001b[0m: \u001b[33mWARNING\u001b[0m Ignored wandb.init() arg project when running a sweep.\n"
          ]
        },
        {
          "data": {
            "text/html": [
              "Tracking run with wandb version 0.16.6"
            ],
            "text/plain": [
              "<IPython.core.display.HTML object>"
            ]
          },
          "metadata": {},
          "output_type": "display_data"
        },
        {
          "data": {
            "text/html": [
              "Run data is saved locally in <code>/Users/muditjindal/Downloads/wandb/run-20240422_123007-mgturqmy</code>"
            ],
            "text/plain": [
              "<IPython.core.display.HTML object>"
            ]
          },
          "metadata": {},
          "output_type": "display_data"
        },
        {
          "data": {
            "text/html": [
              "Syncing run <strong><a href='https://wandb.ai/muditjindal2025/xgboost-runs/runs/mgturqmy' target=\"_blank\">sweep_grid</a></strong> to <a href='https://wandb.ai/muditjindal2025/xgboost-runs' target=\"_blank\">Weights & Biases</a> (<a href='https://wandb.me/run' target=\"_blank\">docs</a>)<br/>Sweep page: <a href='https://wandb.ai/muditjindal2025/xgboost-runs/sweeps/gl79h1vt' target=\"_blank\">https://wandb.ai/muditjindal2025/xgboost-runs/sweeps/gl79h1vt</a>"
            ],
            "text/plain": [
              "<IPython.core.display.HTML object>"
            ]
          },
          "metadata": {},
          "output_type": "display_data"
        },
        {
          "data": {
            "text/html": [
              " View project at <a href='https://wandb.ai/muditjindal2025/xgboost-runs' target=\"_blank\">https://wandb.ai/muditjindal2025/xgboost-runs</a>"
            ],
            "text/plain": [
              "<IPython.core.display.HTML object>"
            ]
          },
          "metadata": {},
          "output_type": "display_data"
        },
        {
          "data": {
            "text/html": [
              " View sweep at <a href='https://wandb.ai/muditjindal2025/xgboost-runs/sweeps/gl79h1vt' target=\"_blank\">https://wandb.ai/muditjindal2025/xgboost-runs/sweeps/gl79h1vt</a>"
            ],
            "text/plain": [
              "<IPython.core.display.HTML object>"
            ]
          },
          "metadata": {},
          "output_type": "display_data"
        },
        {
          "data": {
            "text/html": [
              " View run at <a href='https://wandb.ai/muditjindal2025/xgboost-runs/runs/mgturqmy' target=\"_blank\">https://wandb.ai/muditjindal2025/xgboost-runs/runs/mgturqmy</a>"
            ],
            "text/plain": [
              "<IPython.core.display.HTML object>"
            ]
          },
          "metadata": {},
          "output_type": "display_data"
        },
        {
          "name": "stdout",
          "output_type": "stream",
          "text": [
            "[0]\ttrain-rmse:3800.30359\tvalidation-rmse:3796.74901\n",
            "[100]\ttrain-rmse:497.66175\tvalidation-rmse:537.71004\n",
            "[200]\ttrain-rmse:450.85390\tvalidation-rmse:525.06163\n",
            "[300]\ttrain-rmse:427.61718\tvalidation-rmse:524.30089\n",
            "[400]\ttrain-rmse:407.46280\tvalidation-rmse:525.47481\n",
            "[500]\ttrain-rmse:392.76232\tvalidation-rmse:526.79089\n",
            "[600]\ttrain-rmse:378.18188\tvalidation-rmse:527.80198\n",
            "[700]\ttrain-rmse:366.33191\tvalidation-rmse:529.14195\n",
            "[800]\ttrain-rmse:356.06568\tvalidation-rmse:529.90700\n",
            "[900]\ttrain-rmse:345.63885\tvalidation-rmse:531.59033\n",
            "[999]\ttrain-rmse:335.96881\tvalidation-rmse:533.15466\n",
            "RMSE Test: 533.1546621336196\n"
          ]
        },
        {
          "data": {
            "application/vnd.jupyter.widget-view+json": {
              "model_id": "26802b247f984081bcdd414843207f27",
              "version_major": 2,
              "version_minor": 0
            },
            "text/plain": [
              "VBox(children=(Label(value='5.601 MB of 5.601 MB uploaded\\r'), FloatProgress(value=0.9999587954584422, max=1.0…"
            ]
          },
          "metadata": {},
          "output_type": "display_data"
        },
        {
          "data": {
            "text/html": [
              "<style>\n",
              "    table.wandb td:nth-child(1) { padding: 0 10px; text-align: left ; width: auto;} td:nth-child(2) {text-align: left ; width: 100%}\n",
              "    .wandb-row { display: flex; flex-direction: row; flex-wrap: wrap; justify-content: flex-start; width: 100% }\n",
              "    .wandb-col { display: flex; flex-direction: column; flex-basis: 100%; flex: 1; padding: 10px; }\n",
              "    </style>\n",
              "<div class=\"wandb-row\"><div class=\"wandb-col\"><h3>Run history:</h3><br/><table class=\"wandb\"><tr><td>epoch</td><td>▁▁▁▂▂▂▂▂▂▃▃▃▃▃▄▄▄▄▄▄▅▅▅▅▅▅▆▆▆▆▆▇▇▇▇▇▇███</td></tr><tr><td>train-rmse</td><td>█▃▂▂▁▁▁▁▁▁▁▁▁▁▁▁▁▁▁▁▁▁▁▁▁▁▁▁▁▁▁▁▁▁▁▁▁▁▁▁</td></tr><tr><td>validation-rmse</td><td>█▃▁▁▁▁▁▁▁▁▁▁▁▁▁▁▁▁▁▁▁▁▁▁▁▁▁▁▁▁▁▁▁▁▁▁▁▁▁▁</td></tr></table><br/></div><div class=\"wandb-col\"><h3>Run summary:</h3><br/><table class=\"wandb\"><tr><td>epoch</td><td>999</td></tr></table><br/></div></div>"
            ],
            "text/plain": [
              "<IPython.core.display.HTML object>"
            ]
          },
          "metadata": {},
          "output_type": "display_data"
        },
        {
          "data": {
            "text/html": [
              " View run <strong style=\"color:#cdcd00\">sweep_grid</strong> at: <a href='https://wandb.ai/muditjindal2025/xgboost-runs/runs/mgturqmy' target=\"_blank\">https://wandb.ai/muditjindal2025/xgboost-runs/runs/mgturqmy</a><br/> View project at: <a href='https://wandb.ai/muditjindal2025/xgboost-runs' target=\"_blank\">https://wandb.ai/muditjindal2025/xgboost-runs</a><br/>Synced 6 W&B file(s), 1 media file(s), 2 artifact file(s) and 1 other file(s)"
            ],
            "text/plain": [
              "<IPython.core.display.HTML object>"
            ]
          },
          "metadata": {},
          "output_type": "display_data"
        },
        {
          "data": {
            "text/html": [
              "Find logs at: <code>./wandb/run-20240422_123007-mgturqmy/logs</code>"
            ],
            "text/plain": [
              "<IPython.core.display.HTML object>"
            ]
          },
          "metadata": {},
          "output_type": "display_data"
        },
        {
          "name": "stderr",
          "output_type": "stream",
          "text": [
            "\u001b[34m\u001b[1mwandb\u001b[0m: Agent Starting Run: 8i1st3d7 with config:\n",
            "\u001b[34m\u001b[1mwandb\u001b[0m: \talpha: 10\n",
            "\u001b[34m\u001b[1mwandb\u001b[0m: \tbooster: gbtree\n",
            "\u001b[34m\u001b[1mwandb\u001b[0m: \tlearning_rate: 0.05\n",
            "\u001b[34m\u001b[1mwandb\u001b[0m: \tmax_depth: 9\n",
            "Failed to detect the name of this notebook, you can set it manually with the WANDB_NOTEBOOK_NAME environment variable to enable code saving.\n",
            "\u001b[34m\u001b[1mwandb\u001b[0m: \u001b[33mWARNING\u001b[0m Ignored wandb.init() arg project when running a sweep.\n"
          ]
        },
        {
          "data": {
            "text/html": [
              "Tracking run with wandb version 0.16.6"
            ],
            "text/plain": [
              "<IPython.core.display.HTML object>"
            ]
          },
          "metadata": {},
          "output_type": "display_data"
        },
        {
          "data": {
            "text/html": [
              "Run data is saved locally in <code>/Users/muditjindal/Downloads/wandb/run-20240422_123044-8i1st3d7</code>"
            ],
            "text/plain": [
              "<IPython.core.display.HTML object>"
            ]
          },
          "metadata": {},
          "output_type": "display_data"
        },
        {
          "data": {
            "text/html": [
              "Syncing run <strong><a href='https://wandb.ai/muditjindal2025/xgboost-runs/runs/8i1st3d7' target=\"_blank\">sweep_grid</a></strong> to <a href='https://wandb.ai/muditjindal2025/xgboost-runs' target=\"_blank\">Weights & Biases</a> (<a href='https://wandb.me/run' target=\"_blank\">docs</a>)<br/>Sweep page: <a href='https://wandb.ai/muditjindal2025/xgboost-runs/sweeps/gl79h1vt' target=\"_blank\">https://wandb.ai/muditjindal2025/xgboost-runs/sweeps/gl79h1vt</a>"
            ],
            "text/plain": [
              "<IPython.core.display.HTML object>"
            ]
          },
          "metadata": {},
          "output_type": "display_data"
        },
        {
          "data": {
            "text/html": [
              " View project at <a href='https://wandb.ai/muditjindal2025/xgboost-runs' target=\"_blank\">https://wandb.ai/muditjindal2025/xgboost-runs</a>"
            ],
            "text/plain": [
              "<IPython.core.display.HTML object>"
            ]
          },
          "metadata": {},
          "output_type": "display_data"
        },
        {
          "data": {
            "text/html": [
              " View sweep at <a href='https://wandb.ai/muditjindal2025/xgboost-runs/sweeps/gl79h1vt' target=\"_blank\">https://wandb.ai/muditjindal2025/xgboost-runs/sweeps/gl79h1vt</a>"
            ],
            "text/plain": [
              "<IPython.core.display.HTML object>"
            ]
          },
          "metadata": {},
          "output_type": "display_data"
        },
        {
          "data": {
            "text/html": [
              " View run at <a href='https://wandb.ai/muditjindal2025/xgboost-runs/runs/8i1st3d7' target=\"_blank\">https://wandb.ai/muditjindal2025/xgboost-runs/runs/8i1st3d7</a>"
            ],
            "text/plain": [
              "<IPython.core.display.HTML object>"
            ]
          },
          "metadata": {},
          "output_type": "display_data"
        },
        {
          "name": "stdout",
          "output_type": "stream",
          "text": [
            "[0]\ttrain-rmse:3796.96792\tvalidation-rmse:3794.14655\n",
            "[100]\ttrain-rmse:384.98523\tvalidation-rmse:533.72268\n",
            "[200]\ttrain-rmse:315.70026\tvalidation-rmse:537.48488\n",
            "[300]\ttrain-rmse:281.18634\tvalidation-rmse:540.54776\n",
            "[400]\ttrain-rmse:253.04342\tvalidation-rmse:542.52538\n",
            "[500]\ttrain-rmse:228.68502\tvalidation-rmse:544.86038\n",
            "[600]\ttrain-rmse:206.37841\tvalidation-rmse:547.20960\n",
            "[700]\ttrain-rmse:189.84397\tvalidation-rmse:548.77415\n",
            "[800]\ttrain-rmse:173.79325\tvalidation-rmse:550.27712\n",
            "[900]\ttrain-rmse:157.80492\tvalidation-rmse:551.05287\n",
            "[999]\ttrain-rmse:146.19303\tvalidation-rmse:552.00315\n",
            "RMSE Test: 552.0031454550631\n"
          ]
        },
        {
          "data": {
            "application/vnd.jupyter.widget-view+json": {
              "model_id": "19ca2bd73291467fb64e62581d65f862",
              "version_major": 2,
              "version_minor": 0
            },
            "text/plain": [
              "VBox(children=(Label(value='28.488 MB of 28.488 MB uploaded\\r'), FloatProgress(value=1.0, max=1.0)))"
            ]
          },
          "metadata": {},
          "output_type": "display_data"
        },
        {
          "data": {
            "text/html": [
              "<style>\n",
              "    table.wandb td:nth-child(1) { padding: 0 10px; text-align: left ; width: auto;} td:nth-child(2) {text-align: left ; width: 100%}\n",
              "    .wandb-row { display: flex; flex-direction: row; flex-wrap: wrap; justify-content: flex-start; width: 100% }\n",
              "    .wandb-col { display: flex; flex-direction: column; flex-basis: 100%; flex: 1; padding: 10px; }\n",
              "    </style>\n",
              "<div class=\"wandb-row\"><div class=\"wandb-col\"><h3>Run history:</h3><br/><table class=\"wandb\"><tr><td>epoch</td><td>▁▁▁▂▂▂▂▂▂▃▃▃▃▃▄▄▄▄▄▄▅▅▅▅▅▅▆▆▆▆▆▇▇▇▇▇▇███</td></tr><tr><td>train-rmse</td><td>█▃▂▂▂▂▂▁▁▁▁▁▁▁▁▁▁▁▁▁▁▁▁▁▁▁▁▁▁▁▁▁▁▁▁▁▁▁▁▁</td></tr><tr><td>validation-rmse</td><td>█▂▁▁▁▁▁▁▁▁▁▁▁▁▁▁▁▁▁▁▁▁▁▁▁▁▁▁▁▁▁▁▁▁▁▁▁▁▁▁</td></tr></table><br/></div><div class=\"wandb-col\"><h3>Run summary:</h3><br/><table class=\"wandb\"><tr><td>epoch</td><td>999</td></tr></table><br/></div></div>"
            ],
            "text/plain": [
              "<IPython.core.display.HTML object>"
            ]
          },
          "metadata": {},
          "output_type": "display_data"
        },
        {
          "data": {
            "text/html": [
              " View run <strong style=\"color:#cdcd00\">sweep_grid</strong> at: <a href='https://wandb.ai/muditjindal2025/xgboost-runs/runs/8i1st3d7' target=\"_blank\">https://wandb.ai/muditjindal2025/xgboost-runs/runs/8i1st3d7</a><br/> View project at: <a href='https://wandb.ai/muditjindal2025/xgboost-runs' target=\"_blank\">https://wandb.ai/muditjindal2025/xgboost-runs</a><br/>Synced 6 W&B file(s), 1 media file(s), 2 artifact file(s) and 1 other file(s)"
            ],
            "text/plain": [
              "<IPython.core.display.HTML object>"
            ]
          },
          "metadata": {},
          "output_type": "display_data"
        },
        {
          "data": {
            "text/html": [
              "Find logs at: <code>./wandb/run-20240422_123044-8i1st3d7/logs</code>"
            ],
            "text/plain": [
              "<IPython.core.display.HTML object>"
            ]
          },
          "metadata": {},
          "output_type": "display_data"
        },
        {
          "name": "stderr",
          "output_type": "stream",
          "text": [
            "\u001b[34m\u001b[1mwandb\u001b[0m: Agent Starting Run: tywy282y with config:\n",
            "\u001b[34m\u001b[1mwandb\u001b[0m: \talpha: 10\n",
            "\u001b[34m\u001b[1mwandb\u001b[0m: \tbooster: gbtree\n",
            "\u001b[34m\u001b[1mwandb\u001b[0m: \tlearning_rate: 0.05\n",
            "\u001b[34m\u001b[1mwandb\u001b[0m: \tmax_depth: 12\n",
            "Failed to detect the name of this notebook, you can set it manually with the WANDB_NOTEBOOK_NAME environment variable to enable code saving.\n",
            "\u001b[34m\u001b[1mwandb\u001b[0m: \u001b[33mWARNING\u001b[0m Ignored wandb.init() arg project when running a sweep.\n"
          ]
        },
        {
          "data": {
            "text/html": [
              "Tracking run with wandb version 0.16.6"
            ],
            "text/plain": [
              "<IPython.core.display.HTML object>"
            ]
          },
          "metadata": {},
          "output_type": "display_data"
        },
        {
          "data": {
            "text/html": [
              "Run data is saved locally in <code>/Users/muditjindal/Downloads/wandb/run-20240422_123140-tywy282y</code>"
            ],
            "text/plain": [
              "<IPython.core.display.HTML object>"
            ]
          },
          "metadata": {},
          "output_type": "display_data"
        },
        {
          "data": {
            "text/html": [
              "Syncing run <strong><a href='https://wandb.ai/muditjindal2025/xgboost-runs/runs/tywy282y' target=\"_blank\">sweep_grid</a></strong> to <a href='https://wandb.ai/muditjindal2025/xgboost-runs' target=\"_blank\">Weights & Biases</a> (<a href='https://wandb.me/run' target=\"_blank\">docs</a>)<br/>Sweep page: <a href='https://wandb.ai/muditjindal2025/xgboost-runs/sweeps/gl79h1vt' target=\"_blank\">https://wandb.ai/muditjindal2025/xgboost-runs/sweeps/gl79h1vt</a>"
            ],
            "text/plain": [
              "<IPython.core.display.HTML object>"
            ]
          },
          "metadata": {},
          "output_type": "display_data"
        },
        {
          "data": {
            "text/html": [
              " View project at <a href='https://wandb.ai/muditjindal2025/xgboost-runs' target=\"_blank\">https://wandb.ai/muditjindal2025/xgboost-runs</a>"
            ],
            "text/plain": [
              "<IPython.core.display.HTML object>"
            ]
          },
          "metadata": {},
          "output_type": "display_data"
        },
        {
          "data": {
            "text/html": [
              " View sweep at <a href='https://wandb.ai/muditjindal2025/xgboost-runs/sweeps/gl79h1vt' target=\"_blank\">https://wandb.ai/muditjindal2025/xgboost-runs/sweeps/gl79h1vt</a>"
            ],
            "text/plain": [
              "<IPython.core.display.HTML object>"
            ]
          },
          "metadata": {},
          "output_type": "display_data"
        },
        {
          "data": {
            "text/html": [
              " View run at <a href='https://wandb.ai/muditjindal2025/xgboost-runs/runs/tywy282y' target=\"_blank\">https://wandb.ai/muditjindal2025/xgboost-runs/runs/tywy282y</a>"
            ],
            "text/plain": [
              "<IPython.core.display.HTML object>"
            ]
          },
          "metadata": {},
          "output_type": "display_data"
        },
        {
          "name": "stdout",
          "output_type": "stream",
          "text": [
            "[0]\ttrain-rmse:3796.58842\tvalidation-rmse:3793.94403\n",
            "[100]\ttrain-rmse:240.36842\tvalidation-rmse:545.11370\n",
            "[200]\ttrain-rmse:167.27330\tvalidation-rmse:548.46087\n",
            "[300]\ttrain-rmse:131.91549\tvalidation-rmse:550.48970\n",
            "[400]\ttrain-rmse:110.09857\tvalidation-rmse:551.50972\n",
            "[500]\ttrain-rmse:91.22422\tvalidation-rmse:552.39763\n",
            "[600]\ttrain-rmse:74.41339\tvalidation-rmse:553.17593\n",
            "[700]\ttrain-rmse:62.78415\tvalidation-rmse:553.80169\n",
            "[800]\ttrain-rmse:52.11635\tvalidation-rmse:554.24381\n",
            "[900]\ttrain-rmse:44.30827\tvalidation-rmse:554.60464\n",
            "[999]\ttrain-rmse:37.54631\tvalidation-rmse:554.86881\n",
            "RMSE Test: 554.8688107352823\n"
          ]
        },
        {
          "data": {
            "application/vnd.jupyter.widget-view+json": {
              "model_id": "be50840286d14be2be8b3625f724ab54",
              "version_major": 2,
              "version_minor": 0
            },
            "text/plain": [
              "VBox(children=(Label(value='100.014 MB of 100.015 MB uploaded\\r'), FloatProgress(value=0.9999975684877153, max…"
            ]
          },
          "metadata": {},
          "output_type": "display_data"
        },
        {
          "data": {
            "text/html": [
              "<style>\n",
              "    table.wandb td:nth-child(1) { padding: 0 10px; text-align: left ; width: auto;} td:nth-child(2) {text-align: left ; width: 100%}\n",
              "    .wandb-row { display: flex; flex-direction: row; flex-wrap: wrap; justify-content: flex-start; width: 100% }\n",
              "    .wandb-col { display: flex; flex-direction: column; flex-basis: 100%; flex: 1; padding: 10px; }\n",
              "    </style>\n",
              "<div class=\"wandb-row\"><div class=\"wandb-col\"><h3>Run history:</h3><br/><table class=\"wandb\"><tr><td>epoch</td><td>▁▁▁▂▂▂▂▂▂▃▃▃▃▃▄▄▄▄▄▄▅▅▅▅▅▅▆▆▆▆▆▇▇▇▇▇▇███</td></tr><tr><td>train-rmse</td><td>█▃▂▂▂▁▁▁▁▁▁▁▁▁▁▁▁▁▁▁▁▁▁▁▁▁▁▁▁▁▁▁▁▁▁▁▁▁▁▁</td></tr><tr><td>validation-rmse</td><td>█▂▁▁▁▁▁▁▁▁▁▁▁▁▁▁▁▁▁▁▁▁▁▁▁▁▁▁▁▁▁▁▁▁▁▁▁▁▁▁</td></tr></table><br/></div><div class=\"wandb-col\"><h3>Run summary:</h3><br/><table class=\"wandb\"><tr><td>epoch</td><td>999</td></tr></table><br/></div></div>"
            ],
            "text/plain": [
              "<IPython.core.display.HTML object>"
            ]
          },
          "metadata": {},
          "output_type": "display_data"
        },
        {
          "data": {
            "text/html": [
              " View run <strong style=\"color:#cdcd00\">sweep_grid</strong> at: <a href='https://wandb.ai/muditjindal2025/xgboost-runs/runs/tywy282y' target=\"_blank\">https://wandb.ai/muditjindal2025/xgboost-runs/runs/tywy282y</a><br/> View project at: <a href='https://wandb.ai/muditjindal2025/xgboost-runs' target=\"_blank\">https://wandb.ai/muditjindal2025/xgboost-runs</a><br/>Synced 6 W&B file(s), 1 media file(s), 2 artifact file(s) and 1 other file(s)"
            ],
            "text/plain": [
              "<IPython.core.display.HTML object>"
            ]
          },
          "metadata": {},
          "output_type": "display_data"
        },
        {
          "data": {
            "text/html": [
              "Find logs at: <code>./wandb/run-20240422_123140-tywy282y/logs</code>"
            ],
            "text/plain": [
              "<IPython.core.display.HTML object>"
            ]
          },
          "metadata": {},
          "output_type": "display_data"
        },
        {
          "name": "stderr",
          "output_type": "stream",
          "text": [
            "\u001b[34m\u001b[1mwandb\u001b[0m: Agent Starting Run: 5lc2btr6 with config:\n",
            "\u001b[34m\u001b[1mwandb\u001b[0m: \talpha: 10\n",
            "\u001b[34m\u001b[1mwandb\u001b[0m: \tbooster: gbtree\n",
            "\u001b[34m\u001b[1mwandb\u001b[0m: \tlearning_rate: 0.1\n",
            "\u001b[34m\u001b[1mwandb\u001b[0m: \tmax_depth: 3\n",
            "Failed to detect the name of this notebook, you can set it manually with the WANDB_NOTEBOOK_NAME environment variable to enable code saving.\n",
            "\u001b[34m\u001b[1mwandb\u001b[0m: \u001b[33mWARNING\u001b[0m Ignored wandb.init() arg project when running a sweep.\n"
          ]
        },
        {
          "data": {
            "text/html": [
              "Tracking run with wandb version 0.16.6"
            ],
            "text/plain": [
              "<IPython.core.display.HTML object>"
            ]
          },
          "metadata": {},
          "output_type": "display_data"
        },
        {
          "data": {
            "text/html": [
              "Run data is saved locally in <code>/Users/muditjindal/Downloads/wandb/run-20240422_123338-5lc2btr6</code>"
            ],
            "text/plain": [
              "<IPython.core.display.HTML object>"
            ]
          },
          "metadata": {},
          "output_type": "display_data"
        },
        {
          "data": {
            "text/html": [
              "Syncing run <strong><a href='https://wandb.ai/muditjindal2025/xgboost-runs/runs/5lc2btr6' target=\"_blank\">sweep_grid</a></strong> to <a href='https://wandb.ai/muditjindal2025/xgboost-runs' target=\"_blank\">Weights & Biases</a> (<a href='https://wandb.me/run' target=\"_blank\">docs</a>)<br/>Sweep page: <a href='https://wandb.ai/muditjindal2025/xgboost-runs/sweeps/gl79h1vt' target=\"_blank\">https://wandb.ai/muditjindal2025/xgboost-runs/sweeps/gl79h1vt</a>"
            ],
            "text/plain": [
              "<IPython.core.display.HTML object>"
            ]
          },
          "metadata": {},
          "output_type": "display_data"
        },
        {
          "data": {
            "text/html": [
              " View project at <a href='https://wandb.ai/muditjindal2025/xgboost-runs' target=\"_blank\">https://wandb.ai/muditjindal2025/xgboost-runs</a>"
            ],
            "text/plain": [
              "<IPython.core.display.HTML object>"
            ]
          },
          "metadata": {},
          "output_type": "display_data"
        },
        {
          "data": {
            "text/html": [
              " View sweep at <a href='https://wandb.ai/muditjindal2025/xgboost-runs/sweeps/gl79h1vt' target=\"_blank\">https://wandb.ai/muditjindal2025/xgboost-runs/sweeps/gl79h1vt</a>"
            ],
            "text/plain": [
              "<IPython.core.display.HTML object>"
            ]
          },
          "metadata": {},
          "output_type": "display_data"
        },
        {
          "data": {
            "text/html": [
              " View run at <a href='https://wandb.ai/muditjindal2025/xgboost-runs/runs/5lc2btr6' target=\"_blank\">https://wandb.ai/muditjindal2025/xgboost-runs/runs/5lc2btr6</a>"
            ],
            "text/plain": [
              "<IPython.core.display.HTML object>"
            ]
          },
          "metadata": {},
          "output_type": "display_data"
        },
        {
          "name": "stdout",
          "output_type": "stream",
          "text": [
            "[0]\ttrain-rmse:3637.78717\tvalidation-rmse:3632.62729\n",
            "[100]\ttrain-rmse:609.17922\tvalidation-rmse:611.37605\n",
            "[200]\ttrain-rmse:561.16546\tvalidation-rmse:579.71066\n",
            "[300]\ttrain-rmse:538.84842\tvalidation-rmse:566.89469\n",
            "[400]\ttrain-rmse:524.99072\tvalidation-rmse:558.79062\n",
            "[500]\ttrain-rmse:512.80728\tvalidation-rmse:552.47459\n",
            "[600]\ttrain-rmse:501.22371\tvalidation-rmse:546.50769\n",
            "[700]\ttrain-rmse:494.03730\tvalidation-rmse:544.64643\n",
            "[800]\ttrain-rmse:488.07892\tvalidation-rmse:542.65102\n",
            "[900]\ttrain-rmse:482.48266\tvalidation-rmse:540.66710\n",
            "[999]\ttrain-rmse:477.42720\tvalidation-rmse:541.85420\n",
            "RMSE Test: 541.8541998315288\n"
          ]
        },
        {
          "data": {
            "application/vnd.jupyter.widget-view+json": {
              "model_id": "7cf0a1a58d774909949776e99131266a",
              "version_major": 2,
              "version_minor": 0
            },
            "text/plain": [
              "VBox(children=(Label(value='1.055 MB of 1.055 MB uploaded\\r'), FloatProgress(value=1.0, max=1.0)))"
            ]
          },
          "metadata": {},
          "output_type": "display_data"
        },
        {
          "data": {
            "text/html": [
              "<style>\n",
              "    table.wandb td:nth-child(1) { padding: 0 10px; text-align: left ; width: auto;} td:nth-child(2) {text-align: left ; width: 100%}\n",
              "    .wandb-row { display: flex; flex-direction: row; flex-wrap: wrap; justify-content: flex-start; width: 100% }\n",
              "    .wandb-col { display: flex; flex-direction: column; flex-basis: 100%; flex: 1; padding: 10px; }\n",
              "    </style>\n",
              "<div class=\"wandb-row\"><div class=\"wandb-col\"><h3>Run history:</h3><br/><table class=\"wandb\"><tr><td>epoch</td><td>▁▁▁▂▂▂▂▂▂▃▃▃▃▃▄▄▄▄▄▄▅▅▅▅▅▅▆▆▆▆▆▇▇▇▇▇▇███</td></tr><tr><td>train-rmse</td><td>█▃▂▂▂▁▁▁▁▁▁▁▁▁▁▁▁▁▁▁▁▁▁▁▁▁▁▁▁▁▁▁▁▁▁▁▁▁▁▁</td></tr><tr><td>validation-rmse</td><td>█▂▂▁▁▁▁▁▁▁▁▁▁▁▁▁▁▁▁▁▁▁▁▁▁▁▁▁▁▁▁▁▁▁▁▁▁▁▁▁</td></tr></table><br/></div><div class=\"wandb-col\"><h3>Run summary:</h3><br/><table class=\"wandb\"><tr><td>epoch</td><td>999</td></tr></table><br/></div></div>"
            ],
            "text/plain": [
              "<IPython.core.display.HTML object>"
            ]
          },
          "metadata": {},
          "output_type": "display_data"
        },
        {
          "data": {
            "text/html": [
              " View run <strong style=\"color:#cdcd00\">sweep_grid</strong> at: <a href='https://wandb.ai/muditjindal2025/xgboost-runs/runs/5lc2btr6' target=\"_blank\">https://wandb.ai/muditjindal2025/xgboost-runs/runs/5lc2btr6</a><br/> View project at: <a href='https://wandb.ai/muditjindal2025/xgboost-runs' target=\"_blank\">https://wandb.ai/muditjindal2025/xgboost-runs</a><br/>Synced 6 W&B file(s), 1 media file(s), 2 artifact file(s) and 1 other file(s)"
            ],
            "text/plain": [
              "<IPython.core.display.HTML object>"
            ]
          },
          "metadata": {},
          "output_type": "display_data"
        },
        {
          "data": {
            "text/html": [
              "Find logs at: <code>./wandb/run-20240422_123338-5lc2btr6/logs</code>"
            ],
            "text/plain": [
              "<IPython.core.display.HTML object>"
            ]
          },
          "metadata": {},
          "output_type": "display_data"
        },
        {
          "name": "stderr",
          "output_type": "stream",
          "text": [
            "\u001b[34m\u001b[1mwandb\u001b[0m: Agent Starting Run: 8o9ovy0m with config:\n",
            "\u001b[34m\u001b[1mwandb\u001b[0m: \talpha: 10\n",
            "\u001b[34m\u001b[1mwandb\u001b[0m: \tbooster: gbtree\n",
            "\u001b[34m\u001b[1mwandb\u001b[0m: \tlearning_rate: 0.1\n",
            "\u001b[34m\u001b[1mwandb\u001b[0m: \tmax_depth: 6\n",
            "Failed to detect the name of this notebook, you can set it manually with the WANDB_NOTEBOOK_NAME environment variable to enable code saving.\n",
            "\u001b[34m\u001b[1mwandb\u001b[0m: \u001b[33mWARNING\u001b[0m Ignored wandb.init() arg project when running a sweep.\n"
          ]
        },
        {
          "data": {
            "text/html": [
              "Tracking run with wandb version 0.16.6"
            ],
            "text/plain": [
              "<IPython.core.display.HTML object>"
            ]
          },
          "metadata": {},
          "output_type": "display_data"
        },
        {
          "data": {
            "text/html": [
              "Run data is saved locally in <code>/Users/muditjindal/Downloads/wandb/run-20240422_123408-8o9ovy0m</code>"
            ],
            "text/plain": [
              "<IPython.core.display.HTML object>"
            ]
          },
          "metadata": {},
          "output_type": "display_data"
        },
        {
          "data": {
            "text/html": [
              "Syncing run <strong><a href='https://wandb.ai/muditjindal2025/xgboost-runs/runs/8o9ovy0m' target=\"_blank\">sweep_grid</a></strong> to <a href='https://wandb.ai/muditjindal2025/xgboost-runs' target=\"_blank\">Weights & Biases</a> (<a href='https://wandb.me/run' target=\"_blank\">docs</a>)<br/>Sweep page: <a href='https://wandb.ai/muditjindal2025/xgboost-runs/sweeps/gl79h1vt' target=\"_blank\">https://wandb.ai/muditjindal2025/xgboost-runs/sweeps/gl79h1vt</a>"
            ],
            "text/plain": [
              "<IPython.core.display.HTML object>"
            ]
          },
          "metadata": {},
          "output_type": "display_data"
        },
        {
          "data": {
            "text/html": [
              " View project at <a href='https://wandb.ai/muditjindal2025/xgboost-runs' target=\"_blank\">https://wandb.ai/muditjindal2025/xgboost-runs</a>"
            ],
            "text/plain": [
              "<IPython.core.display.HTML object>"
            ]
          },
          "metadata": {},
          "output_type": "display_data"
        },
        {
          "data": {
            "text/html": [
              " View sweep at <a href='https://wandb.ai/muditjindal2025/xgboost-runs/sweeps/gl79h1vt' target=\"_blank\">https://wandb.ai/muditjindal2025/xgboost-runs/sweeps/gl79h1vt</a>"
            ],
            "text/plain": [
              "<IPython.core.display.HTML object>"
            ]
          },
          "metadata": {},
          "output_type": "display_data"
        },
        {
          "data": {
            "text/html": [
              " View run at <a href='https://wandb.ai/muditjindal2025/xgboost-runs/runs/8o9ovy0m' target=\"_blank\">https://wandb.ai/muditjindal2025/xgboost-runs/runs/8o9ovy0m</a>"
            ],
            "text/plain": [
              "<IPython.core.display.HTML object>"
            ]
          },
          "metadata": {},
          "output_type": "display_data"
        },
        {
          "name": "stdout",
          "output_type": "stream",
          "text": [
            "[0]\ttrain-rmse:3611.16240\tvalidation-rmse:3606.77494\n",
            "[100]\ttrain-rmse:453.47400\tvalidation-rmse:525.38359\n",
            "[200]\ttrain-rmse:411.55495\tvalidation-rmse:527.22639\n",
            "[300]\ttrain-rmse:380.58843\tvalidation-rmse:531.86298\n",
            "[400]\ttrain-rmse:357.34516\tvalidation-rmse:533.94345\n",
            "[500]\ttrain-rmse:334.65318\tvalidation-rmse:536.69145\n",
            "[600]\ttrain-rmse:315.77328\tvalidation-rmse:539.26014\n",
            "[700]\ttrain-rmse:300.28837\tvalidation-rmse:540.94583\n",
            "[800]\ttrain-rmse:284.86114\tvalidation-rmse:541.84219\n",
            "[900]\ttrain-rmse:270.85764\tvalidation-rmse:544.64617\n",
            "[999]\ttrain-rmse:259.92609\tvalidation-rmse:546.26420\n",
            "RMSE Test: 546.264199104068\n"
          ]
        },
        {
          "data": {
            "application/vnd.jupyter.widget-view+json": {
              "model_id": "1a9fc7ff8b9846558ef0fcbdb65631dd",
              "version_major": 2,
              "version_minor": 0
            },
            "text/plain": [
              "VBox(children=(Label(value='5.642 MB of 5.642 MB uploaded\\r'), FloatProgress(value=0.9999585887029981, max=1.0…"
            ]
          },
          "metadata": {},
          "output_type": "display_data"
        },
        {
          "data": {
            "text/html": [
              "<style>\n",
              "    table.wandb td:nth-child(1) { padding: 0 10px; text-align: left ; width: auto;} td:nth-child(2) {text-align: left ; width: 100%}\n",
              "    .wandb-row { display: flex; flex-direction: row; flex-wrap: wrap; justify-content: flex-start; width: 100% }\n",
              "    .wandb-col { display: flex; flex-direction: column; flex-basis: 100%; flex: 1; padding: 10px; }\n",
              "    </style>\n",
              "<div class=\"wandb-row\"><div class=\"wandb-col\"><h3>Run history:</h3><br/><table class=\"wandb\"><tr><td>epoch</td><td>▁▁▁▂▂▂▂▂▂▃▃▃▃▃▄▄▄▄▄▄▅▅▅▅▅▅▆▆▆▆▆▇▇▇▇▇▇███</td></tr><tr><td>train-rmse</td><td>█▂▂▂▂▂▂▂▂▂▂▂▂▁▁▁▁▁▁▁▁▁▁▁▁▁▁▁▁▁▁▁▁▁▁▁▁▁▁▁</td></tr><tr><td>validation-rmse</td><td>█▁▁▁▁▁▁▁▁▁▁▁▁▁▁▁▁▁▁▁▁▁▁▁▁▁▁▁▁▁▁▁▁▁▁▁▁▁▁▁</td></tr></table><br/></div><div class=\"wandb-col\"><h3>Run summary:</h3><br/><table class=\"wandb\"><tr><td>epoch</td><td>999</td></tr></table><br/></div></div>"
            ],
            "text/plain": [
              "<IPython.core.display.HTML object>"
            ]
          },
          "metadata": {},
          "output_type": "display_data"
        },
        {
          "data": {
            "text/html": [
              " View run <strong style=\"color:#cdcd00\">sweep_grid</strong> at: <a href='https://wandb.ai/muditjindal2025/xgboost-runs/runs/8o9ovy0m' target=\"_blank\">https://wandb.ai/muditjindal2025/xgboost-runs/runs/8o9ovy0m</a><br/> View project at: <a href='https://wandb.ai/muditjindal2025/xgboost-runs' target=\"_blank\">https://wandb.ai/muditjindal2025/xgboost-runs</a><br/>Synced 6 W&B file(s), 1 media file(s), 2 artifact file(s) and 1 other file(s)"
            ],
            "text/plain": [
              "<IPython.core.display.HTML object>"
            ]
          },
          "metadata": {},
          "output_type": "display_data"
        },
        {
          "data": {
            "text/html": [
              "Find logs at: <code>./wandb/run-20240422_123408-8o9ovy0m/logs</code>"
            ],
            "text/plain": [
              "<IPython.core.display.HTML object>"
            ]
          },
          "metadata": {},
          "output_type": "display_data"
        },
        {
          "name": "stderr",
          "output_type": "stream",
          "text": [
            "\u001b[34m\u001b[1mwandb\u001b[0m: Agent Starting Run: b4dk0ip7 with config:\n",
            "\u001b[34m\u001b[1mwandb\u001b[0m: \talpha: 10\n",
            "\u001b[34m\u001b[1mwandb\u001b[0m: \tbooster: gbtree\n",
            "\u001b[34m\u001b[1mwandb\u001b[0m: \tlearning_rate: 0.1\n",
            "\u001b[34m\u001b[1mwandb\u001b[0m: \tmax_depth: 9\n",
            "Failed to detect the name of this notebook, you can set it manually with the WANDB_NOTEBOOK_NAME environment variable to enable code saving.\n",
            "\u001b[34m\u001b[1mwandb\u001b[0m: \u001b[33mWARNING\u001b[0m Ignored wandb.init() arg project when running a sweep.\n"
          ]
        },
        {
          "data": {
            "text/html": [
              "Tracking run with wandb version 0.16.6"
            ],
            "text/plain": [
              "<IPython.core.display.HTML object>"
            ]
          },
          "metadata": {},
          "output_type": "display_data"
        },
        {
          "data": {
            "text/html": [
              "Run data is saved locally in <code>/Users/muditjindal/Downloads/wandb/run-20240422_123439-b4dk0ip7</code>"
            ],
            "text/plain": [
              "<IPython.core.display.HTML object>"
            ]
          },
          "metadata": {},
          "output_type": "display_data"
        },
        {
          "data": {
            "text/html": [
              "Syncing run <strong><a href='https://wandb.ai/muditjindal2025/xgboost-runs/runs/b4dk0ip7' target=\"_blank\">sweep_grid</a></strong> to <a href='https://wandb.ai/muditjindal2025/xgboost-runs' target=\"_blank\">Weights & Biases</a> (<a href='https://wandb.me/run' target=\"_blank\">docs</a>)<br/>Sweep page: <a href='https://wandb.ai/muditjindal2025/xgboost-runs/sweeps/gl79h1vt' target=\"_blank\">https://wandb.ai/muditjindal2025/xgboost-runs/sweeps/gl79h1vt</a>"
            ],
            "text/plain": [
              "<IPython.core.display.HTML object>"
            ]
          },
          "metadata": {},
          "output_type": "display_data"
        },
        {
          "data": {
            "text/html": [
              " View project at <a href='https://wandb.ai/muditjindal2025/xgboost-runs' target=\"_blank\">https://wandb.ai/muditjindal2025/xgboost-runs</a>"
            ],
            "text/plain": [
              "<IPython.core.display.HTML object>"
            ]
          },
          "metadata": {},
          "output_type": "display_data"
        },
        {
          "data": {
            "text/html": [
              " View sweep at <a href='https://wandb.ai/muditjindal2025/xgboost-runs/sweeps/gl79h1vt' target=\"_blank\">https://wandb.ai/muditjindal2025/xgboost-runs/sweeps/gl79h1vt</a>"
            ],
            "text/plain": [
              "<IPython.core.display.HTML object>"
            ]
          },
          "metadata": {},
          "output_type": "display_data"
        },
        {
          "data": {
            "text/html": [
              " View run at <a href='https://wandb.ai/muditjindal2025/xgboost-runs/runs/b4dk0ip7' target=\"_blank\">https://wandb.ai/muditjindal2025/xgboost-runs/runs/b4dk0ip7</a>"
            ],
            "text/plain": [
              "<IPython.core.display.HTML object>"
            ]
          },
          "metadata": {},
          "output_type": "display_data"
        },
        {
          "name": "stdout",
          "output_type": "stream",
          "text": [
            "[0]\ttrain-rmse:3604.26348\tvalidation-rmse:3601.40263\n",
            "[100]\ttrain-rmse:317.11397\tvalidation-rmse:537.70190\n",
            "[200]\ttrain-rmse:249.57390\tvalidation-rmse:542.90825\n",
            "[300]\ttrain-rmse:205.50721\tvalidation-rmse:547.23573\n",
            "[400]\ttrain-rmse:171.20924\tvalidation-rmse:549.62818\n",
            "[500]\ttrain-rmse:145.16254\tvalidation-rmse:551.56005\n",
            "[600]\ttrain-rmse:122.01464\tvalidation-rmse:553.25629\n",
            "[700]\ttrain-rmse:106.95656\tvalidation-rmse:554.15296\n",
            "[800]\ttrain-rmse:93.28205\tvalidation-rmse:555.18281\n",
            "[900]\ttrain-rmse:81.66531\tvalidation-rmse:556.07124\n",
            "[999]\ttrain-rmse:73.00716\tvalidation-rmse:556.56720\n",
            "RMSE Test: 556.5671996604539\n"
          ]
        },
        {
          "data": {
            "application/vnd.jupyter.widget-view+json": {
              "model_id": "1f85e4e369b14d6e8a398e4f37f82d57",
              "version_major": 2,
              "version_minor": 0
            },
            "text/plain": [
              "VBox(children=(Label(value='28.610 MB of 28.611 MB uploaded\\r'), FloatProgress(value=0.9999917334190302, max=1…"
            ]
          },
          "metadata": {},
          "output_type": "display_data"
        },
        {
          "data": {
            "text/html": [
              "<style>\n",
              "    table.wandb td:nth-child(1) { padding: 0 10px; text-align: left ; width: auto;} td:nth-child(2) {text-align: left ; width: 100%}\n",
              "    .wandb-row { display: flex; flex-direction: row; flex-wrap: wrap; justify-content: flex-start; width: 100% }\n",
              "    .wandb-col { display: flex; flex-direction: column; flex-basis: 100%; flex: 1; padding: 10px; }\n",
              "    </style>\n",
              "<div class=\"wandb-row\"><div class=\"wandb-col\"><h3>Run history:</h3><br/><table class=\"wandb\"><tr><td>epoch</td><td>▁▁▁▂▂▂▂▂▂▃▃▃▃▃▄▄▄▄▄▄▅▅▅▅▅▅▆▆▆▆▆▇▇▇▇▇▇███</td></tr><tr><td>train-rmse</td><td>█▃▂▂▂▂▂▂▂▂▂▂▂▁▁▁▁▁▁▁▁▁▁▁▁▁▁▁▁▁▁▁▁▁▁▁▁▁▁▁</td></tr><tr><td>validation-rmse</td><td>█▁▁▁▁▁▁▁▁▁▁▁▁▁▁▁▁▁▁▁▁▁▁▁▁▁▁▁▁▁▁▁▁▁▁▁▁▁▁▁</td></tr></table><br/></div><div class=\"wandb-col\"><h3>Run summary:</h3><br/><table class=\"wandb\"><tr><td>epoch</td><td>999</td></tr></table><br/></div></div>"
            ],
            "text/plain": [
              "<IPython.core.display.HTML object>"
            ]
          },
          "metadata": {},
          "output_type": "display_data"
        },
        {
          "data": {
            "text/html": [
              " View run <strong style=\"color:#cdcd00\">sweep_grid</strong> at: <a href='https://wandb.ai/muditjindal2025/xgboost-runs/runs/b4dk0ip7' target=\"_blank\">https://wandb.ai/muditjindal2025/xgboost-runs/runs/b4dk0ip7</a><br/> View project at: <a href='https://wandb.ai/muditjindal2025/xgboost-runs' target=\"_blank\">https://wandb.ai/muditjindal2025/xgboost-runs</a><br/>Synced 6 W&B file(s), 1 media file(s), 2 artifact file(s) and 1 other file(s)"
            ],
            "text/plain": [
              "<IPython.core.display.HTML object>"
            ]
          },
          "metadata": {},
          "output_type": "display_data"
        },
        {
          "data": {
            "text/html": [
              "Find logs at: <code>./wandb/run-20240422_123439-b4dk0ip7/logs</code>"
            ],
            "text/plain": [
              "<IPython.core.display.HTML object>"
            ]
          },
          "metadata": {},
          "output_type": "display_data"
        },
        {
          "name": "stderr",
          "output_type": "stream",
          "text": [
            "\u001b[34m\u001b[1mwandb\u001b[0m: Agent Starting Run: 5nrvnoao with config:\n",
            "\u001b[34m\u001b[1mwandb\u001b[0m: \talpha: 10\n",
            "\u001b[34m\u001b[1mwandb\u001b[0m: \tbooster: gbtree\n",
            "\u001b[34m\u001b[1mwandb\u001b[0m: \tlearning_rate: 0.1\n",
            "\u001b[34m\u001b[1mwandb\u001b[0m: \tmax_depth: 12\n",
            "Failed to detect the name of this notebook, you can set it manually with the WANDB_NOTEBOOK_NAME environment variable to enable code saving.\n",
            "\u001b[34m\u001b[1mwandb\u001b[0m: \u001b[33mWARNING\u001b[0m Ignored wandb.init() arg project when running a sweep.\n"
          ]
        },
        {
          "data": {
            "text/html": [
              "Tracking run with wandb version 0.16.6"
            ],
            "text/plain": [
              "<IPython.core.display.HTML object>"
            ]
          },
          "metadata": {},
          "output_type": "display_data"
        },
        {
          "data": {
            "text/html": [
              "Run data is saved locally in <code>/Users/muditjindal/Downloads/wandb/run-20240422_123539-5nrvnoao</code>"
            ],
            "text/plain": [
              "<IPython.core.display.HTML object>"
            ]
          },
          "metadata": {},
          "output_type": "display_data"
        },
        {
          "data": {
            "text/html": [
              "Syncing run <strong><a href='https://wandb.ai/muditjindal2025/xgboost-runs/runs/5nrvnoao' target=\"_blank\">sweep_grid</a></strong> to <a href='https://wandb.ai/muditjindal2025/xgboost-runs' target=\"_blank\">Weights & Biases</a> (<a href='https://wandb.me/run' target=\"_blank\">docs</a>)<br/>Sweep page: <a href='https://wandb.ai/muditjindal2025/xgboost-runs/sweeps/gl79h1vt' target=\"_blank\">https://wandb.ai/muditjindal2025/xgboost-runs/sweeps/gl79h1vt</a>"
            ],
            "text/plain": [
              "<IPython.core.display.HTML object>"
            ]
          },
          "metadata": {},
          "output_type": "display_data"
        },
        {
          "data": {
            "text/html": [
              " View project at <a href='https://wandb.ai/muditjindal2025/xgboost-runs' target=\"_blank\">https://wandb.ai/muditjindal2025/xgboost-runs</a>"
            ],
            "text/plain": [
              "<IPython.core.display.HTML object>"
            ]
          },
          "metadata": {},
          "output_type": "display_data"
        },
        {
          "data": {
            "text/html": [
              " View sweep at <a href='https://wandb.ai/muditjindal2025/xgboost-runs/sweeps/gl79h1vt' target=\"_blank\">https://wandb.ai/muditjindal2025/xgboost-runs/sweeps/gl79h1vt</a>"
            ],
            "text/plain": [
              "<IPython.core.display.HTML object>"
            ]
          },
          "metadata": {},
          "output_type": "display_data"
        },
        {
          "data": {
            "text/html": [
              " View run at <a href='https://wandb.ai/muditjindal2025/xgboost-runs/runs/5nrvnoao' target=\"_blank\">https://wandb.ai/muditjindal2025/xgboost-runs/runs/5nrvnoao</a>"
            ],
            "text/plain": [
              "<IPython.core.display.HTML object>"
            ]
          },
          "metadata": {},
          "output_type": "display_data"
        },
        {
          "name": "stdout",
          "output_type": "stream",
          "text": [
            "[0]\ttrain-rmse:3603.47145\tvalidation-rmse:3600.98051\n",
            "[100]\ttrain-rmse:163.05486\tvalidation-rmse:549.25543\n",
            "[200]\ttrain-rmse:103.46439\tvalidation-rmse:553.52769\n",
            "[300]\ttrain-rmse:71.45506\tvalidation-rmse:555.45751\n",
            "[400]\ttrain-rmse:50.59752\tvalidation-rmse:556.47542\n",
            "[500]\ttrain-rmse:37.10462\tvalidation-rmse:557.11638\n",
            "[600]\ttrain-rmse:28.47530\tvalidation-rmse:557.70723\n",
            "[700]\ttrain-rmse:21.93388\tvalidation-rmse:558.00798\n",
            "[800]\ttrain-rmse:17.86062\tvalidation-rmse:558.20313\n",
            "[900]\ttrain-rmse:15.33451\tvalidation-rmse:558.32738\n",
            "[999]\ttrain-rmse:14.08646\tvalidation-rmse:558.40510\n",
            "RMSE Test: 558.4051036618046\n"
          ]
        },
        {
          "data": {
            "application/vnd.jupyter.widget-view+json": {
              "model_id": "9179d3e9ce0a40b185701aa27ac491eb",
              "version_major": 2,
              "version_minor": 0
            },
            "text/plain": [
              "VBox(children=(Label(value='94.699 MB of 94.699 MB uploaded\\r'), FloatProgress(value=1.0, max=1.0)))"
            ]
          },
          "metadata": {},
          "output_type": "display_data"
        },
        {
          "data": {
            "text/html": [
              "<style>\n",
              "    table.wandb td:nth-child(1) { padding: 0 10px; text-align: left ; width: auto;} td:nth-child(2) {text-align: left ; width: 100%}\n",
              "    .wandb-row { display: flex; flex-direction: row; flex-wrap: wrap; justify-content: flex-start; width: 100% }\n",
              "    .wandb-col { display: flex; flex-direction: column; flex-basis: 100%; flex: 1; padding: 10px; }\n",
              "    </style>\n",
              "<div class=\"wandb-row\"><div class=\"wandb-col\"><h3>Run history:</h3><br/><table class=\"wandb\"><tr><td>epoch</td><td>▁▁▁▂▂▂▂▂▂▃▃▃▃▃▄▄▄▄▄▄▅▅▅▅▅▅▆▆▆▆▆▇▇▇▇▇▇███</td></tr><tr><td>train-rmse</td><td>█▂▂▂▂▂▁▁▁▁▁▁▁▁▁▁▁▁▁▁▁▁▁▁▁▁▁▁▁▁▁▁▁▁▁▁▁▁▁▁</td></tr><tr><td>validation-rmse</td><td>█▁▁▁▁▁▁▁▁▁▁▁▁▁▁▁▁▁▁▁▁▁▁▁▁▁▁▁▁▁▁▁▁▁▁▁▁▁▁▁</td></tr></table><br/></div><div class=\"wandb-col\"><h3>Run summary:</h3><br/><table class=\"wandb\"><tr><td>epoch</td><td>999</td></tr></table><br/></div></div>"
            ],
            "text/plain": [
              "<IPython.core.display.HTML object>"
            ]
          },
          "metadata": {},
          "output_type": "display_data"
        },
        {
          "data": {
            "text/html": [
              " View run <strong style=\"color:#cdcd00\">sweep_grid</strong> at: <a href='https://wandb.ai/muditjindal2025/xgboost-runs/runs/5nrvnoao' target=\"_blank\">https://wandb.ai/muditjindal2025/xgboost-runs/runs/5nrvnoao</a><br/> View project at: <a href='https://wandb.ai/muditjindal2025/xgboost-runs' target=\"_blank\">https://wandb.ai/muditjindal2025/xgboost-runs</a><br/>Synced 6 W&B file(s), 1 media file(s), 2 artifact file(s) and 1 other file(s)"
            ],
            "text/plain": [
              "<IPython.core.display.HTML object>"
            ]
          },
          "metadata": {},
          "output_type": "display_data"
        },
        {
          "data": {
            "text/html": [
              "Find logs at: <code>./wandb/run-20240422_123539-5nrvnoao/logs</code>"
            ],
            "text/plain": [
              "<IPython.core.display.HTML object>"
            ]
          },
          "metadata": {},
          "output_type": "display_data"
        },
        {
          "name": "stderr",
          "output_type": "stream",
          "text": [
            "\u001b[34m\u001b[1mwandb\u001b[0m: Agent Starting Run: ajd806k7 with config:\n",
            "\u001b[34m\u001b[1mwandb\u001b[0m: \talpha: 15\n",
            "\u001b[34m\u001b[1mwandb\u001b[0m: \tbooster: gbtree\n",
            "\u001b[34m\u001b[1mwandb\u001b[0m: \tlearning_rate: 0.01\n",
            "\u001b[34m\u001b[1mwandb\u001b[0m: \tmax_depth: 3\n",
            "Failed to detect the name of this notebook, you can set it manually with the WANDB_NOTEBOOK_NAME environment variable to enable code saving.\n",
            "\u001b[34m\u001b[1mwandb\u001b[0m: \u001b[33mWARNING\u001b[0m Ignored wandb.init() arg project when running a sweep.\n"
          ]
        },
        {
          "data": {
            "text/html": [
              "Tracking run with wandb version 0.16.6"
            ],
            "text/plain": [
              "<IPython.core.display.HTML object>"
            ]
          },
          "metadata": {},
          "output_type": "display_data"
        },
        {
          "data": {
            "text/html": [
              "Run data is saved locally in <code>/Users/muditjindal/Downloads/wandb/run-20240422_123748-ajd806k7</code>"
            ],
            "text/plain": [
              "<IPython.core.display.HTML object>"
            ]
          },
          "metadata": {},
          "output_type": "display_data"
        },
        {
          "data": {
            "text/html": [
              "Syncing run <strong><a href='https://wandb.ai/muditjindal2025/xgboost-runs/runs/ajd806k7' target=\"_blank\">sweep_grid</a></strong> to <a href='https://wandb.ai/muditjindal2025/xgboost-runs' target=\"_blank\">Weights & Biases</a> (<a href='https://wandb.me/run' target=\"_blank\">docs</a>)<br/>Sweep page: <a href='https://wandb.ai/muditjindal2025/xgboost-runs/sweeps/gl79h1vt' target=\"_blank\">https://wandb.ai/muditjindal2025/xgboost-runs/sweeps/gl79h1vt</a>"
            ],
            "text/plain": [
              "<IPython.core.display.HTML object>"
            ]
          },
          "metadata": {},
          "output_type": "display_data"
        },
        {
          "data": {
            "text/html": [
              " View project at <a href='https://wandb.ai/muditjindal2025/xgboost-runs' target=\"_blank\">https://wandb.ai/muditjindal2025/xgboost-runs</a>"
            ],
            "text/plain": [
              "<IPython.core.display.HTML object>"
            ]
          },
          "metadata": {},
          "output_type": "display_data"
        },
        {
          "data": {
            "text/html": [
              " View sweep at <a href='https://wandb.ai/muditjindal2025/xgboost-runs/sweeps/gl79h1vt' target=\"_blank\">https://wandb.ai/muditjindal2025/xgboost-runs/sweeps/gl79h1vt</a>"
            ],
            "text/plain": [
              "<IPython.core.display.HTML object>"
            ]
          },
          "metadata": {},
          "output_type": "display_data"
        },
        {
          "data": {
            "text/html": [
              " View run at <a href='https://wandb.ai/muditjindal2025/xgboost-runs/runs/ajd806k7' target=\"_blank\">https://wandb.ai/muditjindal2025/xgboost-runs/runs/ajd806k7</a>"
            ],
            "text/plain": [
              "<IPython.core.display.HTML object>"
            ]
          },
          "metadata": {},
          "output_type": "display_data"
        },
        {
          "name": "stdout",
          "output_type": "stream",
          "text": [
            "[0]\ttrain-rmse:3954.54101\tvalidation-rmse:3951.56348\n",
            "[100]\ttrain-rmse:1832.69998\tvalidation-rmse:1819.86908\n",
            "[200]\ttrain-rmse:1136.86561\tvalidation-rmse:1122.88619\n",
            "[300]\ttrain-rmse:904.80942\tvalidation-rmse:891.45887\n",
            "[400]\ttrain-rmse:793.88297\tvalidation-rmse:782.34410\n",
            "[500]\ttrain-rmse:722.53339\tvalidation-rmse:714.78765\n",
            "[600]\ttrain-rmse:679.54389\tvalidation-rmse:674.77661\n",
            "[700]\ttrain-rmse:651.09714\tvalidation-rmse:648.80248\n",
            "[800]\ttrain-rmse:631.65158\tvalidation-rmse:631.88720\n",
            "[900]\ttrain-rmse:618.16837\tvalidation-rmse:621.00523\n",
            "[999]\ttrain-rmse:607.45041\tvalidation-rmse:612.26175\n",
            "RMSE Test: 612.2617532714547\n"
          ]
        },
        {
          "data": {
            "application/vnd.jupyter.widget-view+json": {
              "model_id": "6a8160550cb6418787fdea7d7c186d4f",
              "version_major": 2,
              "version_minor": 0
            },
            "text/plain": [
              "VBox(children=(Label(value='1.110 MB of 1.110 MB uploaded\\r'), FloatProgress(value=0.9997809231297923, max=1.0…"
            ]
          },
          "metadata": {},
          "output_type": "display_data"
        },
        {
          "data": {
            "text/html": [
              "<style>\n",
              "    table.wandb td:nth-child(1) { padding: 0 10px; text-align: left ; width: auto;} td:nth-child(2) {text-align: left ; width: 100%}\n",
              "    .wandb-row { display: flex; flex-direction: row; flex-wrap: wrap; justify-content: flex-start; width: 100% }\n",
              "    .wandb-col { display: flex; flex-direction: column; flex-basis: 100%; flex: 1; padding: 10px; }\n",
              "    </style>\n",
              "<div class=\"wandb-row\"><div class=\"wandb-col\"><h3>Run history:</h3><br/><table class=\"wandb\"><tr><td>epoch</td><td>▁▁▁▂▂▂▂▂▂▃▃▃▃▃▄▄▄▄▄▄▅▅▅▅▅▅▆▆▆▆▆▇▇▇▇▇▇███</td></tr><tr><td>train-rmse</td><td>█▆▅▄▄▃▃▂▂▂▂▂▂▂▂▁▁▁▁▁▁▁▁▁▁▁▁▁▁▁▁▁▁▁▁▁▁▁▁▁</td></tr><tr><td>validation-rmse</td><td>█▆▅▄▄▃▃▂▂▂▂▂▂▂▁▁▁▁▁▁▁▁▁▁▁▁▁▁▁▁▁▁▁▁▁▁▁▁▁▁</td></tr></table><br/></div><div class=\"wandb-col\"><h3>Run summary:</h3><br/><table class=\"wandb\"><tr><td>epoch</td><td>999</td></tr></table><br/></div></div>"
            ],
            "text/plain": [
              "<IPython.core.display.HTML object>"
            ]
          },
          "metadata": {},
          "output_type": "display_data"
        },
        {
          "data": {
            "text/html": [
              " View run <strong style=\"color:#cdcd00\">sweep_grid</strong> at: <a href='https://wandb.ai/muditjindal2025/xgboost-runs/runs/ajd806k7' target=\"_blank\">https://wandb.ai/muditjindal2025/xgboost-runs/runs/ajd806k7</a><br/> View project at: <a href='https://wandb.ai/muditjindal2025/xgboost-runs' target=\"_blank\">https://wandb.ai/muditjindal2025/xgboost-runs</a><br/>Synced 6 W&B file(s), 1 media file(s), 2 artifact file(s) and 1 other file(s)"
            ],
            "text/plain": [
              "<IPython.core.display.HTML object>"
            ]
          },
          "metadata": {},
          "output_type": "display_data"
        },
        {
          "data": {
            "text/html": [
              "Find logs at: <code>./wandb/run-20240422_123748-ajd806k7/logs</code>"
            ],
            "text/plain": [
              "<IPython.core.display.HTML object>"
            ]
          },
          "metadata": {},
          "output_type": "display_data"
        }
      ],
      "source": [
        "wandb.agent(sweep_id, train, count=25)"
      ]
    },
    {
      "cell_type": "markdown",
      "metadata": {},
      "source": [
        "## XGBoost Hyperparameter Tuning Experiment\n",
        "\n",
        "In this experiment, we utilized the XGBoost machine learning framework to optimize hyperparameters aimed at minimizing the root mean square error (RMSE) on a validation dataset. Our hyperparameter tuning approach was conducted through a grid search method, evaluating various combinations of parameters.\n",
        "\n",
        "### Configuration Tested\n",
        "\n",
        "- **Booster**: Utilized gbtree (gradient boosted tree), which builds tree-based models for predictions.\n",
        "- **Max Depth**: Tested at four levels (3, 6, 9, 12) to determine how the depth of the trees affects model performance.\n",
        "- **Learning Rate**: Evaluated at three levels (0.01, 0.05, 0.1) to find the optimal step size shrinkage used to prevent overfitting.\n",
        "- **Alpha**: This L1 regularization term on weights was assessed at three levels (5, 10, 15) to help control model complexity.\n",
        "\n",
        "### Optimal Hyperparameters\n",
        "\n",
        "After conducting the grid search across all combinations of these parameters, the optimal set that emerged was:\n",
        "\n",
        "- **Alpha**: 10\n",
        "- **Learning Rate**: 0.1\n",
        "- **Max Depth**: 6\n",
        "\n",
        "This configuration yielded a validation RMSE of 524.121, indicating the most effective combination for minimizing prediction errors on our validation dataset. This optimal result will guide the model's deployment strategy and further testing phases.\n"
      ]
    }
  ],
  "metadata": {
    "accelerator": "GPU",
    "colab": {
      "gpuType": "V100",
      "machine_shape": "hm",
      "provenance": []
    },
    "kernelspec": {
      "display_name": "Python 3",
      "name": "python3"
    },
    "language_info": {
      "codemirror_mode": {
        "name": "ipython",
        "version": 3
      },
      "file_extension": ".py",
      "mimetype": "text/x-python",
      "name": "python",
      "nbconvert_exporter": "python",
      "pygments_lexer": "ipython3",
      "version": "3.10.12"
    }
  },
  "nbformat": 4,
  "nbformat_minor": 0
}
